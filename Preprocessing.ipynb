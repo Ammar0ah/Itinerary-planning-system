{
 "cells": [
  {
   "cell_type": "code",
   "execution_count": 1,
   "metadata": {},
   "outputs": [],
   "source": [
    "import nltk\n",
    "import tensorflow as tf\n",
    "import numpy as np\n",
    "import pandas as pd\n",
    "import seaborn as sns\n",
    "from sklearn.feature_extraction.text import TfidfVectorizer\n",
    "from sklearn.metrics.pairwise import linear_kernel,cosine_similarity\n",
    "import nltk\n",
    "from nltk.corpus import stopwords\n",
    "from nltk import word_tokenize,PorterStemmer\n",
    "import re\n",
    "import string\n",
    "\n"
   ]
  },
  {
   "cell_type": "code",
   "execution_count": 2,
   "metadata": {},
   "outputs": [],
   "source": [
    "df = pd.read_csv('reviews_fin.csv')\n"
   ]
  },
  {
   "cell_type": "code",
   "execution_count": 3,
   "metadata": {},
   "outputs": [
    {
     "data": {
      "text/html": [
       "<div>\n",
       "<style scoped>\n",
       "    .dataframe tbody tr th:only-of-type {\n",
       "        vertical-align: middle;\n",
       "    }\n",
       "\n",
       "    .dataframe tbody tr th {\n",
       "        vertical-align: top;\n",
       "    }\n",
       "\n",
       "    .dataframe thead th {\n",
       "        text-align: right;\n",
       "    }\n",
       "</style>\n",
       "<table border=\"1\" class=\"dataframe\">\n",
       "  <thead>\n",
       "    <tr style=\"text-align: right;\">\n",
       "      <th></th>\n",
       "      <th>name</th>\n",
       "      <th>rating</th>\n",
       "      <th>text</th>\n",
       "    </tr>\n",
       "  </thead>\n",
       "  <tbody>\n",
       "    <tr>\n",
       "      <th>0</th>\n",
       "      <td>0031 Boutique Hotel Restaurant</td>\n",
       "      <td>5.0</td>\n",
       "      <td>At 0031 you come to the right place. Everythin...</td>\n",
       "    </tr>\n",
       "    <tr>\n",
       "      <th>1</th>\n",
       "      <td>0031 Boutique Hotel Restaurant</td>\n",
       "      <td>5.0</td>\n",
       "      <td>Just came back from my trip to Cumbuco. It was...</td>\n",
       "    </tr>\n",
       "    <tr>\n",
       "      <th>2</th>\n",
       "      <td>0031 Boutique Hotel Restaurant</td>\n",
       "      <td>5.0</td>\n",
       "      <td>I was 6 weeks in Cumbuco. 0031 is the best pla...</td>\n",
       "    </tr>\n",
       "    <tr>\n",
       "      <th>3</th>\n",
       "      <td>0031 Boutique Hotel Restaurant</td>\n",
       "      <td>5.0</td>\n",
       "      <td>everything was very nice. we had a lovely stay...</td>\n",
       "    </tr>\n",
       "    <tr>\n",
       "      <th>4</th>\n",
       "      <td>0031 Boutique Hotel Restaurant</td>\n",
       "      <td>5.0</td>\n",
       "      <td>For the third time in a row we've been to this...</td>\n",
       "    </tr>\n",
       "  </tbody>\n",
       "</table>\n",
       "</div>"
      ],
      "text/plain": [
       "                             name  rating  \\\n",
       "0  0031 Boutique Hotel Restaurant     5.0   \n",
       "1  0031 Boutique Hotel Restaurant     5.0   \n",
       "2  0031 Boutique Hotel Restaurant     5.0   \n",
       "3  0031 Boutique Hotel Restaurant     5.0   \n",
       "4  0031 Boutique Hotel Restaurant     5.0   \n",
       "\n",
       "                                                text  \n",
       "0  At 0031 you come to the right place. Everythin...  \n",
       "1  Just came back from my trip to Cumbuco. It was...  \n",
       "2  I was 6 weeks in Cumbuco. 0031 is the best pla...  \n",
       "3  everything was very nice. we had a lovely stay...  \n",
       "4  For the third time in a row we've been to this...  "
      ]
     },
     "execution_count": 3,
     "metadata": {},
     "output_type": "execute_result"
    }
   ],
   "source": [
    "df.head()"
   ]
  },
  {
   "cell_type": "code",
   "execution_count": null,
   "metadata": {},
   "outputs": [],
   "source": [
    "# filter hotels names\n",
    "names = df['name']\n",
    "names.drop_duplicates(inplace=True)\n",
    "# flatten reviews\n",
    "hotels_reviews = dict()\n",
    "hotels_reviews = {k:\"\" for k in names}\n",
    "hotels_ratings = {k:0 for k in names}"
   ]
  },
  {
   "cell_type": "code",
   "execution_count": null,
   "metadata": {},
   "outputs": [],
   "source": [
    "for _,row in df.iterrows():\n",
    "    hotels_reviews[row['name']] = hotels_reviews[row['name']] +row['text']\n",
    "    hotels_ratings[row['name']] = hotels_ratings[row['name']] + row['rating']"
   ]
  },
  {
   "cell_type": "code",
   "execution_count": null,
   "metadata": {},
   "outputs": [],
   "source": [
    "ratings_df= pd.DataFrame(columns=['name','rating'],data=hotels_ratings.items())\n",
    "reviews_df = pd.DataFrame(columns=['name','review'],data=hotels_reviews.items())\n",
    "hotels_df = pd.merge(ratings_df,reviews_df,on='name')\n",
    "hotels_df.plot.hist(bins=10,alpha=1)\n",
    "\n",
    "hotels_df.shape"
   ]
  },
  {
   "cell_type": "code",
   "execution_count": null,
   "metadata": {},
   "outputs": [],
   "source": [
    "hotels_df = pd.read_csv('hotels_reviews.csv')"
   ]
  },
  {
   "cell_type": "code",
   "execution_count": null,
   "metadata": {},
   "outputs": [],
   "source": [
    "\n",
    "stop_words = set(stopwords.words(\"english\"))\n",
    "stemmer = PorterStemmer()\n",
    "def preprocess(text):\n",
    "    # Lower case\n",
    "    text = text.lower()\n",
    "    # remove punct    \n",
    "    table = str.maketrans('', '', string.punctuation)\n",
    "    text = text.translate(table)\n",
    "    text = text.split()\n",
    "    \n",
    "    # remove digits and strange symbol \n",
    "    text = [re.sub(\"(\\d+|€+)\",'',word) for word in text]\n",
    "    \n",
    "    text = \" \".join(text)\n",
    "   \n",
    "    # remove strange encoding chars\n",
    "    filters = \" \".join(filter(lambda char: char not in string.printable, text))\n",
    "    if len(filters) > 0:\n",
    "        text = re.sub(f'[{filters}*]',' ',text)\n",
    "    \n",
    "    # tokinaztion\n",
    "    text = word_tokenize(text)\n",
    "  \n",
    "    # remove stopwords and single chars\n",
    "    text = [t for t in text if t not in stop_words and len(t) > 1]\n",
    "#     lemmatizer = wordnet.WordNetLemmatizer()\n",
    "#     text = [lemmatizer.lemmatize(w) for w in text]\n",
    "#     hashtags.extend([word for word in text if \"#\" in word])\n",
    "#     stemming\n",
    "    text = [stemmer.stem(w) for w in text]\n",
    "    \n",
    "    return \" \".join(text)"
   ]
  },
  {
   "cell_type": "code",
   "execution_count": null,
   "metadata": {},
   "outputs": [],
   "source": [
    "hotels_df['review_cleaned'] = hotels_df['review'].apply(preprocess)"
   ]
  },
  {
   "cell_type": "code",
   "execution_count": null,
   "metadata": {},
   "outputs": [],
   "source": [
    "hotels_df.to_csv('hotels_reviews.csv',index=False)"
   ]
  },
  {
   "cell_type": "code",
   "execution_count": null,
   "metadata": {},
   "outputs": [],
   "source": []
  }
 ],
 "metadata": {
  "kernelspec": {
   "display_name": "Python 3",
   "language": "python",
   "name": "python3"
  },
  "language_info": {
   "codemirror_mode": {
    "name": "ipython",
    "version": 3
   },
   "file_extension": ".py",
   "mimetype": "text/x-python",
   "name": "python",
   "nbconvert_exporter": "python",
   "pygments_lexer": "ipython3",
   "version": "3.8.3"
  }
 },
 "nbformat": 4,
 "nbformat_minor": 4
}
