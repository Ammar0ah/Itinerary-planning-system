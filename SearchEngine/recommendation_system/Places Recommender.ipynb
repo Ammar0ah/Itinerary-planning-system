{
 "cells": [
  {
   "cell_type": "code",
   "execution_count": 8,
   "metadata": {},
   "outputs": [],
   "source": [
    "import nltk\n",
    "import tensorflow as tf\n",
    "import numpy as np\n",
    "import pandas as pd\n",
    "import seaborn as sns\n",
    "from sklearn.feature_extraction.text import TfidfVectorizer\n",
    "from sklearn.metrics.pairwise import linear_kernel,cosine_similarity\n",
    "import nltk\n",
    "from nltk.corpus import stopwords\n",
    "from nltk import word_tokenize,PorterStemmer\n",
    "import re\n",
    "import string\n",
    "import matplotlib.pyplot as plt"
   ]
  },
  {
   "cell_type": "markdown",
   "metadata": {},
   "source": [
    "## Places Recommender"
   ]
  },
  {
   "cell_type": "markdown",
   "metadata": {},
   "source": [
    "#### Reading Data"
   ]
  },
  {
   "cell_type": "code",
   "execution_count": 9,
   "metadata": {},
   "outputs": [],
   "source": [
    "places = pd.read_csv('../datasets/places_dataset.csv')"
   ]
  },
  {
   "cell_type": "code",
   "execution_count": 10,
   "metadata": {},
   "outputs": [
    {
     "data": {
      "text/html": [
       "<div>\n",
       "<style scoped>\n",
       "    .dataframe tbody tr th:only-of-type {\n",
       "        vertical-align: middle;\n",
       "    }\n",
       "\n",
       "    .dataframe tbody tr th {\n",
       "        vertical-align: top;\n",
       "    }\n",
       "\n",
       "    .dataframe thead th {\n",
       "        text-align: right;\n",
       "    }\n",
       "</style>\n",
       "<table border=\"1\" class=\"dataframe\">\n",
       "  <thead>\n",
       "    <tr style=\"text-align: right;\">\n",
       "      <th></th>\n",
       "      <th>city</th>\n",
       "      <th>id</th>\n",
       "      <th>name</th>\n",
       "      <th>rate</th>\n",
       "      <th>kinds</th>\n",
       "      <th>distance</th>\n",
       "      <th>coordinates</th>\n",
       "    </tr>\n",
       "  </thead>\n",
       "  <tbody>\n",
       "    <tr>\n",
       "      <th>0</th>\n",
       "      <td>istanbul</td>\n",
       "      <td>N3236233297</td>\n",
       "      <td>Column of Marcian</td>\n",
       "      <td>3</td>\n",
       "      <td>historic,monuments_and_memorials,burial_places...</td>\n",
       "      <td>185.407919</td>\n",
       "      <td>{41.015442, 28.950285}</td>\n",
       "    </tr>\n",
       "    <tr>\n",
       "      <th>1</th>\n",
       "      <td>istanbul</td>\n",
       "      <td>W329094469</td>\n",
       "      <td>Amcazade Külliyesi</td>\n",
       "      <td>1</td>\n",
       "      <td>museums,cultural,interesting_places,other_museums</td>\n",
       "      <td>245.723456</td>\n",
       "      <td>{41.015182, 28.951982}</td>\n",
       "    </tr>\n",
       "    <tr>\n",
       "      <th>2</th>\n",
       "      <td>istanbul</td>\n",
       "      <td>W329089871</td>\n",
       "      <td>Aziz Mahmud Hudayi Vakfi Gazanfer Ağa Medreses...</td>\n",
       "      <td>1</td>\n",
       "      <td>museums,cultural,interesting_places,other_museums</td>\n",
       "      <td>559.777594</td>\n",
       "      <td>{41.016342, 28.955437}</td>\n",
       "    </tr>\n",
       "    <tr>\n",
       "      <th>3</th>\n",
       "      <td>istanbul</td>\n",
       "      <td>W314677393</td>\n",
       "      <td>Reşat Nuri Sahnesi (Tiyatrosu)</td>\n",
       "      <td>1</td>\n",
       "      <td>cultural,theatres_and_entertainments,interesti...</td>\n",
       "      <td>596.409402</td>\n",
       "      <td>{41.015846, 28.956236}</td>\n",
       "    </tr>\n",
       "    <tr>\n",
       "      <th>4</th>\n",
       "      <td>istanbul</td>\n",
       "      <td>Q776353</td>\n",
       "      <td>Column of Arcadius</td>\n",
       "      <td>3</td>\n",
       "      <td>historic,cultural,urban_environment,monuments_...</td>\n",
       "      <td>868.591827</td>\n",
       "      <td>{41.007801, 28.9431}</td>\n",
       "    </tr>\n",
       "  </tbody>\n",
       "</table>\n",
       "</div>"
      ],
      "text/plain": [
       "       city           id                                               name  \\\n",
       "0  istanbul  N3236233297                                  Column of Marcian   \n",
       "1  istanbul   W329094469                                 Amcazade Külliyesi   \n",
       "2  istanbul   W329089871  Aziz Mahmud Hudayi Vakfi Gazanfer Ağa Medreses...   \n",
       "3  istanbul   W314677393                     Reşat Nuri Sahnesi (Tiyatrosu)   \n",
       "4  istanbul      Q776353                                 Column of Arcadius   \n",
       "\n",
       "   rate                                              kinds    distance  \\\n",
       "0     3  historic,monuments_and_memorials,burial_places...  185.407919   \n",
       "1     1  museums,cultural,interesting_places,other_museums  245.723456   \n",
       "2     1  museums,cultural,interesting_places,other_museums  559.777594   \n",
       "3     1  cultural,theatres_and_entertainments,interesti...  596.409402   \n",
       "4     3  historic,cultural,urban_environment,monuments_...  868.591827   \n",
       "\n",
       "              coordinates  \n",
       "0  {41.015442, 28.950285}  \n",
       "1  {41.015182, 28.951982}  \n",
       "2  {41.016342, 28.955437}  \n",
       "3  {41.015846, 28.956236}  \n",
       "4    {41.007801, 28.9431}  "
      ]
     },
     "execution_count": 10,
     "metadata": {},
     "output_type": "execute_result"
    }
   ],
   "source": [
    "places.head()"
   ]
  },
  {
   "cell_type": "code",
   "execution_count": 11,
   "metadata": {
    "scrolled": true
   },
   "outputs": [
    {
     "data": {
      "text/html": [
       "<div>\n",
       "<style scoped>\n",
       "    .dataframe tbody tr th:only-of-type {\n",
       "        vertical-align: middle;\n",
       "    }\n",
       "\n",
       "    .dataframe tbody tr th {\n",
       "        vertical-align: top;\n",
       "    }\n",
       "\n",
       "    .dataframe thead th {\n",
       "        text-align: right;\n",
       "    }\n",
       "</style>\n",
       "<table border=\"1\" class=\"dataframe\">\n",
       "  <thead>\n",
       "    <tr style=\"text-align: right;\">\n",
       "      <th></th>\n",
       "      <th>rate</th>\n",
       "      <th>distance</th>\n",
       "    </tr>\n",
       "  </thead>\n",
       "  <tbody>\n",
       "    <tr>\n",
       "      <th>count</th>\n",
       "      <td>107675.000000</td>\n",
       "      <td>107675.000000</td>\n",
       "    </tr>\n",
       "    <tr>\n",
       "      <th>mean</th>\n",
       "      <td>2.155979</td>\n",
       "      <td>61945.503180</td>\n",
       "    </tr>\n",
       "    <tr>\n",
       "      <th>std</th>\n",
       "      <td>1.995000</td>\n",
       "      <td>109206.215014</td>\n",
       "    </tr>\n",
       "    <tr>\n",
       "      <th>min</th>\n",
       "      <td>1.000000</td>\n",
       "      <td>0.099657</td>\n",
       "    </tr>\n",
       "    <tr>\n",
       "      <th>25%</th>\n",
       "      <td>1.000000</td>\n",
       "      <td>3832.815904</td>\n",
       "    </tr>\n",
       "    <tr>\n",
       "      <th>50%</th>\n",
       "      <td>1.000000</td>\n",
       "      <td>17568.157101</td>\n",
       "    </tr>\n",
       "    <tr>\n",
       "      <th>75%</th>\n",
       "      <td>3.000000</td>\n",
       "      <td>74252.355973</td>\n",
       "    </tr>\n",
       "    <tr>\n",
       "      <th>max</th>\n",
       "      <td>7.000000</td>\n",
       "      <td>997251.413754</td>\n",
       "    </tr>\n",
       "  </tbody>\n",
       "</table>\n",
       "</div>"
      ],
      "text/plain": [
       "                rate       distance\n",
       "count  107675.000000  107675.000000\n",
       "mean        2.155979   61945.503180\n",
       "std         1.995000  109206.215014\n",
       "min         1.000000       0.099657\n",
       "25%         1.000000    3832.815904\n",
       "50%         1.000000   17568.157101\n",
       "75%         3.000000   74252.355973\n",
       "max         7.000000  997251.413754"
      ]
     },
     "execution_count": 11,
     "metadata": {},
     "output_type": "execute_result"
    }
   ],
   "source": [
    "places.describe()"
   ]
  },
  {
   "cell_type": "code",
   "execution_count": 12,
   "metadata": {},
   "outputs": [
    {
     "data": {
      "text/plain": [
       "0         57\n",
       "1         57\n",
       "2         57\n",
       "3         57\n",
       "4         57\n",
       "          ..\n",
       "107670    20\n",
       "107671    20\n",
       "107672    20\n",
       "107673    20\n",
       "107674    20\n",
       "Name: city_id, Length: 107675, dtype: int64"
      ]
     },
     "execution_count": 12,
     "metadata": {},
     "output_type": "execute_result"
    }
   ],
   "source": [
    "cities_set = set(places['city'])\n",
    "cities_list = [c for c in cities_set]\n",
    "places['city_id'] = places['city'].apply(lambda city: cities_list.index(city))\n",
    "places['city_id']"
   ]
  },
  {
   "cell_type": "code",
   "execution_count": 13,
   "metadata": {
    "scrolled": true
   },
   "outputs": [
    {
     "data": {
      "text/html": [
       "<div>\n",
       "<style scoped>\n",
       "    .dataframe tbody tr th:only-of-type {\n",
       "        vertical-align: middle;\n",
       "    }\n",
       "\n",
       "    .dataframe tbody tr th {\n",
       "        vertical-align: top;\n",
       "    }\n",
       "\n",
       "    .dataframe thead th {\n",
       "        text-align: right;\n",
       "    }\n",
       "</style>\n",
       "<table border=\"1\" class=\"dataframe\">\n",
       "  <thead>\n",
       "    <tr style=\"text-align: right;\">\n",
       "      <th></th>\n",
       "      <th>city_id</th>\n",
       "    </tr>\n",
       "  </thead>\n",
       "  <tbody>\n",
       "    <tr>\n",
       "      <th>Column of Marcian</th>\n",
       "      <td>57</td>\n",
       "    </tr>\n",
       "    <tr>\n",
       "      <th>Amcazade Külliyesi</th>\n",
       "      <td>57</td>\n",
       "    </tr>\n",
       "    <tr>\n",
       "      <th>Aziz Mahmud Hudayi Vakfi Gazanfer Ağa Medresesi Egitim ve Kultur Merkezi</th>\n",
       "      <td>57</td>\n",
       "    </tr>\n",
       "    <tr>\n",
       "      <th>Reşat Nuri Sahnesi (Tiyatrosu)</th>\n",
       "      <td>57</td>\n",
       "    </tr>\n",
       "    <tr>\n",
       "      <th>Column of Arcadius</th>\n",
       "      <td>57</td>\n",
       "    </tr>\n",
       "  </tbody>\n",
       "</table>\n",
       "</div>"
      ],
      "text/plain": [
       "                                                    city_id\n",
       "Column of Marcian                                        57\n",
       "Amcazade Külliyesi                                       57\n",
       "Aziz Mahmud Hudayi Vakfi Gazanfer Ağa Medresesi...       57\n",
       "Reşat Nuri Sahnesi (Tiyatrosu)                           57\n",
       "Column of Arcadius                                       57"
      ]
     },
     "execution_count": 13,
     "metadata": {},
     "output_type": "execute_result"
    }
   ],
   "source": [
    "places_features_df = pd.DataFrame(places['city_id'])\n",
    "places_features_df = places_features_df.rename(index = places['name'])\n",
    "places_features_df.head()"
   ]
  },
  {
   "cell_type": "code",
   "execution_count": 15,
   "metadata": {},
   "outputs": [],
   "source": [
    "def extract_features(amenities,features) -> list:\n",
    "    hotel_features = []\n",
    "    col_names = pd.Index(features)\n",
    "    for i,amenity in enumerate(amenities):\n",
    "        if pd.notna(amenity):\n",
    "            feats = amenity.split(',')\n",
    "            row = np.zeros(len(features))\n",
    "            for feat in feats:\n",
    "                if feat != '':\n",
    "                    index = np.where(col_names == feat)[0][0] #index\n",
    "                    row[index] = 1\n",
    "            hotel_features.append(row)\n",
    "    return hotel_features\n"
   ]
  },
  {
   "cell_type": "code",
   "execution_count": 16,
   "metadata": {},
   "outputs": [],
   "source": [
    "p_features = set()\n",
    "places['kinds'].apply(lambda item: [p_features.add(x) for x in str(item).split(',')])\n",
    "col_names = places_features_df.columns\n",
    "places_features = extract_features(places['kinds'],p_features)"
   ]
  },
  {
   "cell_type": "code",
   "execution_count": 17,
   "metadata": {},
   "outputs": [
    {
     "data": {
      "text/html": [
       "<div>\n",
       "<style scoped>\n",
       "    .dataframe tbody tr th:only-of-type {\n",
       "        vertical-align: middle;\n",
       "    }\n",
       "\n",
       "    .dataframe tbody tr th {\n",
       "        vertical-align: top;\n",
       "    }\n",
       "\n",
       "    .dataframe thead th {\n",
       "        text-align: right;\n",
       "    }\n",
       "</style>\n",
       "<table border=\"1\" class=\"dataframe\">\n",
       "  <thead>\n",
       "    <tr style=\"text-align: right;\">\n",
       "      <th></th>\n",
       "      <th>surfing</th>\n",
       "      <th>factories</th>\n",
       "      <th>baths_and_saunas</th>\n",
       "      <th>stadiums</th>\n",
       "      <th>shops</th>\n",
       "      <th>alcohol</th>\n",
       "      <th>other_bridges</th>\n",
       "      <th>dive_spots</th>\n",
       "      <th>fountains</th>\n",
       "      <th>salt_lakes</th>\n",
       "      <th>...</th>\n",
       "      <th>bridges</th>\n",
       "      <th>crypts</th>\n",
       "      <th>synagogues</th>\n",
       "      <th>fortified_towers</th>\n",
       "      <th>necropolises</th>\n",
       "      <th>observation_towers</th>\n",
       "      <th>aquariums</th>\n",
       "      <th>resorts</th>\n",
       "      <th>aviation_museums</th>\n",
       "      <th>monuments_and_memorials</th>\n",
       "    </tr>\n",
       "  </thead>\n",
       "  <tbody>\n",
       "    <tr>\n",
       "      <th>Column of Marcian</th>\n",
       "      <td>0.0</td>\n",
       "      <td>0.0</td>\n",
       "      <td>0.0</td>\n",
       "      <td>0.0</td>\n",
       "      <td>0.0</td>\n",
       "      <td>0.0</td>\n",
       "      <td>0.0</td>\n",
       "      <td>0.0</td>\n",
       "      <td>0.0</td>\n",
       "      <td>0.0</td>\n",
       "      <td>...</td>\n",
       "      <td>0.0</td>\n",
       "      <td>0.0</td>\n",
       "      <td>0.0</td>\n",
       "      <td>0.0</td>\n",
       "      <td>0.0</td>\n",
       "      <td>0.0</td>\n",
       "      <td>0.0</td>\n",
       "      <td>0.0</td>\n",
       "      <td>0.0</td>\n",
       "      <td>1.0</td>\n",
       "    </tr>\n",
       "    <tr>\n",
       "      <th>Amcazade Külliyesi</th>\n",
       "      <td>0.0</td>\n",
       "      <td>0.0</td>\n",
       "      <td>0.0</td>\n",
       "      <td>0.0</td>\n",
       "      <td>0.0</td>\n",
       "      <td>0.0</td>\n",
       "      <td>0.0</td>\n",
       "      <td>0.0</td>\n",
       "      <td>0.0</td>\n",
       "      <td>0.0</td>\n",
       "      <td>...</td>\n",
       "      <td>0.0</td>\n",
       "      <td>0.0</td>\n",
       "      <td>0.0</td>\n",
       "      <td>0.0</td>\n",
       "      <td>0.0</td>\n",
       "      <td>0.0</td>\n",
       "      <td>0.0</td>\n",
       "      <td>0.0</td>\n",
       "      <td>0.0</td>\n",
       "      <td>0.0</td>\n",
       "    </tr>\n",
       "    <tr>\n",
       "      <th>Aziz Mahmud Hudayi Vakfi Gazanfer Ağa Medresesi Egitim ve Kultur Merkezi</th>\n",
       "      <td>0.0</td>\n",
       "      <td>0.0</td>\n",
       "      <td>0.0</td>\n",
       "      <td>0.0</td>\n",
       "      <td>0.0</td>\n",
       "      <td>0.0</td>\n",
       "      <td>0.0</td>\n",
       "      <td>0.0</td>\n",
       "      <td>0.0</td>\n",
       "      <td>0.0</td>\n",
       "      <td>...</td>\n",
       "      <td>0.0</td>\n",
       "      <td>0.0</td>\n",
       "      <td>0.0</td>\n",
       "      <td>0.0</td>\n",
       "      <td>0.0</td>\n",
       "      <td>0.0</td>\n",
       "      <td>0.0</td>\n",
       "      <td>0.0</td>\n",
       "      <td>0.0</td>\n",
       "      <td>0.0</td>\n",
       "    </tr>\n",
       "    <tr>\n",
       "      <th>Reşat Nuri Sahnesi (Tiyatrosu)</th>\n",
       "      <td>0.0</td>\n",
       "      <td>0.0</td>\n",
       "      <td>0.0</td>\n",
       "      <td>0.0</td>\n",
       "      <td>0.0</td>\n",
       "      <td>0.0</td>\n",
       "      <td>0.0</td>\n",
       "      <td>0.0</td>\n",
       "      <td>0.0</td>\n",
       "      <td>0.0</td>\n",
       "      <td>...</td>\n",
       "      <td>0.0</td>\n",
       "      <td>0.0</td>\n",
       "      <td>0.0</td>\n",
       "      <td>0.0</td>\n",
       "      <td>0.0</td>\n",
       "      <td>0.0</td>\n",
       "      <td>0.0</td>\n",
       "      <td>0.0</td>\n",
       "      <td>0.0</td>\n",
       "      <td>0.0</td>\n",
       "    </tr>\n",
       "    <tr>\n",
       "      <th>Column of Arcadius</th>\n",
       "      <td>0.0</td>\n",
       "      <td>0.0</td>\n",
       "      <td>0.0</td>\n",
       "      <td>0.0</td>\n",
       "      <td>0.0</td>\n",
       "      <td>0.0</td>\n",
       "      <td>0.0</td>\n",
       "      <td>0.0</td>\n",
       "      <td>0.0</td>\n",
       "      <td>0.0</td>\n",
       "      <td>...</td>\n",
       "      <td>0.0</td>\n",
       "      <td>0.0</td>\n",
       "      <td>0.0</td>\n",
       "      <td>0.0</td>\n",
       "      <td>0.0</td>\n",
       "      <td>0.0</td>\n",
       "      <td>0.0</td>\n",
       "      <td>0.0</td>\n",
       "      <td>0.0</td>\n",
       "      <td>1.0</td>\n",
       "    </tr>\n",
       "  </tbody>\n",
       "</table>\n",
       "<p>5 rows × 233 columns</p>\n",
       "</div>"
      ],
      "text/plain": [
       "                                                    surfing  factories  \\\n",
       "Column of Marcian                                       0.0        0.0   \n",
       "Amcazade Külliyesi                                      0.0        0.0   \n",
       "Aziz Mahmud Hudayi Vakfi Gazanfer Ağa Medresesi...      0.0        0.0   \n",
       "Reşat Nuri Sahnesi (Tiyatrosu)                          0.0        0.0   \n",
       "Column of Arcadius                                      0.0        0.0   \n",
       "\n",
       "                                                    baths_and_saunas  \\\n",
       "Column of Marcian                                                0.0   \n",
       "Amcazade Külliyesi                                               0.0   \n",
       "Aziz Mahmud Hudayi Vakfi Gazanfer Ağa Medresesi...               0.0   \n",
       "Reşat Nuri Sahnesi (Tiyatrosu)                                   0.0   \n",
       "Column of Arcadius                                               0.0   \n",
       "\n",
       "                                                    stadiums  shops  alcohol  \\\n",
       "Column of Marcian                                        0.0    0.0      0.0   \n",
       "Amcazade Külliyesi                                       0.0    0.0      0.0   \n",
       "Aziz Mahmud Hudayi Vakfi Gazanfer Ağa Medresesi...       0.0    0.0      0.0   \n",
       "Reşat Nuri Sahnesi (Tiyatrosu)                           0.0    0.0      0.0   \n",
       "Column of Arcadius                                       0.0    0.0      0.0   \n",
       "\n",
       "                                                    other_bridges  dive_spots  \\\n",
       "Column of Marcian                                             0.0         0.0   \n",
       "Amcazade Külliyesi                                            0.0         0.0   \n",
       "Aziz Mahmud Hudayi Vakfi Gazanfer Ağa Medresesi...            0.0         0.0   \n",
       "Reşat Nuri Sahnesi (Tiyatrosu)                                0.0         0.0   \n",
       "Column of Arcadius                                            0.0         0.0   \n",
       "\n",
       "                                                    fountains  salt_lakes  \\\n",
       "Column of Marcian                                         0.0         0.0   \n",
       "Amcazade Külliyesi                                        0.0         0.0   \n",
       "Aziz Mahmud Hudayi Vakfi Gazanfer Ağa Medresesi...        0.0         0.0   \n",
       "Reşat Nuri Sahnesi (Tiyatrosu)                            0.0         0.0   \n",
       "Column of Arcadius                                        0.0         0.0   \n",
       "\n",
       "                                                    ...  bridges  crypts  \\\n",
       "Column of Marcian                                   ...      0.0     0.0   \n",
       "Amcazade Külliyesi                                  ...      0.0     0.0   \n",
       "Aziz Mahmud Hudayi Vakfi Gazanfer Ağa Medresesi...  ...      0.0     0.0   \n",
       "Reşat Nuri Sahnesi (Tiyatrosu)                      ...      0.0     0.0   \n",
       "Column of Arcadius                                  ...      0.0     0.0   \n",
       "\n",
       "                                                    synagogues  \\\n",
       "Column of Marcian                                          0.0   \n",
       "Amcazade Külliyesi                                         0.0   \n",
       "Aziz Mahmud Hudayi Vakfi Gazanfer Ağa Medresesi...         0.0   \n",
       "Reşat Nuri Sahnesi (Tiyatrosu)                             0.0   \n",
       "Column of Arcadius                                         0.0   \n",
       "\n",
       "                                                    fortified_towers  \\\n",
       "Column of Marcian                                                0.0   \n",
       "Amcazade Külliyesi                                               0.0   \n",
       "Aziz Mahmud Hudayi Vakfi Gazanfer Ağa Medresesi...               0.0   \n",
       "Reşat Nuri Sahnesi (Tiyatrosu)                                   0.0   \n",
       "Column of Arcadius                                               0.0   \n",
       "\n",
       "                                                    necropolises  \\\n",
       "Column of Marcian                                            0.0   \n",
       "Amcazade Külliyesi                                           0.0   \n",
       "Aziz Mahmud Hudayi Vakfi Gazanfer Ağa Medresesi...           0.0   \n",
       "Reşat Nuri Sahnesi (Tiyatrosu)                               0.0   \n",
       "Column of Arcadius                                           0.0   \n",
       "\n",
       "                                                    observation_towers  \\\n",
       "Column of Marcian                                                  0.0   \n",
       "Amcazade Külliyesi                                                 0.0   \n",
       "Aziz Mahmud Hudayi Vakfi Gazanfer Ağa Medresesi...                 0.0   \n",
       "Reşat Nuri Sahnesi (Tiyatrosu)                                     0.0   \n",
       "Column of Arcadius                                                 0.0   \n",
       "\n",
       "                                                    aquariums  resorts  \\\n",
       "Column of Marcian                                         0.0      0.0   \n",
       "Amcazade Külliyesi                                        0.0      0.0   \n",
       "Aziz Mahmud Hudayi Vakfi Gazanfer Ağa Medresesi...        0.0      0.0   \n",
       "Reşat Nuri Sahnesi (Tiyatrosu)                            0.0      0.0   \n",
       "Column of Arcadius                                        0.0      0.0   \n",
       "\n",
       "                                                    aviation_museums  \\\n",
       "Column of Marcian                                                0.0   \n",
       "Amcazade Külliyesi                                               0.0   \n",
       "Aziz Mahmud Hudayi Vakfi Gazanfer Ağa Medresesi...               0.0   \n",
       "Reşat Nuri Sahnesi (Tiyatrosu)                                   0.0   \n",
       "Column of Arcadius                                               0.0   \n",
       "\n",
       "                                                    monuments_and_memorials  \n",
       "Column of Marcian                                                       1.0  \n",
       "Amcazade Külliyesi                                                      0.0  \n",
       "Aziz Mahmud Hudayi Vakfi Gazanfer Ağa Medresesi...                      0.0  \n",
       "Reşat Nuri Sahnesi (Tiyatrosu)                                          0.0  \n",
       "Column of Arcadius                                                      1.0  \n",
       "\n",
       "[5 rows x 233 columns]"
      ]
     },
     "execution_count": 17,
     "metadata": {},
     "output_type": "execute_result"
    }
   ],
   "source": [
    "places_features_df = pd.DataFrame(places_features,columns=p_features)\n",
    "# places_features_df.insert(loc=0,column='city_id',value=places['city_id'])\n",
    "places_features_df = places_features_df.rename(index = places['name'])\n",
    "places_features_df.head()"
   ]
  },
  {
   "cell_type": "code",
   "execution_count": 18,
   "metadata": {},
   "outputs": [],
   "source": [
    "# places_corr_matrix = places_features_df.corr()\n",
    "max_features = []\n",
    "low_prior = []\n",
    "for col in places_features_df.columns:\n",
    "    col_sum = places_features_df[col].sum()\n",
    "    if col_sum < 20:\n",
    "        low_prior.append(col)\n",
    "    else:\n",
    "        max_features.append((col,col_sum))\n",
    "    \n"
   ]
  },
  {
   "cell_type": "code",
   "execution_count": 19,
   "metadata": {},
   "outputs": [
    {
     "data": {
      "text/html": [
       "<div>\n",
       "<style scoped>\n",
       "    .dataframe tbody tr th:only-of-type {\n",
       "        vertical-align: middle;\n",
       "    }\n",
       "\n",
       "    .dataframe tbody tr th {\n",
       "        vertical-align: top;\n",
       "    }\n",
       "\n",
       "    .dataframe thead th {\n",
       "        text-align: right;\n",
       "    }\n",
       "</style>\n",
       "<table border=\"1\" class=\"dataframe\">\n",
       "  <thead>\n",
       "    <tr style=\"text-align: right;\">\n",
       "      <th></th>\n",
       "      <th>features</th>\n",
       "      <th>sum</th>\n",
       "    </tr>\n",
       "  </thead>\n",
       "  <tbody>\n",
       "    <tr>\n",
       "      <th>52</th>\n",
       "      <td>interesting_places</td>\n",
       "      <td>107675.0</td>\n",
       "    </tr>\n",
       "    <tr>\n",
       "      <th>123</th>\n",
       "      <td>religion</td>\n",
       "      <td>29692.0</td>\n",
       "    </tr>\n",
       "    <tr>\n",
       "      <th>36</th>\n",
       "      <td>natural</td>\n",
       "      <td>29556.0</td>\n",
       "    </tr>\n",
       "    <tr>\n",
       "      <th>55</th>\n",
       "      <td>historic</td>\n",
       "      <td>28021.0</td>\n",
       "    </tr>\n",
       "    <tr>\n",
       "      <th>85</th>\n",
       "      <td>architecture</td>\n",
       "      <td>23769.0</td>\n",
       "    </tr>\n",
       "  </tbody>\n",
       "</table>\n",
       "</div>"
      ],
      "text/plain": [
       "               features       sum\n",
       "52   interesting_places  107675.0\n",
       "123            religion   29692.0\n",
       "36              natural   29556.0\n",
       "55             historic   28021.0\n",
       "85         architecture   23769.0"
      ]
     },
     "execution_count": 19,
     "metadata": {},
     "output_type": "execute_result"
    }
   ],
   "source": [
    "important_places_features = pd.DataFrame(max_features) \n",
    "important_places_features.columns = ['features','sum']\n",
    "important_places_features.sort_values(by='sum',ascending=False).head() "
   ]
  },
  {
   "cell_type": "code",
   "execution_count": 20,
   "metadata": {},
   "outputs": [
    {
     "data": {
      "text/plain": [
       "<matplotlib.axes._subplots.AxesSubplot at 0x7fe1c59b53d0>"
      ]
     },
     "execution_count": 20,
     "metadata": {},
     "output_type": "execute_result"
    },
    {
     "data": {
      "image/png": "[encoded data removed]",
      "text/plain": [
       "<Figure size 576x576 with 1 Axes>"
      ]
     },
     "metadata": {
      "needs_background": "light"
     },
     "output_type": "display_data"
    }
   ],
   "source": [
    "important_places_features.sort_values(by='sum',ascending=False).head(10).plot(kind='bar',x='features',figsize=(8,8))"
   ]
  },
  {
   "cell_type": "code",
   "execution_count": 21,
   "metadata": {},
   "outputs": [],
   "source": [
    "# sum_features = places_features_df.sum().sort_values(ascending=False)\n",
    "sum_features = places_features_df.loc[:,(places_features_df.sum() > 20)].sum()\n",
    "highest_features = places_features_df[sum_features.sort_values(ascending=False).index[:20]]"
   ]
  },
  {
   "cell_type": "code",
   "execution_count": 22,
   "metadata": {},
   "outputs": [
    {
     "data": {
      "text/plain": [
       "<matplotlib.axes._subplots.AxesSubplot at 0x7fe1c5879490>"
      ]
     },
     "execution_count": 22,
     "metadata": {},
     "output_type": "execute_result"
    },
    {
     "data": {
      "image/png": "[encoded data removed]",
      "text/plain": [
       "<Figure size 720x720 with 2 Axes>"
      ]
     },
     "metadata": {
      "needs_background": "light"
     },
     "output_type": "display_data"
    }
   ],
   "source": [
    "ax,fig = plt.subplots(figsize=(10,10))\n",
    "sns.heatmap(data=highest_features.corr(), cmap=sns.diverging_palette(20, 220, n=200))\n"
   ]
  },
  {
   "cell_type": "code",
   "execution_count": 24,
   "metadata": {},
   "outputs": [
    {
     "data": {
      "text/plain": [
       "NearestNeighbors(metric='cosine', n_neighbors=20)"
      ]
     },
     "execution_count": 24,
     "metadata": {},
     "output_type": "execute_result"
    }
   ],
   "source": [
    "from sklearn.neighbors import NearestNeighbors\n",
    "p_knn = NearestNeighbors(n_neighbors=20,metric='cosine')\n",
    "p_knn.fit(places_features_df)"
   ]
  },
  {
   "cell_type": "code",
   "execution_count": 25,
   "metadata": {},
   "outputs": [],
   "source": [
    "p_distances,p_indecies = p_knn.kneighbors(places_features_df)"
   ]
  },
  {
   "cell_type": "code",
   "execution_count": 27,
   "metadata": {},
   "outputs": [],
   "source": [
    "def get_recommendation(name,k_indecies,k_distances,features_df,df):\n",
    "    index = np.where(features_df.index == name)\n",
    "    neighbours =  k_indecies[index].tolist()[0][1:21]\n",
    "    distance = k_distances[index][0].tolist()\n",
    "    for i,neighbour in enumerate(neighbours):\n",
    "            print(df['name'].loc[neighbour],':',1 - distance[i+1])"
   ]
  },
  {
   "cell_type": "code",
   "execution_count": 28,
   "metadata": {
    "scrolled": true
   },
   "outputs": [
    {
     "name": "stdout",
     "output_type": "stream",
     "text": [
      "Palazzo Branciforte : 1.0\n",
      "palazzo Cavagnis : 1.0\n",
      "palazzo Tetta : 1.0\n",
      "palazzo Querini Papozze : 1.0\n",
      "Palazzo Zorzi Galeoni : 1.0\n",
      "palazzo Emo a San Leonardo : 1.0\n",
      "Palazzo Loredan Gheltoff : 1.0\n",
      "Fonteghetto della Farina : 1.0\n",
      "Palazzetto Costantini : 1.0\n",
      "palazzo da Mosto : 1.0\n",
      "Palazzo Foscari Contarini : 1.0\n",
      "Palazzo Longo : 1.0\n",
      "Palazzo Donà delle rose : 1.0\n",
      "Palazzo Adoldo : 1.0\n",
      "Palazzo Labia : 1.0\n",
      "Palazzo Calbo Crotta : 1.0\n",
      "Palazzo Flangini : 1.0\n",
      "Ca' Pisani : 1.0\n",
      "Palazzo Basadonna Giustinian Recanati : 1.0\n"
     ]
    }
   ],
   "source": [
    "get_recommendation('Coperto dei Figini',p_indecies,p_distances,places_features_df,places)"
   ]
  },
  {
   "cell_type": "code",
   "execution_count": null,
   "metadata": {},
   "outputs": [],
   "source": [
    "similarity('Palau Episcopal','Phra Racha Wang Derm',places_features_df) \n"
   ]
  },
  {
   "cell_type": "code",
   "execution_count": null,
   "metadata": {},
   "outputs": [],
   "source": [
    "tsne_p = TSNE().fit_transform(p_indecies[:1000])"
   ]
  },
  {
   "cell_type": "code",
   "execution_count": null,
   "metadata": {
    "scrolled": true
   },
   "outputs": [],
   "source": [
    "plt.scatter(tsne_p[:,0],tsne_p[:,1])"
   ]
  },
  {
   "cell_type": "code",
   "execution_count": 30,
   "metadata": {},
   "outputs": [],
   "source": [
    "import pickle\n",
    "with open(\"places_knn.pkl\",'wb') as f:\n",
    "    pickle.dump([p_distances,p_indecies],f)"
   ]
  },
  {
   "cell_type": "code",
   "execution_count": 33,
   "metadata": {},
   "outputs": [],
   "source": [
    "\n",
    "with open(\"places_knn.pkl\",'rb') as f:\n",
    "    model = pickle.load(f)"
   ]
  },
  {
   "cell_type": "code",
   "execution_count": 36,
   "metadata": {},
   "outputs": [],
   "source": [
    "p_distances,p_indecies = model"
   ]
  },
  {
   "cell_type": "code",
   "execution_count": 37,
   "metadata": {},
   "outputs": [
    {
     "name": "stdout",
     "output_type": "stream",
     "text": [
      "Palazzo Branciforte : 1.0\n",
      "palazzo Cavagnis : 1.0\n",
      "palazzo Tetta : 1.0\n",
      "palazzo Querini Papozze : 1.0\n",
      "Palazzo Zorzi Galeoni : 1.0\n",
      "palazzo Emo a San Leonardo : 1.0\n",
      "Palazzo Loredan Gheltoff : 1.0\n",
      "Fonteghetto della Farina : 1.0\n",
      "Palazzetto Costantini : 1.0\n",
      "palazzo da Mosto : 1.0\n",
      "Palazzo Foscari Contarini : 1.0\n",
      "Palazzo Longo : 1.0\n",
      "Palazzo Donà delle rose : 1.0\n",
      "Palazzo Adoldo : 1.0\n",
      "Palazzo Labia : 1.0\n",
      "Palazzo Calbo Crotta : 1.0\n",
      "Palazzo Flangini : 1.0\n",
      "Ca' Pisani : 1.0\n",
      "Palazzo Basadonna Giustinian Recanati : 1.0\n"
     ]
    }
   ],
   "source": [
    "get_recommendation('Coperto dei Figini',p_indecies,p_distances,places_features_df,places)"
   ]
  },
  {
   "cell_type": "code",
   "execution_count": null,
   "metadata": {},
   "outputs": [],
   "source": []
  }
 ],
 "metadata": {
  "kernelspec": {
   "display_name": "Python 3",
   "language": "python",
   "name": "python3"
  },
  "language_info": {
   "codemirror_mode": {
    "name": "ipython",
    "version": 3
   },
   "file_extension": ".py",
   "mimetype": "text/x-python",
   "name": "python",
   "nbconvert_exporter": "python",
   "pygments_lexer": "ipython3",
   "version": "3.8.3"
  }
 },
 "nbformat": 4,
 "nbformat_minor": 4
}
