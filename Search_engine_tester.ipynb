{
 "cells": [
  {
   "cell_type": "markdown",
   "metadata": {},
   "source": [
    "# TripPal Search Engine \n",
    "this search engine provides integration between different data APIs; like `Dojo Hotel` and `OpenTripMap` "
   ]
  },
  {
   "cell_type": "code",
   "execution_count": 1,
   "metadata": {},
   "outputs": [],
   "source": [
    "import pandas as pd\n",
    "import numpy as np\n",
    "import requests \n",
    "import json\n",
    "import math\n",
    "from Search_engine import Search_Engine\n",
    "from utils import data_parser as dp\n",
    "from utils import constants as c"
   ]
  },
  {
   "cell_type": "markdown",
   "metadata": {},
   "source": [
    "### Section One - Hotels search engine testing  "
   ]
  },
  {
   "cell_type": "code",
   "execution_count": 2,
   "metadata": {},
   "outputs": [],
   "source": [
    "search_engine = Search_Engine()"
   ]
  },
  {
   "cell_type": "code",
   "execution_count": 3,
   "metadata": {},
   "outputs": [
    {
     "name": "stdout",
     "output_type": "stream",
     "text": [
      "Hotels search engine in use!\n"
     ]
    }
   ],
   "source": [
    "res0 = search_engine.get('HOTELS', 'BESTCHOISE', {'location' : 'new yourk'})"
   ]
  },
  {
   "cell_type": "code",
   "execution_count": 5,
   "metadata": {},
   "outputs": [
    {
     "data": {
      "text/plain": [
       "{'id': 114697,\n",
       " 'name': 'Gramercy Park Hotel',\n",
       " 'starRating': 5.0,\n",
       " 'guestrating': '8.2',\n",
       " 'address': 'New York',\n",
       " 'street': 'New York',\n",
       " 'price': '',\n",
       " 'features': '',\n",
       " 'imgURL': 'https://thumbnails.trvl-media.com/UyEE7VrYCnU6qmrll1Q7sl0jKT8=/250x140/smart/filters:quality(60)/images.trvl-media.com/hotels/1000000/30000/20600/20525/2cf830aa_z.jpg',\n",
       " 'coordinate': {'lat': 40.738502, 'lon': -73.985565},\n",
       " 'deals': {}}"
      ]
     },
     "execution_count": 5,
     "metadata": {},
     "output_type": "execute_result"
    }
   ],
   "source": [
    "res0['0']"
   ]
  },
  {
   "cell_type": "code",
   "execution_count": 6,
   "metadata": {},
   "outputs": [],
   "source": [
    "booking_dict = {\n",
    "    'location' : 'new yourk',\n",
    "    'page_number' : 1,\n",
    "    'check_in_date' : \"2021-03-16\",\n",
    "    'check_out_date' : \"2021-03-20\",\n",
    "    'adults' : 1,\n",
    "    'sort_order' : 'GUEST_RATING'\n",
    "}"
   ]
  },
  {
   "cell_type": "code",
   "execution_count": 7,
   "metadata": {},
   "outputs": [
    {
     "name": "stdout",
     "output_type": "stream",
     "text": [
      "Hotels search engine in use!\n"
     ]
    }
   ],
   "source": [
    "res1 = search_engine.get('HOTELS', 'BOOK', booking_dict)"
   ]
  },
  {
   "cell_type": "code",
   "execution_count": 8,
   "metadata": {},
   "outputs": [
    {
     "data": {
      "text/plain": [
       "{'id': 538659,\n",
       " 'name': 'Wythe Hotel',\n",
       " 'starRating': 3.5,\n",
       " 'guestrating': '10.0',\n",
       " 'address': 'Brooklyn',\n",
       " 'street': 'Brooklyn',\n",
       " 'price': {'old_price': 240.0, 'new_price': '$240'},\n",
       " 'features': {'paymentPreference': False, 'noCCRequired': False},\n",
       " 'imgURL': 'https://thumbnails.trvl-media.com/4z7BJsPsNLJsvaD6TZgS6H48VEc=/250x140/smart/filters:quality(60)/images.trvl-media.com/hotels/5000000/4960000/4952200/4952112/28963bb4_z.jpg',\n",
       " 'coordinate': {'lat': 40.722088, 'lon': -73.957697},\n",
       " 'deals': {}}"
      ]
     },
     "execution_count": 8,
     "metadata": {},
     "output_type": "execute_result"
    }
   ],
   "source": [
    "res1['HOTELS']['0']"
   ]
  },
  {
   "cell_type": "code",
   "execution_count": 11,
   "metadata": {},
   "outputs": [
    {
     "data": {
      "text/plain": [
       "{'applied': False,\n",
       " 'items': [{'value': 5},\n",
       "  {'value': 4},\n",
       "  {'value': 3},\n",
       "  {'value': 2},\n",
       "  {'value': 1}]}"
      ]
     },
     "execution_count": 11,
     "metadata": {},
     "output_type": "execute_result"
    }
   ],
   "source": [
    "res1['FILTERS']['starRating']"
   ]
  },
  {
   "cell_type": "code",
   "execution_count": 13,
   "metadata": {},
   "outputs": [
    {
     "name": "stdout",
     "output_type": "stream",
     "text": [
      "Hotels search engine in use!\n"
     ]
    }
   ],
   "source": [
    "res2 = search_engine.get('HOTELS', 'DETAILS', {'id' : 538659})"
   ]
  },
  {
   "cell_type": "code",
   "execution_count": 14,
   "metadata": {},
   "outputs": [
    {
     "data": {
      "text/plain": [
       "['72 smoke-free guestrooms',\n",
       " 'Daily housekeeping',\n",
       " 'Restaurant and bar/lounge',\n",
       " 'Breakfast available',\n",
       " '6 meeting rooms',\n",
       " '24-hour front desk',\n",
       " 'Air conditioning',\n",
       " 'Garden',\n",
       " 'Laundry service',\n",
       " 'Conference space',\n",
       " 'Multilingual staff',\n",
       " 'Concierge services',\n",
       " 'Free WiFi ']"
      ]
     },
     "execution_count": 14,
     "metadata": {},
     "output_type": "execute_result"
    }
   ],
   "source": [
    "res2['HOTEL_FEATURE']"
   ]
  },
  {
   "cell_type": "code",
   "execution_count": 15,
   "metadata": {},
   "outputs": [
    {
     "name": "stdout",
     "output_type": "stream",
     "text": [
      "Hotels search engine in use!\n"
     ]
    }
   ],
   "source": [
    "res3 = search_engine.get('HOTELS', 'IMAGES', {'id' : 538659})"
   ]
  },
  {
   "cell_type": "code",
   "execution_count": 16,
   "metadata": {},
   "outputs": [
    {
     "data": {
      "text/plain": [
       "'https://exp.cdn-hotels.com/hotels/5000000/4960000/4952200/4952112/28963bb4.jpg'"
      ]
     },
     "execution_count": 16,
     "metadata": {},
     "output_type": "execute_result"
    }
   ],
   "source": [
    "json.loads(res3)[0]"
   ]
  },
  {
   "cell_type": "code",
   "execution_count": 17,
   "metadata": {},
   "outputs": [
    {
     "name": "stdout",
     "output_type": "stream",
     "text": [
      "Hotels search engine in use!\n"
     ]
    }
   ],
   "source": [
    "res4 = search_engine.get('HOTELS', 'REVIEWS', {'id' : 538659, 'page_number' : 1})"
   ]
  },
  {
   "cell_type": "code",
   "execution_count": 18,
   "metadata": {},
   "outputs": [
    {
     "data": {
      "text/plain": [
       "{'user': 'Brittany',\n",
       " 'rating': 10.0,\n",
       " 'title': 'Amazing views!',\n",
       " 'review': 'Such a pleasant stay! The restaurant and lounge were not open due to COVID but we are definitely going to come back for the full experience. We stayed in the Manhattan King and the view is worth every single penny. '}"
      ]
     },
     "execution_count": 18,
     "metadata": {},
     "output_type": "execute_result"
    }
   ],
   "source": [
    "json.loads(res4)[0]"
   ]
  },
  {
   "cell_type": "code",
   "execution_count": 19,
   "metadata": {},
   "outputs": [
    {
     "name": "stdout",
     "output_type": "stream",
     "text": [
      "Hotels search engine in use!\n"
     ]
    }
   ],
   "source": [
    "res5 = search_engine.get('HOTELS', 'HOTEL', {'name' : 'Wythe Hotel'})"
   ]
  },
  {
   "cell_type": "code",
   "execution_count": 20,
   "metadata": {},
   "outputs": [
    {
     "data": {
      "text/plain": [
       "['In Williamsburg',\n",
       " 'United Nations Headquarters - 3 mi / 4.8 km',\n",
       " 'Empire State Building - 3 mi / 4.9 km',\n",
       " 'Roosevelt Island - 2.6 mi / 4.2 km',\n",
       " 'Brooklyn Bridge Park - 3.7 mi / 6 km',\n",
       " 'Washington Square Park - 4 mi / 6.5 km',\n",
       " 'New York University - 4.1 mi / 6.6 km',\n",
       " 'Union Square Park - 4.3 mi / 6.9 km',\n",
       " 'Chrysler Building - 4.3 mi / 6.9 km',\n",
       " 'Barclays Center Brooklyn - 4.4 mi / 7 km',\n",
       " 'Wall Street - 4.4 mi / 7 km']"
      ]
     },
     "execution_count": 20,
     "metadata": {},
     "output_type": "execute_result"
    }
   ],
   "source": [
    "res5['LOCATION_SECTION']"
   ]
  },
  {
   "cell_type": "markdown",
   "metadata": {},
   "source": [
    "### Section two - Places search engine testing"
   ]
  },
  {
   "cell_type": "code",
   "execution_count": 21,
   "metadata": {},
   "outputs": [
    {
     "name": "stdout",
     "output_type": "stream",
     "text": [
      "Places search engine in use!\n"
     ]
    }
   ],
   "source": [
    "res6 = search_engine.get('PLACES', 'LOCATION', {'name' : 'istanbul'})"
   ]
  },
  {
   "cell_type": "code",
   "execution_count": 22,
   "metadata": {},
   "outputs": [
    {
     "data": {
      "text/plain": [
       "{'id': 'W331188177',\n",
       " 'name': 'Bıçakçı Alaaddin Cami',\n",
       " 'guestrating': 1,\n",
       " 'kinds': 'religion,other_temples,interesting_places',\n",
       " 'distance': 6.1449093,\n",
       " 'coordinate': {'lat': 41.013805, 'lon': 28.949715}}"
      ]
     },
     "execution_count": 22,
     "metadata": {},
     "output_type": "execute_result"
    }
   ],
   "source": [
    "res6[0]"
   ]
  },
  {
   "cell_type": "code",
   "execution_count": 23,
   "metadata": {},
   "outputs": [
    {
     "name": "stdout",
     "output_type": "stream",
     "text": [
      "Places search engine in use!\n"
     ]
    }
   ],
   "source": [
    "res7 = search_engine.get('PLACES', 'DETAILS', {'id' : 'R1918'})"
   ]
  },
  {
   "cell_type": "code",
   "execution_count": 24,
   "metadata": {},
   "outputs": [
    {
     "data": {
      "text/plain": [
       "{'xid': 'R1918',\n",
       " 'name': 'Sforza Castle',\n",
       " 'address': {'city': 'Milano',\n",
       "  'state': 'LOM',\n",
       "  'county': 'MI',\n",
       "  'suburb': 'Municipio 1',\n",
       "  'country': 'Italia',\n",
       "  'footway': 'Cortile della Rocchetta',\n",
       "  'country_code': 'it',\n",
       "  'neighbourhood': 'Castello'},\n",
       " 'rate': '3h',\n",
       " 'osm': 'relation/1918',\n",
       " 'bbox': {'lon_min': 9.177768,\n",
       "  'lon_max': 9.181365,\n",
       "  'lat_min': 45.469006,\n",
       "  'lat_max': 45.471544},\n",
       " 'wikidata': 'Q23354',\n",
       " 'kinds': 'fortifications,historic,monuments_and_memorials,interesting_places,castles,monuments',\n",
       " 'url': 'https://www.milanocastello.it/;http://www.milanocastello.it/',\n",
       " 'sources': {'geometry': 'osm', 'attributes': ['osm', 'wikidata']},\n",
       " 'otm': 'https://opentripmap.com/en/card/R1918',\n",
       " 'wikipedia': 'https://en.wikipedia.org/wiki/Sforza%20Castle',\n",
       " 'image': 'https://commons.wikimedia.org/wiki/File:20110725_Castello_Sforzesco_Milan_5557.jpg',\n",
       " 'preview': {'source': 'https://upload.wikimedia.org/wikipedia/commons/thumb/7/7e/20110725_Castello_Sforzesco_Milan_5557.jpg/266px-20110725_Castello_Sforzesco_Milan_5557.jpg',\n",
       "  'height': 400,\n",
       "  'width': 266},\n",
       " 'wikipedia_extracts': {'title': 'en:Sforza Castle',\n",
       "  'text': \"Sforza Castle (Italian: Castello Sforzesco) is in Milan, northern Italy. It was built in the 15th century by Francesco Sforza, Duke of Milan, on the remnants of a 14th-century fortification. Later renovated and enlarged, in the 16th and 17th centuries it was one of the largest citadels in Europe. Extensively rebuilt by Luca Beltrami in 1891–1905, it now houses several of the city's museums and art collections.\",\n",
       "  'html': '<p><b>Sforza Castle</b> (Italian: <i lang=\"it\">Castello Sforzesco</i>) is in Milan, northern Italy. It was built in the 15th century by Francesco Sforza, Duke of Milan, on the remnants of a 14th-century fortification. Later renovated and enlarged, in the 16th and 17th centuries it was one of the largest citadels in Europe. Extensively rebuilt by Luca Beltrami in 1891–1905, it now houses several of the city\\'s museums and art collections.</p>'},\n",
       " 'point': {'lon': 9.178132, 'lat': 45.470272}}"
      ]
     },
     "execution_count": 24,
     "metadata": {},
     "output_type": "execute_result"
    }
   ],
   "source": [
    "res7"
   ]
  },
  {
   "cell_type": "code",
   "execution_count": 3,
   "metadata": {},
   "outputs": [
    {
     "name": "stdout",
     "output_type": "stream",
     "text": [
      "Places search engine in use!\n"
     ]
    }
   ],
   "source": [
    "res8 = search_engine.get('PLACES', 'LISTVIEW', {'name' : 'istanbul', 'filter' : 'interesting_places'})"
   ]
  },
  {
   "cell_type": "code",
   "execution_count": 4,
   "metadata": {},
   "outputs": [
    {
     "data": {
      "text/plain": [
       "[{'xid': 'W331188177', 'name': 'Bıçakçı Alaaddin Cami', 'rate': '1'},\n",
       " {'xid': 'W523880524', 'name': 'Sofular Molla Hüsrev Camii', 'rate': '1'}]"
      ]
     },
     "execution_count": 4,
     "metadata": {},
     "output_type": "execute_result"
    }
   ],
   "source": [
    "res8"
   ]
  },
  {
   "cell_type": "code",
   "execution_count": 5,
   "metadata": {},
   "outputs": [
    {
     "name": "stdout",
     "output_type": "stream",
     "text": [
      "Places search engine in use!\n"
     ]
    }
   ],
   "source": [
    "res9 = search_engine.get('PLACES', 'COORDINATES', {'lon' : '28.838911',\n",
    "                                                   'lat' : '40.958549',\n",
    "                                                   'filter' : 'restaurants'})"
   ]
  },
  {
   "cell_type": "code",
   "execution_count": 6,
   "metadata": {},
   "outputs": [
    {
     "data": {
      "text/plain": [
       "{'type': 'Feature',\n",
       " 'id': '9481637',\n",
       " 'geometry': {'type': 'Point', 'coordinates': [28.838911, 40.958549]},\n",
       " 'properties': {'xid': 'N1380962608',\n",
       "  'name': 'Old lighthouse Fener',\n",
       "  'dist': 0.15705226,\n",
       "  'rate': 3,\n",
       "  'osm': 'node/1380962608',\n",
       "  'wikidata': 'Q8053369',\n",
       "  'kinds': 'restaurants,foods,tourist_facilities'}}"
      ]
     },
     "execution_count": 6,
     "metadata": {},
     "output_type": "execute_result"
    }
   ],
   "source": [
    "res9['features'][0]"
   ]
  },
  {
   "cell_type": "markdown",
   "metadata": {},
   "source": [
    "### Collecting Places Dataset\n",
    "**get_place_features from places.py** rreturns the following features for each place in a wanted location:\n",
    " 1.  `ID`\n",
    " 2.  `NAME`\n",
    " 3.  `RATE`\n",
    " 4.  `Kinds` \n",
    " \n",
    "a search query to find all places in **Istanbul** for example, the first result is:\n",
    "`{'id': 'W331188177',\n",
    " 'name': 'Bıçakçı Alaaddin Cami',\n",
    " 'rate': 1,\n",
    " 'kinds': 'religion,other_temples,interesting_places'}`"
   ]
  },
  {
   "cell_type": "code",
   "execution_count": null,
   "metadata": {},
   "outputs": [],
   "source": [
    "test = places.get_place_features('istanbul','religion')\n",
    "df = pd.DataFrame(test)"
   ]
  },
  {
   "cell_type": "code",
   "execution_count": null,
   "metadata": {},
   "outputs": [],
   "source": [
    "df.to_csv('dataset/religion_dataset.csv',index = False)"
   ]
  },
  {
   "cell_type": "code",
   "execution_count": null,
   "metadata": {},
   "outputs": [],
   "source": [
    "df2 = pd.read_csv('dataset/final_places_dataset.csv')"
   ]
  },
  {
   "cell_type": "code",
   "execution_count": null,
   "metadata": {},
   "outputs": [],
   "source": [
    "cities_name = df2.city.unique()"
   ]
  },
  {
   "cell_type": "code",
   "execution_count": null,
   "metadata": {},
   "outputs": [],
   "source": [
    "for city in cities_name:\n",
    "    test = places.get_place_features(city,'religion' )\n",
    "    df_ = pd.DataFrame(test)\n",
    "    df_.to_csv('dataset/religion_dataset.csv', mode='a', header=False, index = False)"
   ]
  },
  {
   "cell_type": "code",
   "execution_count": null,
   "metadata": {},
   "outputs": [],
   "source": [
    "df = pd.read_csv('dataset/religion_dataset.csv')"
   ]
  },
  {
   "cell_type": "code",
   "execution_count": null,
   "metadata": {},
   "outputs": [],
   "source": [
    "df = df.drop_duplicates(subset=['name'])"
   ]
  },
  {
   "cell_type": "code",
   "execution_count": null,
   "metadata": {},
   "outputs": [],
   "source": [
    "df = df.dropna(subset=['name'])"
   ]
  },
  {
   "cell_type": "code",
   "execution_count": null,
   "metadata": {},
   "outputs": [],
   "source": [
    "df.head()"
   ]
  },
  {
   "cell_type": "code",
   "execution_count": null,
   "metadata": {},
   "outputs": [],
   "source": [
    "len(df.index)"
   ]
  },
  {
   "cell_type": "code",
   "execution_count": null,
   "metadata": {},
   "outputs": [],
   "source": [
    "df.to_csv('dataset/religion_dataset.csv',index = False)"
   ]
  },
  {
   "cell_type": "code",
   "execution_count": null,
   "metadata": {},
   "outputs": [],
   "source": [
    "df1 = pd.read_csv('dataset/cultural_dataset.csv')\n",
    "df2 = pd.read_csv('dataset/religion_dataset.csv')\n",
    "df3 = pd.read_csv('dataset/historic_dataset.csv')\n",
    "df4 = pd.read_csv('dataset/architecture_dataset.csv')\n",
    "df5 = pd.read_csv('dataset/natural_dataset.csv')"
   ]
  },
  {
   "cell_type": "code",
   "execution_count": null,
   "metadata": {},
   "outputs": [],
   "source": [
    "df1 = df1.append(df2, ignore_index=True)\n",
    "df1 = df1.append(df3, ignore_index=True)\n",
    "df1 = df1.append(df4, ignore_index=True)\n",
    "df1 = df1.append(df5, ignore_index=True)"
   ]
  },
  {
   "cell_type": "code",
   "execution_count": null,
   "metadata": {},
   "outputs": [],
   "source": [
    "df1 = df1.drop_duplicates(subset=['name'])\n",
    "df1 = df1.drop_duplicates(subset=['id'])\n",
    "df1 = df1.dropna(subset=['name'])"
   ]
  },
  {
   "cell_type": "code",
   "execution_count": null,
   "metadata": {},
   "outputs": [],
   "source": [
    "len(df1.index)"
   ]
  },
  {
   "cell_type": "code",
   "execution_count": null,
   "metadata": {},
   "outputs": [],
   "source": [
    "df1.to_csv('dataset/final_places_dataset2.csv',index = False)"
   ]
  }
 ],
 "metadata": {
  "kernelspec": {
   "display_name": "Python 3",
   "language": "python",
   "name": "python3"
  },
  "language_info": {
   "codemirror_mode": {
    "name": "ipython",
    "version": 3
   },
   "file_extension": ".py",
   "mimetype": "text/x-python",
   "name": "python",
   "nbconvert_exporter": "python",
   "pygments_lexer": "ipython3",
   "version": "3.8.0"
  }
 },
 "nbformat": 4,
 "nbformat_minor": 4
}
