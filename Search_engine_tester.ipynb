{
 "cells": [
  {
   "cell_type": "markdown",
   "metadata": {},
   "source": [
    "# TripPal Search Engine \n",
    "this search engine provides integration between different data APIs; like `Dojo Hotel` and `OpenTripMap` "
   ]
  },
  {
   "cell_type": "code",
   "execution_count": 1,
   "metadata": {},
   "outputs": [],
   "source": [
    "import pandas as pd\n",
    "import numpy as np\n",
    "import requests \n",
    "import json\n",
    "import math\n",
    "from Search_engine import Search_Engine\n",
    "from utils import data_parser as dp\n",
    "from utils import constants as c"
   ]
  },
  {
   "cell_type": "markdown",
   "metadata": {},
   "source": [
    "### Section One - Hotels search engine testing  "
   ]
  },
  {
   "cell_type": "code",
   "execution_count": 2,
   "metadata": {},
   "outputs": [],
   "source": [
    "search_engine = Search_Engine()"
   ]
  },
  {
   "cell_type": "code",
   "execution_count": 6,
   "metadata": {},
   "outputs": [],
   "source": [
    "booking_dict = {\n",
    "    'location' : 'new yourk',\n",
    "    'page_number' : 1,\n",
    "    'check_in_date' : \"2021-03-16\",\n",
    "    'check_out_date' : \"2021-03-20\",\n",
    "    'adults' : 1,\n",
    "    'sort_order' : 'GUEST_RATING'\n",
    "}"
   ]
  },
  {
   "cell_type": "code",
   "execution_count": 8,
   "metadata": {},
   "outputs": [
    {
     "name": "stdout",
     "output_type": "stream",
     "text": [
      "Hotels search engine in use!\n"
     ]
    }
   ],
   "source": [
    "res1 = search_engine.get('HOTELS', 'BOOK', booking_dict)"
   ]
  },
  {
   "cell_type": "code",
   "execution_count": 9,
   "metadata": {},
   "outputs": [
    {
     "data": {
      "text/plain": [
       "{'id': 538659,\n",
       " 'name': 'Wythe Hotel',\n",
       " 'starRating': 3.5,\n",
       " 'urls': {},\n",
       " 'address': {'streetAddress': '80 Wythe Ave',\n",
       "  'extendedAddress': '',\n",
       "  'locality': 'Brooklyn',\n",
       "  'postalCode': '11249',\n",
       "  'region': 'NY',\n",
       "  'countryName': 'United States',\n",
       "  'countryCode': 'us',\n",
       "  'obfuscate': False},\n",
       " 'guestReviews': {'unformattedRating': 10.0,\n",
       "  'rating': '10.0',\n",
       "  'total': 4,\n",
       "  'scale': 10,\n",
       "  'badge': 'exceptional',\n",
       "  'badgeText': 'Exceptional'},\n",
       " 'landmarks': [{'label': 'City center', 'distance': '2.8 miles'},\n",
       "  {'label': 'Times Square', 'distance': '2.9 miles'}],\n",
       " 'geoBullets': [],\n",
       " 'ratePlan': {'price': {'current': '$240', 'exactCurrent': 240.0},\n",
       "  'features': {'paymentPreference': False, 'noCCRequired': False}},\n",
       " 'neighbourhood': 'Williamsburg',\n",
       " 'deals': {},\n",
       " 'messaging': {},\n",
       " 'badging': {},\n",
       " 'pimmsAttributes': 'D13',\n",
       " 'coordinate': {'lat': 40.722088, 'lon': -73.957697},\n",
       " 'providerType': 'LOCAL',\n",
       " 'supplierHotelId': 4952112,\n",
       " 'isAlternative': False,\n",
       " 'optimizedThumbUrls': {'srpDesktop': 'https://thumbnails.trvl-media.com/4z7BJsPsNLJsvaD6TZgS6H48VEc=/250x140/smart/filters:quality(60)/images.trvl-media.com/hotels/5000000/4960000/4952200/4952112/28963bb4_z.jpg'},\n",
       " 'vrBadge': None}"
      ]
     },
     "execution_count": 9,
     "metadata": {},
     "output_type": "execute_result"
    }
   ],
   "source": [
    "res1['HOTELS']['0']"
   ]
  },
  {
   "cell_type": "code",
   "execution_count": 20,
   "metadata": {},
   "outputs": [
    {
     "data": {
      "text/plain": [
       "{'item': {'value': ''},\n",
       " 'autosuggest': {'additionalUrlParams': {'resolved-location': 'CITY:1506246:UNKNOWN:UNKNOWN',\n",
       "   'q-destination': 'New York, New York, United States of America',\n",
       "   'destination-id': '1506246'}}}"
      ]
     },
     "execution_count": 20,
     "metadata": {},
     "output_type": "execute_result"
    }
   ],
   "source": [
    "res1['FILTERS']['name']"
   ]
  },
  {
   "cell_type": "code",
   "execution_count": 21,
   "metadata": {},
   "outputs": [
    {
     "name": "stdout",
     "output_type": "stream",
     "text": [
      "Hotels search engine in use!\n"
     ]
    }
   ],
   "source": [
    "res2 = search_engine.get('HOTELS', 'DETAILS', {'id' : 538659})"
   ]
  },
  {
   "cell_type": "code",
   "execution_count": 23,
   "metadata": {},
   "outputs": [
    {
     "data": {
      "text/plain": [
       "['72 smoke-free guestrooms',\n",
       " 'Daily housekeeping',\n",
       " 'Restaurant and bar/lounge',\n",
       " 'Breakfast available',\n",
       " '6 meeting rooms',\n",
       " '24-hour front desk',\n",
       " 'Air conditioning',\n",
       " 'Garden',\n",
       " 'Laundry service',\n",
       " 'Conference space',\n",
       " 'Multilingual staff',\n",
       " 'Concierge services',\n",
       " 'Free WiFi ']"
      ]
     },
     "execution_count": 23,
     "metadata": {},
     "output_type": "execute_result"
    }
   ],
   "source": [
    "res2['HOTEL_FEATURE']"
   ]
  },
  {
   "cell_type": "code",
   "execution_count": 24,
   "metadata": {},
   "outputs": [
    {
     "name": "stdout",
     "output_type": "stream",
     "text": [
      "Hotels search engine in use!\n"
     ]
    }
   ],
   "source": [
    "res3 = search_engine.get('HOTELS', 'IMAGES', {'id' : 538659})"
   ]
  },
  {
   "cell_type": "code",
   "execution_count": 32,
   "metadata": {},
   "outputs": [
    {
     "data": {
      "text/plain": [
       "'https://exp.cdn-hotels.com/hotels/5000000/4960000/4952200/4952112/28963bb4.jpg'"
      ]
     },
     "execution_count": 32,
     "metadata": {},
     "output_type": "execute_result"
    }
   ],
   "source": [
    "json.loads(res3)[0]"
   ]
  },
  {
   "cell_type": "code",
   "execution_count": 27,
   "metadata": {},
   "outputs": [
    {
     "name": "stdout",
     "output_type": "stream",
     "text": [
      "Hotels search engine in use!\n"
     ]
    }
   ],
   "source": [
    "res4 = search_engine.get('HOTELS', 'REVIEWS', {'id' : 538659, 'page_number' : 1})"
   ]
  },
  {
   "cell_type": "code",
   "execution_count": 36,
   "metadata": {},
   "outputs": [
    {
     "data": {
      "text/plain": [
       "{'user': 'Brittany',\n",
       " 'rating': 10.0,\n",
       " 'title': 'Amazing views!',\n",
       " 'review': 'Such a pleasant stay! The restaurant and lounge were not open due to COVID but we are definitely going to come back for the full experience. We stayed in the Manhattan King and the view is worth every single penny. '}"
      ]
     },
     "execution_count": 36,
     "metadata": {},
     "output_type": "execute_result"
    }
   ],
   "source": [
    "json.loads(res4)[0]"
   ]
  },
  {
   "cell_type": "code",
   "execution_count": 37,
   "metadata": {},
   "outputs": [
    {
     "name": "stdout",
     "output_type": "stream",
     "text": [
      "Hotels search engine in use!\n"
     ]
    }
   ],
   "source": [
    "res5 = search_engine.get('HOTELS', 'HOTEL', {'name' : 'Wythe Hotel'})"
   ]
  },
  {
   "cell_type": "code",
   "execution_count": 39,
   "metadata": {},
   "outputs": [
    {
     "data": {
      "text/plain": [
       "['In Williamsburg',\n",
       " 'United Nations Headquarters - 3 mi / 4.8 km',\n",
       " 'Empire State Building - 3 mi / 4.9 km',\n",
       " 'Roosevelt Island - 2.6 mi / 4.2 km',\n",
       " 'Brooklyn Bridge Park - 3.7 mi / 6 km',\n",
       " 'Washington Square Park - 4 mi / 6.5 km',\n",
       " 'New York University - 4.1 mi / 6.6 km',\n",
       " 'Union Square Park - 4.3 mi / 6.9 km',\n",
       " 'Chrysler Building - 4.3 mi / 6.9 km',\n",
       " 'Barclays Center Brooklyn - 4.4 mi / 7 km',\n",
       " 'Wall Street - 4.4 mi / 7 km']"
      ]
     },
     "execution_count": 39,
     "metadata": {},
     "output_type": "execute_result"
    }
   ],
   "source": [
    "res5['LOCATION_SECTION']"
   ]
  },
  {
   "cell_type": "markdown",
   "metadata": {},
   "source": [
    "### Section two - Places search engine testing"
   ]
  },
  {
   "cell_type": "code",
   "execution_count": 40,
   "metadata": {},
   "outputs": [
    {
     "name": "stdout",
     "output_type": "stream",
     "text": [
      "Places search engine in use!\n"
     ]
    }
   ],
   "source": [
    "res6 = search_engine.get('PLACES', 'LOCATION', {'name' : 'istanbul'})"
   ]
  },
  {
   "cell_type": "code",
   "execution_count": 42,
   "metadata": {},
   "outputs": [
    {
     "data": {
      "text/plain": [
       "{'city': 'istanbul',\n",
       " 'id': 'W331188177',\n",
       " 'name': 'Bıçakçı Alaaddin Cami',\n",
       " 'rate': 1,\n",
       " 'kinds': 'religion,other_temples,interesting_places',\n",
       " 'distance': 6.1449093,\n",
       " 'coordinates': {28.949715, 41.013805}}"
      ]
     },
     "execution_count": 42,
     "metadata": {},
     "output_type": "execute_result"
    }
   ],
   "source": [
    "res6[0]"
   ]
  },
  {
   "cell_type": "code",
   "execution_count": 44,
   "metadata": {},
   "outputs": [
    {
     "name": "stdout",
     "output_type": "stream",
     "text": [
      "Places search engine in use!\n"
     ]
    }
   ],
   "source": [
    "res7 = search_engine.get('PLACES', 'DETAILS', {'id' : 'W331188177'})"
   ]
  },
  {
   "cell_type": "code",
   "execution_count": 45,
   "metadata": {},
   "outputs": [
    {
     "data": {
      "text/plain": [
       "{'xid': 'W331188177',\n",
       " 'name': 'Bıçakçı Alaaddin Cami',\n",
       " 'address': {'city': 'İskenderpaşa Mahallesi',\n",
       "  'road': 'Molla Hüsrev Caddesi',\n",
       "  'town': 'Fatih',\n",
       "  'state': 'Marmara Bölgesi',\n",
       "  'country': 'Türkiye',\n",
       "  'postcode': '34096',\n",
       "  'country_code': 'tr'},\n",
       " 'rate': '1',\n",
       " 'osm': 'way/331188177',\n",
       " 'bbox': {'lon_min': 28.949586,\n",
       "  'lon_max': 28.94984,\n",
       "  'lat_min': 41.0137,\n",
       "  'lat_max': 41.01391},\n",
       " 'kinds': 'religion,other_temples,interesting_places',\n",
       " 'sources': {'geometry': 'osm', 'attributes': ['osm']},\n",
       " 'otm': 'https://opentripmap.com/en/card/W331188177',\n",
       " 'point': {'lon': 28.949715, 'lat': 41.013805}}"
      ]
     },
     "execution_count": 45,
     "metadata": {},
     "output_type": "execute_result"
    }
   ],
   "source": [
    "res7"
   ]
  },
  {
   "cell_type": "code",
   "execution_count": 46,
   "metadata": {},
   "outputs": [
    {
     "name": "stdout",
     "output_type": "stream",
     "text": [
      "Places search engine in use!\n"
     ]
    }
   ],
   "source": [
    "res8 = search_engine.get('PLACES', 'LISTVIEW', {'name' : 'istanbul', 'filter' : 'interesting_places'})"
   ]
  },
  {
   "cell_type": "code",
   "execution_count": 48,
   "metadata": {},
   "outputs": [
    {
     "data": {
      "text/plain": [
       "[{'xid': 'W331188177', 'name': 'Bıçakçı Alaaddin Cami', 'rate': '1'},\n",
       " {'xid': 'W523880524', 'name': 'Sofular Molla Hüsrev Camii', 'rate': '1'},\n",
       " {'xid': 'N4362083790', 'name': '', 'rate': '0'},\n",
       " {'xid': 'W201141056', 'name': 'Kızılminare Cami', 'rate': '1'},\n",
       " {'xid': 'N5076597921', 'name': 'مطعم المدينة اكسراي', 'rate': '1'}]"
      ]
     },
     "execution_count": 48,
     "metadata": {},
     "output_type": "execute_result"
    }
   ],
   "source": [
    "res8[0:5]"
   ]
  },
  {
   "cell_type": "markdown",
   "metadata": {},
   "source": [
    "### Collecting Places Dataset\n",
    "**get_place_features from places.py** rreturns the following features for each place in a wanted location:\n",
    " 1.  `ID`\n",
    " 2.  `NAME`\n",
    " 3.  `RATE`\n",
    " 4.  `Kinds` \n",
    " \n",
    "a search query to find all places in **Istanbul** for example, the first result is:\n",
    "`{'id': 'W331188177',\n",
    " 'name': 'Bıçakçı Alaaddin Cami',\n",
    " 'rate': 1,\n",
    " 'kinds': 'religion,other_temples,interesting_places'}`"
   ]
  },
  {
   "cell_type": "code",
   "execution_count": 51,
   "metadata": {},
   "outputs": [],
   "source": [
    "test = places.get_place_features('istanbul','religion')\n",
    "df = pd.DataFrame(test)"
   ]
  },
  {
   "cell_type": "code",
   "execution_count": 52,
   "metadata": {},
   "outputs": [],
   "source": [
    "df.to_csv('dataset/religion_dataset.csv',index = False)"
   ]
  },
  {
   "cell_type": "code",
   "execution_count": 53,
   "metadata": {},
   "outputs": [],
   "source": [
    "df2 = pd.read_csv('dataset/final_places_dataset.csv')"
   ]
  },
  {
   "cell_type": "code",
   "execution_count": 54,
   "metadata": {},
   "outputs": [],
   "source": [
    "cities_name = df2.city.unique()"
   ]
  },
  {
   "cell_type": "code",
   "execution_count": 49,
   "metadata": {},
   "outputs": [],
   "source": [
    "for city in cities_name:\n",
    "    test = places.get_place_features(city,'religion' )\n",
    "    df_ = pd.DataFrame(test)\n",
    "    df_.to_csv('dataset/religion_dataset.csv', mode='a', header=False, index = False)"
   ]
  },
  {
   "cell_type": "code",
   "execution_count": 57,
   "metadata": {},
   "outputs": [],
   "source": [
    "df = pd.read_csv('dataset/religion_dataset.csv')"
   ]
  },
  {
   "cell_type": "code",
   "execution_count": 58,
   "metadata": {},
   "outputs": [],
   "source": [
    "df = df.drop_duplicates(subset=['name'])"
   ]
  },
  {
   "cell_type": "code",
   "execution_count": 59,
   "metadata": {},
   "outputs": [],
   "source": [
    "df = df.dropna(subset=['name'])"
   ]
  },
  {
   "cell_type": "code",
   "execution_count": 60,
   "metadata": {},
   "outputs": [
    {
     "data": {
      "text/html": [
       "<div>\n",
       "<style scoped>\n",
       "    .dataframe tbody tr th:only-of-type {\n",
       "        vertical-align: middle;\n",
       "    }\n",
       "\n",
       "    .dataframe tbody tr th {\n",
       "        vertical-align: top;\n",
       "    }\n",
       "\n",
       "    .dataframe thead th {\n",
       "        text-align: right;\n",
       "    }\n",
       "</style>\n",
       "<table border=\"1\" class=\"dataframe\">\n",
       "  <thead>\n",
       "    <tr style=\"text-align: right;\">\n",
       "      <th></th>\n",
       "      <th>city</th>\n",
       "      <th>id</th>\n",
       "      <th>name</th>\n",
       "      <th>rate</th>\n",
       "      <th>kinds</th>\n",
       "      <th>distance</th>\n",
       "      <th>coordinates</th>\n",
       "    </tr>\n",
       "  </thead>\n",
       "  <tbody>\n",
       "    <tr>\n",
       "      <th>0</th>\n",
       "      <td>istanbul</td>\n",
       "      <td>W331188177</td>\n",
       "      <td>Bıçakçı Alaaddin Cami</td>\n",
       "      <td>1</td>\n",
       "      <td>religion,other_temples,interesting_places</td>\n",
       "      <td>6.144909</td>\n",
       "      <td>{41.013805, 28.949715}</td>\n",
       "    </tr>\n",
       "    <tr>\n",
       "      <th>1</th>\n",
       "      <td>istanbul</td>\n",
       "      <td>W523880524</td>\n",
       "      <td>Sofular Molla Hüsrev Camii</td>\n",
       "      <td>1</td>\n",
       "      <td>religion,other_temples,interesting_places</td>\n",
       "      <td>90.526884</td>\n",
       "      <td>{41.013432, 28.94873}</td>\n",
       "    </tr>\n",
       "    <tr>\n",
       "      <th>2</th>\n",
       "      <td>istanbul</td>\n",
       "      <td>W201141056</td>\n",
       "      <td>Kızılminare Cami</td>\n",
       "      <td>1</td>\n",
       "      <td>religion,other_temples,interesting_places</td>\n",
       "      <td>175.069318</td>\n",
       "      <td>{41.01244, 28.950613}</td>\n",
       "    </tr>\n",
       "    <tr>\n",
       "      <th>3</th>\n",
       "      <td>istanbul</td>\n",
       "      <td>W523880163</td>\n",
       "      <td>Yayla Kambur Mustafa Efendi Cami</td>\n",
       "      <td>1</td>\n",
       "      <td>religion,other_temples,interesting_places</td>\n",
       "      <td>178.737372</td>\n",
       "      <td>{41.015354, 28.948938}</td>\n",
       "    </tr>\n",
       "    <tr>\n",
       "      <th>4</th>\n",
       "      <td>istanbul</td>\n",
       "      <td>W523879940</td>\n",
       "      <td>Ahmediye Cami</td>\n",
       "      <td>2</td>\n",
       "      <td>religion,mosques,interesting_places</td>\n",
       "      <td>278.478759</td>\n",
       "      <td>{41.014961, 28.946699}</td>\n",
       "    </tr>\n",
       "  </tbody>\n",
       "</table>\n",
       "</div>"
      ],
      "text/plain": [
       "       city          id                              name  rate  \\\n",
       "0  istanbul  W331188177             Bıçakçı Alaaddin Cami     1   \n",
       "1  istanbul  W523880524        Sofular Molla Hüsrev Camii     1   \n",
       "2  istanbul  W201141056                  Kızılminare Cami     1   \n",
       "3  istanbul  W523880163  Yayla Kambur Mustafa Efendi Cami     1   \n",
       "4  istanbul  W523879940                     Ahmediye Cami     2   \n",
       "\n",
       "                                       kinds    distance  \\\n",
       "0  religion,other_temples,interesting_places    6.144909   \n",
       "1  religion,other_temples,interesting_places   90.526884   \n",
       "2  religion,other_temples,interesting_places  175.069318   \n",
       "3  religion,other_temples,interesting_places  178.737372   \n",
       "4        religion,mosques,interesting_places  278.478759   \n",
       "\n",
       "              coordinates  \n",
       "0  {41.013805, 28.949715}  \n",
       "1   {41.013432, 28.94873}  \n",
       "2   {41.01244, 28.950613}  \n",
       "3  {41.015354, 28.948938}  \n",
       "4  {41.014961, 28.946699}  "
      ]
     },
     "execution_count": 60,
     "metadata": {},
     "output_type": "execute_result"
    }
   ],
   "source": [
    "df.head()"
   ]
  },
  {
   "cell_type": "code",
   "execution_count": 61,
   "metadata": {},
   "outputs": [
    {
     "data": {
      "text/plain": [
       "29459"
      ]
     },
     "execution_count": 61,
     "metadata": {},
     "output_type": "execute_result"
    }
   ],
   "source": [
    "len(df.index)"
   ]
  },
  {
   "cell_type": "code",
   "execution_count": 62,
   "metadata": {},
   "outputs": [],
   "source": [
    "df.to_csv('dataset/religion_dataset.csv',index = False)"
   ]
  },
  {
   "cell_type": "code",
   "execution_count": 63,
   "metadata": {},
   "outputs": [],
   "source": [
    "df1 = pd.read_csv('dataset/cultural_dataset.csv')\n",
    "df2 = pd.read_csv('dataset/religion_dataset.csv')\n",
    "df3 = pd.read_csv('dataset/historic_dataset.csv')\n",
    "df4 = pd.read_csv('dataset/architecture_dataset.csv')\n",
    "df5 = pd.read_csv('dataset/natural_dataset.csv')"
   ]
  },
  {
   "cell_type": "code",
   "execution_count": 64,
   "metadata": {},
   "outputs": [],
   "source": [
    "df1 = df1.append(df2, ignore_index=True)\n",
    "df1 = df1.append(df3, ignore_index=True)\n",
    "df1 = df1.append(df4, ignore_index=True)\n",
    "df1 = df1.append(df5, ignore_index=True)"
   ]
  },
  {
   "cell_type": "code",
   "execution_count": 65,
   "metadata": {},
   "outputs": [],
   "source": [
    "df1 = df1.drop_duplicates(subset=['name'])\n",
    "df1 = df1.drop_duplicates(subset=['id'])\n",
    "df1 = df1.dropna(subset=['name'])"
   ]
  },
  {
   "cell_type": "code",
   "execution_count": 66,
   "metadata": {},
   "outputs": [
    {
     "data": {
      "text/plain": [
       "107675"
      ]
     },
     "execution_count": 66,
     "metadata": {},
     "output_type": "execute_result"
    }
   ],
   "source": [
    "len(df1.index)"
   ]
  },
  {
   "cell_type": "code",
   "execution_count": 67,
   "metadata": {},
   "outputs": [],
   "source": [
    "df1.to_csv('dataset/final_places_dataset2.csv',index = False)"
   ]
  },
  {
   "cell_type": "code",
   "execution_count": null,
   "metadata": {},
   "outputs": [],
   "source": []
  }
 ],
 "metadata": {
  "kernelspec": {
   "display_name": "Python 3",
   "language": "python",
   "name": "python3"
  },
  "language_info": {
   "codemirror_mode": {
    "name": "ipython",
    "version": 3
   },
   "file_extension": ".py",
   "mimetype": "text/x-python",
   "name": "python",
   "nbconvert_exporter": "python",
   "pygments_lexer": "ipython3",
   "version": "3.8.0"
  }
 },
 "nbformat": 4,
 "nbformat_minor": 4
}
