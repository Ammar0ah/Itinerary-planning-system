{
 "cells": [
  {
   "cell_type": "markdown",
   "metadata": {},
   "source": [
    "# TripPal Trips Planner"
   ]
  },
  {
   "cell_type": "code",
   "execution_count": 22,
   "metadata": {},
   "outputs": [],
   "source": [
    "import numpy as np \n",
    "import pandas as pd\n",
    "import json\n",
    "import seaborn as sns\n",
    "import matplotlib.pyplot as plt\n",
    "from utils import hotels_engine as hotels\n",
    "from utils import places_engine as places\n",
    "from trip_classes.Trip import Trip\n",
    "from trip_classes.Item import Item"
   ]
  },
  {
   "cell_type": "markdown",
   "metadata": {},
   "source": [
    "## 1. Fetching data"
   ]
  },
  {
   "cell_type": "code",
   "execution_count": null,
   "metadata": {},
   "outputs": [],
   "source": []
  },
  {
   "cell_type": "code",
   "execution_count": null,
   "metadata": {},
   "outputs": [],
   "source": []
  },
  {
   "cell_type": "markdown",
   "metadata": {},
   "source": [
    "## 2. Filtering data"
   ]
  },
  {
   "cell_type": "code",
   "execution_count": null,
   "metadata": {},
   "outputs": [],
   "source": []
  },
  {
   "cell_type": "code",
   "execution_count": null,
   "metadata": {},
   "outputs": [],
   "source": []
  },
  {
   "cell_type": "markdown",
   "metadata": {},
   "source": [
    "## 3. Preview the plan structure"
   ]
  },
  {
   "cell_type": "code",
   "execution_count": 23,
   "metadata": {},
   "outputs": [],
   "source": [
    "trip = Trip('Osama Al-Halabi', [])"
   ]
  },
  {
   "cell_type": "code",
   "execution_count": 24,
   "metadata": {},
   "outputs": [],
   "source": [
    "# dummy data\n",
    "item1 = Item('museums', 'N3135406162', {'coordinates': [28.987259, 41.056381]})\n",
    "item2 = Item('hotel', '645103552', {'coordinates' : [41.07552, 28.98155]})"
   ]
  },
  {
   "cell_type": "code",
   "execution_count": 25,
   "metadata": {},
   "outputs": [],
   "source": [
    "trip.add_day(1,[item1, item2])"
   ]
  },
  {
   "cell_type": "code",
   "execution_count": 26,
   "metadata": {},
   "outputs": [],
   "source": [
    "# dummy data\n",
    "item3 = Item('hotel', '122344566', {'coordinates' : [-21.09862, 38.978965]})\n",
    "item4 = Item('restaurants', 'N5737154621', {'coordinates': [28.96932, 41.074863]})\n",
    "item5 = Item('museums', 'N4868553761', {'coordinates': [28.960056, 41.041332]})"
   ]
  },
  {
   "cell_type": "code",
   "execution_count": 27,
   "metadata": {},
   "outputs": [],
   "source": [
    "trip.add_day(16,[item3, item4, item5])"
   ]
  },
  {
   "cell_type": "code",
   "execution_count": 28,
   "metadata": {},
   "outputs": [
    {
     "data": {
      "text/plain": [
       "User Name: Osama Al-Halabi \n",
       "Trip Plan:[\n",
       "day1:[\n",
       "Type: museums , ID: N3135406162, Info: {'coordinates': [28.987259, 41.056381]}, \n",
       "Type: hotel , ID: 645103552, Info: {'coordinates': [41.07552, 28.98155]}], \n",
       "day2:[\n",
       "Type: hotel , ID: 122344566, Info: {'coordinates': [-21.09862, 38.978965]}, \n",
       "Type: restaurants , ID: N5737154621, Info: {'coordinates': [28.96932, 41.074863]}, \n",
       "Type: museums , ID: N4868553761, Info: {'coordinates': [28.960056, 41.041332]}]]"
      ]
     },
     "execution_count": 28,
     "metadata": {},
     "output_type": "execute_result"
    }
   ],
   "source": [
    "trip"
   ]
  },
  {
   "cell_type": "code",
   "execution_count": null,
   "metadata": {},
   "outputs": [],
   "source": []
  }
 ],
 "metadata": {
  "kernelspec": {
   "display_name": "Python 3",
   "language": "python",
   "name": "python3"
  },
  "language_info": {
   "codemirror_mode": {
    "name": "ipython",
    "version": 3
   },
   "file_extension": ".py",
   "mimetype": "text/x-python",
   "name": "python",
   "nbconvert_exporter": "python",
   "pygments_lexer": "ipython3",
   "version": "3.8.0"
  }
 },
 "nbformat": 4,
 "nbformat_minor": 4
}
