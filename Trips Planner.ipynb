{
 "cells": [
  {
   "cell_type": "markdown",
   "metadata": {},
   "source": [
    "# TripPal Trips Planner"
   ]
  },
  {
   "cell_type": "code",
   "execution_count": 1,
   "metadata": {},
   "outputs": [],
   "source": [
    "import numpy as np \n",
    "import pandas as pd\n",
    "import json\n",
    "import pickle\n",
    "import seaborn as sns\n",
    "import matplotlib.pyplot as plt\n",
    "from Search_engine import Search_Engine"
   ]
  },
  {
   "cell_type": "markdown",
   "metadata": {},
   "source": [
    "## 1. Fetching data"
   ]
  },
  {
   "cell_type": "code",
   "execution_count": 2,
   "metadata": {},
   "outputs": [],
   "source": [
    "search_engine = Search_Engine()"
   ]
  },
  {
   "cell_type": "code",
   "execution_count": 9,
   "metadata": {},
   "outputs": [
    {
     "name": "stdout",
     "output_type": "stream",
     "text": [
      "collecting fast_food ...\n",
      "collecting malls ...\n",
      "collecting marketplaces ...\n",
      "collecting restaurants ...\n",
      "collecting cafes ...\n",
      "collecting sport ...\n",
      "collecting architecture ...\n",
      "collecting cultural ...\n",
      "collecting natural ...\n"
     ]
    }
   ],
   "source": [
    "trip = search_engine.collect_trip_components('dubai', 7, ['SPO', 'ARC', 'CUL', 'NAT'], 'extended_trip')"
   ]
  },
  {
   "cell_type": "code",
   "execution_count": 10,
   "metadata": {},
   "outputs": [
    {
     "data": {
      "text/plain": [
       "{- Type: architecture, ID: Q1069161, Rate: 3, Coordinates: {'lat': 25.211378, 'lon': 55.275257},\n",
       " - Type: architecture, ID: Q1264855, Rate: 3, Coordinates: {'lat': 25.207117, 'lon': 55.279018},\n",
       " - Type: architecture, ID: Q1436004, Rate: 3, Coordinates: {'lat': 25.217594, 'lon': 55.278461},\n",
       " - Type: architecture, ID: Q1470076, Rate: 3, Coordinates: {'lat': 25.221111, 'lon': 55.280834},\n",
       " - Type: architecture, ID: Q1630922, Rate: 3, Coordinates: {'lat': 25.22352, 'lon': 55.282383},\n",
       " - Type: architecture, ID: Q17627890, Rate: 3, Coordinates: {'lat': 25.224056, 'lon': 55.282612},\n",
       " - Type: architecture, ID: Q1808295, Rate: 3, Coordinates: {'lat': 25.216333, 'lon': 55.279804},\n",
       " - Type: architecture, ID: Q3336839, Rate: 3, Coordinates: {'lat': 25.260555, 'lon': 55.314445},\n",
       " - Type: architecture, ID: Q56275601, Rate: 6, Coordinates: {'lat': 24.382299, 'lon': 55.715698},\n",
       " - Type: architecture, ID: Q845182, Rate: 3, Coordinates: {'lat': 25.217501, 'lon': 55.283333},\n",
       " - Type: cafes, ID: N4523950191, Rate: 1, Coordinates: {'lat': 25.255928, 'lon': 55.337543},\n",
       " - Type: cafes, ID: N4533092792, Rate: 1, Coordinates: {'lat': 25.243851, 'lon': 55.347355},\n",
       " - Type: cafes, ID: N4924644267, Rate: 1, Coordinates: {'lat': 25.252844, 'lon': 55.337124},\n",
       " - Type: cafes, ID: N4924644268, Rate: 1, Coordinates: {'lat': 25.25275, 'lon': 55.337135},\n",
       " - Type: cafes, ID: N4938941658, Rate: 1, Coordinates: {'lat': 25.242285, 'lon': 55.346275},\n",
       " - Type: cafes, ID: N5831038926, Rate: 1, Coordinates: {'lat': 25.248913, 'lon': 55.36137},\n",
       " - Type: cafes, ID: N5831038945, Rate: 1, Coordinates: {'lat': 25.249771, 'lon': 55.359661},\n",
       " - Type: cafes, ID: N5831038946, Rate: 1, Coordinates: {'lat': 25.249435, 'lon': 55.359444},\n",
       " - Type: cafes, ID: N5831276719, Rate: 1, Coordinates: {'lat': 25.249344, 'lon': 55.359482},\n",
       " - Type: cafes, ID: N6424091585, Rate: 1, Coordinates: {'lat': 25.253239, 'lon': 55.352547},\n",
       " - Type: cultural, ID: N3272826588, Rate: 3, Coordinates: {'lat': 25.321817, 'lon': 55.376579},\n",
       " - Type: cultural, ID: N3717446089, Rate: 3, Coordinates: {'lat': 25.263521, 'lon': 55.297184},\n",
       " - Type: cultural, ID: N4229660397, Rate: 3, Coordinates: {'lat': 25.263807, 'lon': 55.297253},\n",
       " - Type: cultural, ID: N5109369021, Rate: 3, Coordinates: {'lat': 25.19743, 'lon': 55.278473},\n",
       " - Type: cultural, ID: N5332056385, Rate: 3, Coordinates: {'lat': 25.241432, 'lon': 55.269329},\n",
       " - Type: cultural, ID: R5467412, Rate: 3, Coordinates: {'lat': 25.268602, 'lon': 55.29034},\n",
       " - Type: cultural, ID: R5755009, Rate: 3, Coordinates: {'lat': 25.267975, 'lon': 55.290043},\n",
       " - Type: cultural, ID: W386649647, Rate: 3, Coordinates: {'lat': 25.235458, 'lon': 55.300373},\n",
       " - Type: cultural, ID: W491182166, Rate: 3, Coordinates: {'lat': 25.265011, 'lon': 55.299423},\n",
       " - Type: cultural, ID: W503468426, Rate: 3, Coordinates: {'lat': 25.195662, 'lon': 55.277054},\n",
       " - Type: cultural, ID: W542042595, Rate: 3, Coordinates: {'lat': 25.26416, 'lon': 55.300201},\n",
       " - Type: fast_food, ID: N3120381919, Rate: 1, Coordinates: {'lat': 25.251873, 'lon': 55.333317},\n",
       " - Type: fast_food, ID: N3120381920, Rate: 1, Coordinates: {'lat': 25.251776, 'lon': 55.33305},\n",
       " - Type: fast_food, ID: N4319296906, Rate: 1, Coordinates: {'lat': 25.249846, 'lon': 55.341888},\n",
       " - Type: fast_food, ID: N4860242923, Rate: 1, Coordinates: {'lat': 25.234407, 'lon': 55.350113},\n",
       " - Type: fast_food, ID: N5831003841, Rate: 1, Coordinates: {'lat': 25.247059, 'lon': 55.363689},\n",
       " - Type: fast_food, ID: N5831003842, Rate: 1, Coordinates: {'lat': 25.247126, 'lon': 55.363567},\n",
       " - Type: fast_food, ID: N5831038930, Rate: 1, Coordinates: {'lat': 25.249056, 'lon': 55.360912},\n",
       " - Type: fast_food, ID: N5831038933, Rate: 1, Coordinates: {'lat': 25.248783, 'lon': 55.3606},\n",
       " - Type: fast_food, ID: N5831038940, Rate: 1, Coordinates: {'lat': 25.249155, 'lon': 55.359997},\n",
       " - Type: fast_food, ID: N5831276715, Rate: 1, Coordinates: {'lat': 25.249601, 'lon': 55.360085},\n",
       " - Type: hotel, ID: 230411, Rate: 9.0, Coordinates: {'lat': 25.249397, 'lon': 55.347909},\n",
       " - Type: malls, ID: N2377117124, Rate: 3, Coordinates: {'lat': 25.044687, 'lon': 55.120426},\n",
       " - Type: malls, ID: N281184717, Rate: 3, Coordinates: {'lat': 25.21641, 'lon': 55.252979},\n",
       " - Type: malls, ID: N4757512725, Rate: 3, Coordinates: {'lat': 25.251019, 'lon': 55.333748},\n",
       " - Type: malls, ID: N5557725122, Rate: 3, Coordinates: {'lat': 25.199577, 'lon': 55.278812},\n",
       " - Type: malls, ID: W102832548, Rate: 3, Coordinates: {'lat': 25.04458, 'lon': 55.120575},\n",
       " - Type: malls, ID: W105359350, Rate: 3, Coordinates: {'lat': 25.21607, 'lon': 55.407467},\n",
       " - Type: malls, ID: W175115425, Rate: 3, Coordinates: {'lat': 25.118244, 'lon': 55.200363},\n",
       " - Type: malls, ID: W211573873, Rate: 3, Coordinates: {'lat': 25.125589, 'lon': 56.302231},\n",
       " - Type: malls, ID: W25780630, Rate: 3, Coordinates: {'lat': 25.252228, 'lon': 55.332245},\n",
       " - Type: malls, ID: W47515677, Rate: 3, Coordinates: {'lat': 25.197092, 'lon': 55.279037},\n",
       " - Type: malls, ID: W94414196, Rate: 3, Coordinates: {'lat': 25.13171, 'lon': 55.118267},\n",
       " - Type: marketplaces, ID: N6297042204, Rate: 1, Coordinates: {'lat': 24.365515, 'lon': 56.747868},\n",
       " - Type: natural, ID: Q1261909, Rate: 3, Coordinates: {'lat': 25.666666, 'lon': 56.133335},\n",
       " - Type: natural, ID: Q1262853, Rate: 7, Coordinates: {'lat': 25.255833, 'lon': 55.316666},\n",
       " - Type: natural, ID: Q2538723, Rate: 6, Coordinates: {'lat': 25.4, 'lon': 56.25},\n",
       " - Type: natural, ID: Q6109882, Rate: 2, Coordinates: {'lat': 25.5, 'lon': 56.049999},\n",
       " - Type: natural, ID: Q6109894, Rate: 2, Coordinates: {'lat': 25.333334, 'lon': 56.099998},\n",
       " - Type: natural, ID: R9814219, Rate: 2, Coordinates: {'lat': 24.742998, 'lon': 55.404579},\n",
       " - Type: natural, ID: W184188452, Rate: 2, Coordinates: {'lat': 25.313133, 'lon': 55.535809},\n",
       " - Type: natural, ID: W342923810, Rate: 3, Coordinates: {'lat': 25.214947, 'lon': 55.449951},\n",
       " - Type: natural, ID: W377687909, Rate: 2, Coordinates: {'lat': 24.857681, 'lon': 55.652054},\n",
       " - Type: natural, ID: W89654734, Rate: 3, Coordinates: {'lat': 25.185005, 'lon': 55.223492},\n",
       " - Type: restaurants, ID: N3712552594, Rate: 1, Coordinates: {'lat': 25.249191, 'lon': 55.347126},\n",
       " - Type: restaurants, ID: N3725053793, Rate: 1, Coordinates: {'lat': 25.248833, 'lon': 55.347412},\n",
       " - Type: restaurants, ID: N3725053794, Rate: 1, Coordinates: {'lat': 25.248615, 'lon': 55.34716},\n",
       " - Type: restaurants, ID: N3725053795, Rate: 1, Coordinates: {'lat': 25.248756, 'lon': 55.347496},\n",
       " - Type: restaurants, ID: N3725053796, Rate: 1, Coordinates: {'lat': 25.248528, 'lon': 55.347649},\n",
       " - Type: restaurants, ID: N3725057565, Rate: 1, Coordinates: {'lat': 25.248861, 'lon': 55.347076},\n",
       " - Type: restaurants, ID: N3725166284, Rate: 1, Coordinates: {'lat': 25.248695, 'lon': 55.34753},\n",
       " - Type: restaurants, ID: N4165248487, Rate: 1, Coordinates: {'lat': 25.251713, 'lon': 55.34547},\n",
       " - Type: restaurants, ID: N4519219289, Rate: 1, Coordinates: {'lat': 25.247738, 'lon': 55.345081},\n",
       " - Type: restaurants, ID: N4924887662, Rate: 1, Coordinates: {'lat': 25.252672, 'lon': 55.341522},\n",
       " - Type: restaurants, ID: N6438708985, Rate: 1, Coordinates: {'lat': 25.251934, 'lon': 55.345695},\n",
       " - Type: sport, ID: Q2000728, Rate: 3, Coordinates: {'lat': 24.207293, 'lon': 55.766335},\n",
       " - Type: sport, ID: Q285692, Rate: 3, Coordinates: {'lat': 24.469397, 'lon': 54.375252},\n",
       " - Type: sport, ID: Q5206123, Rate: 3, Coordinates: {'lat': 25.043303, 'lon': 55.224579},\n",
       " - Type: sport, ID: R5719292, Rate: 3, Coordinates: {'lat': 24.452808, 'lon': 54.392872},\n",
       " - Type: sport, ID: R9125734, Rate: 3, Coordinates: {'lat': 25.279675, 'lon': 55.359955},\n",
       " - Type: sport, ID: R968978, Rate: 3, Coordinates: {'lat': 24.416084, 'lon': 54.452602},\n",
       " - Type: sport, ID: W139822392, Rate: 3, Coordinates: {'lat': 25.046738, 'lon': 55.219006},\n",
       " - Type: sport, ID: W201292184, Rate: 3, Coordinates: {'lat': 25.290703, 'lon': 55.348175},\n",
       " - Type: sport, ID: W584967778, Rate: 3, Coordinates: {'lat': 24.245052, 'lon': 55.717056},\n",
       " - Type: sport, ID: W74954610, Rate: 3, Coordinates: {'lat': 25.33078, 'lon': 55.420906},\n",
       " - Type: sport, ID: W93632515, Rate: 3, Coordinates: {'lat': 25.117306, 'lon': 55.198196}}"
      ]
     },
     "execution_count": 10,
     "metadata": {},
     "output_type": "execute_result"
    }
   ],
   "source": [
    "trip"
   ]
  },
  {
   "cell_type": "code",
   "execution_count": null,
   "metadata": {},
   "outputs": [],
   "source": []
  },
  {
   "cell_type": "code",
   "execution_count": 11,
   "metadata": {},
   "outputs": [],
   "source": [
    "with open('dubai_trip_data.pkl', 'wb') as output:\n",
    "    pickle.dump(trip, output, pickle.HIGHEST_PROTOCOL)"
   ]
  },
  {
   "cell_type": "code",
   "execution_count": 12,
   "metadata": {},
   "outputs": [],
   "source": [
    "with open('dubai_trip_data.pkl', 'rb') as input:\n",
    "    l_trip = pickle.load(input)"
   ]
  },
  {
   "cell_type": "code",
   "execution_count": 15,
   "metadata": {},
   "outputs": [
    {
     "data": {
      "text/plain": [
       "{- Type: architecture, ID: Q1069161, Rate: 3, Coordinates: {'lat': 25.211378, 'lon': 55.275257},\n",
       " - Type: architecture, ID: Q1264855, Rate: 3, Coordinates: {'lat': 25.207117, 'lon': 55.279018},\n",
       " - Type: architecture, ID: Q1436004, Rate: 3, Coordinates: {'lat': 25.217594, 'lon': 55.278461},\n",
       " - Type: architecture, ID: Q1470076, Rate: 3, Coordinates: {'lat': 25.221111, 'lon': 55.280834},\n",
       " - Type: architecture, ID: Q1630922, Rate: 3, Coordinates: {'lat': 25.22352, 'lon': 55.282383},\n",
       " - Type: architecture, ID: Q17627890, Rate: 3, Coordinates: {'lat': 25.224056, 'lon': 55.282612},\n",
       " - Type: architecture, ID: Q1808295, Rate: 3, Coordinates: {'lat': 25.216333, 'lon': 55.279804},\n",
       " - Type: architecture, ID: Q3336839, Rate: 3, Coordinates: {'lat': 25.260555, 'lon': 55.314445},\n",
       " - Type: architecture, ID: Q56275601, Rate: 6, Coordinates: {'lat': 24.382299, 'lon': 55.715698},\n",
       " - Type: architecture, ID: Q845182, Rate: 3, Coordinates: {'lat': 25.217501, 'lon': 55.283333},\n",
       " - Type: cafes, ID: N4523950191, Rate: 1, Coordinates: {'lat': 25.255928, 'lon': 55.337543},\n",
       " - Type: cafes, ID: N4533092792, Rate: 1, Coordinates: {'lat': 25.243851, 'lon': 55.347355},\n",
       " - Type: cafes, ID: N4924644267, Rate: 1, Coordinates: {'lat': 25.252844, 'lon': 55.337124},\n",
       " - Type: cafes, ID: N4924644268, Rate: 1, Coordinates: {'lat': 25.25275, 'lon': 55.337135},\n",
       " - Type: cafes, ID: N4938941658, Rate: 1, Coordinates: {'lat': 25.242285, 'lon': 55.346275},\n",
       " - Type: cafes, ID: N5831038926, Rate: 1, Coordinates: {'lat': 25.248913, 'lon': 55.36137},\n",
       " - Type: cafes, ID: N5831038945, Rate: 1, Coordinates: {'lat': 25.249771, 'lon': 55.359661},\n",
       " - Type: cafes, ID: N5831038946, Rate: 1, Coordinates: {'lat': 25.249435, 'lon': 55.359444},\n",
       " - Type: cafes, ID: N5831276719, Rate: 1, Coordinates: {'lat': 25.249344, 'lon': 55.359482},\n",
       " - Type: cafes, ID: N6424091585, Rate: 1, Coordinates: {'lat': 25.253239, 'lon': 55.352547},\n",
       " - Type: cultural, ID: N3272826588, Rate: 3, Coordinates: {'lat': 25.321817, 'lon': 55.376579},\n",
       " - Type: cultural, ID: N3717446089, Rate: 3, Coordinates: {'lat': 25.263521, 'lon': 55.297184},\n",
       " - Type: cultural, ID: N4229660397, Rate: 3, Coordinates: {'lat': 25.263807, 'lon': 55.297253},\n",
       " - Type: cultural, ID: N5109369021, Rate: 3, Coordinates: {'lat': 25.19743, 'lon': 55.278473},\n",
       " - Type: cultural, ID: N5332056385, Rate: 3, Coordinates: {'lat': 25.241432, 'lon': 55.269329},\n",
       " - Type: cultural, ID: R5467412, Rate: 3, Coordinates: {'lat': 25.268602, 'lon': 55.29034},\n",
       " - Type: cultural, ID: R5755009, Rate: 3, Coordinates: {'lat': 25.267975, 'lon': 55.290043},\n",
       " - Type: cultural, ID: W386649647, Rate: 3, Coordinates: {'lat': 25.235458, 'lon': 55.300373},\n",
       " - Type: cultural, ID: W491182166, Rate: 3, Coordinates: {'lat': 25.265011, 'lon': 55.299423},\n",
       " - Type: cultural, ID: W503468426, Rate: 3, Coordinates: {'lat': 25.195662, 'lon': 55.277054},\n",
       " - Type: cultural, ID: W542042595, Rate: 3, Coordinates: {'lat': 25.26416, 'lon': 55.300201},\n",
       " - Type: fast_food, ID: N3120381919, Rate: 1, Coordinates: {'lat': 25.251873, 'lon': 55.333317},\n",
       " - Type: fast_food, ID: N3120381920, Rate: 1, Coordinates: {'lat': 25.251776, 'lon': 55.33305},\n",
       " - Type: fast_food, ID: N4319296906, Rate: 1, Coordinates: {'lat': 25.249846, 'lon': 55.341888},\n",
       " - Type: fast_food, ID: N4860242923, Rate: 1, Coordinates: {'lat': 25.234407, 'lon': 55.350113},\n",
       " - Type: fast_food, ID: N5831003841, Rate: 1, Coordinates: {'lat': 25.247059, 'lon': 55.363689},\n",
       " - Type: fast_food, ID: N5831003842, Rate: 1, Coordinates: {'lat': 25.247126, 'lon': 55.363567},\n",
       " - Type: fast_food, ID: N5831038930, Rate: 1, Coordinates: {'lat': 25.249056, 'lon': 55.360912},\n",
       " - Type: fast_food, ID: N5831038933, Rate: 1, Coordinates: {'lat': 25.248783, 'lon': 55.3606},\n",
       " - Type: fast_food, ID: N5831038940, Rate: 1, Coordinates: {'lat': 25.249155, 'lon': 55.359997},\n",
       " - Type: fast_food, ID: N5831276715, Rate: 1, Coordinates: {'lat': 25.249601, 'lon': 55.360085},\n",
       " - Type: hotel, ID: 230411, Rate: 9.0, Coordinates: {'lat': 25.249397, 'lon': 55.347909},\n",
       " - Type: malls, ID: N2377117124, Rate: 3, Coordinates: {'lat': 25.044687, 'lon': 55.120426},\n",
       " - Type: malls, ID: N281184717, Rate: 3, Coordinates: {'lat': 25.21641, 'lon': 55.252979},\n",
       " - Type: malls, ID: N4757512725, Rate: 3, Coordinates: {'lat': 25.251019, 'lon': 55.333748},\n",
       " - Type: malls, ID: N5557725122, Rate: 3, Coordinates: {'lat': 25.199577, 'lon': 55.278812},\n",
       " - Type: malls, ID: W102832548, Rate: 3, Coordinates: {'lat': 25.04458, 'lon': 55.120575},\n",
       " - Type: malls, ID: W105359350, Rate: 3, Coordinates: {'lat': 25.21607, 'lon': 55.407467},\n",
       " - Type: malls, ID: W175115425, Rate: 3, Coordinates: {'lat': 25.118244, 'lon': 55.200363},\n",
       " - Type: malls, ID: W211573873, Rate: 3, Coordinates: {'lat': 25.125589, 'lon': 56.302231},\n",
       " - Type: malls, ID: W25780630, Rate: 3, Coordinates: {'lat': 25.252228, 'lon': 55.332245},\n",
       " - Type: malls, ID: W47515677, Rate: 3, Coordinates: {'lat': 25.197092, 'lon': 55.279037},\n",
       " - Type: malls, ID: W94414196, Rate: 3, Coordinates: {'lat': 25.13171, 'lon': 55.118267},\n",
       " - Type: marketplaces, ID: N6297042204, Rate: 1, Coordinates: {'lat': 24.365515, 'lon': 56.747868},\n",
       " - Type: natural, ID: Q1261909, Rate: 3, Coordinates: {'lat': 25.666666, 'lon': 56.133335},\n",
       " - Type: natural, ID: Q1262853, Rate: 7, Coordinates: {'lat': 25.255833, 'lon': 55.316666},\n",
       " - Type: natural, ID: Q2538723, Rate: 6, Coordinates: {'lat': 25.4, 'lon': 56.25},\n",
       " - Type: natural, ID: Q6109882, Rate: 2, Coordinates: {'lat': 25.5, 'lon': 56.049999},\n",
       " - Type: natural, ID: Q6109894, Rate: 2, Coordinates: {'lat': 25.333334, 'lon': 56.099998},\n",
       " - Type: natural, ID: R9814219, Rate: 2, Coordinates: {'lat': 24.742998, 'lon': 55.404579},\n",
       " - Type: natural, ID: W184188452, Rate: 2, Coordinates: {'lat': 25.313133, 'lon': 55.535809},\n",
       " - Type: natural, ID: W342923810, Rate: 3, Coordinates: {'lat': 25.214947, 'lon': 55.449951},\n",
       " - Type: natural, ID: W377687909, Rate: 2, Coordinates: {'lat': 24.857681, 'lon': 55.652054},\n",
       " - Type: natural, ID: W89654734, Rate: 3, Coordinates: {'lat': 25.185005, 'lon': 55.223492},\n",
       " - Type: restaurants, ID: N3712552594, Rate: 1, Coordinates: {'lat': 25.249191, 'lon': 55.347126},\n",
       " - Type: restaurants, ID: N3725053793, Rate: 1, Coordinates: {'lat': 25.248833, 'lon': 55.347412},\n",
       " - Type: restaurants, ID: N3725053794, Rate: 1, Coordinates: {'lat': 25.248615, 'lon': 55.34716},\n",
       " - Type: restaurants, ID: N3725053795, Rate: 1, Coordinates: {'lat': 25.248756, 'lon': 55.347496},\n",
       " - Type: restaurants, ID: N3725053796, Rate: 1, Coordinates: {'lat': 25.248528, 'lon': 55.347649},\n",
       " - Type: restaurants, ID: N3725057565, Rate: 1, Coordinates: {'lat': 25.248861, 'lon': 55.347076},\n",
       " - Type: restaurants, ID: N3725166284, Rate: 1, Coordinates: {'lat': 25.248695, 'lon': 55.34753},\n",
       " - Type: restaurants, ID: N4165248487, Rate: 1, Coordinates: {'lat': 25.251713, 'lon': 55.34547},\n",
       " - Type: restaurants, ID: N4519219289, Rate: 1, Coordinates: {'lat': 25.247738, 'lon': 55.345081},\n",
       " - Type: restaurants, ID: N4924887662, Rate: 1, Coordinates: {'lat': 25.252672, 'lon': 55.341522},\n",
       " - Type: restaurants, ID: N6438708985, Rate: 1, Coordinates: {'lat': 25.251934, 'lon': 55.345695},\n",
       " - Type: sport, ID: Q2000728, Rate: 3, Coordinates: {'lat': 24.207293, 'lon': 55.766335},\n",
       " - Type: sport, ID: Q285692, Rate: 3, Coordinates: {'lat': 24.469397, 'lon': 54.375252},\n",
       " - Type: sport, ID: Q5206123, Rate: 3, Coordinates: {'lat': 25.043303, 'lon': 55.224579},\n",
       " - Type: sport, ID: R5719292, Rate: 3, Coordinates: {'lat': 24.452808, 'lon': 54.392872},\n",
       " - Type: sport, ID: R9125734, Rate: 3, Coordinates: {'lat': 25.279675, 'lon': 55.359955},\n",
       " - Type: sport, ID: R968978, Rate: 3, Coordinates: {'lat': 24.416084, 'lon': 54.452602},\n",
       " - Type: sport, ID: W139822392, Rate: 3, Coordinates: {'lat': 25.046738, 'lon': 55.219006},\n",
       " - Type: sport, ID: W201292184, Rate: 3, Coordinates: {'lat': 25.290703, 'lon': 55.348175},\n",
       " - Type: sport, ID: W584967778, Rate: 3, Coordinates: {'lat': 24.245052, 'lon': 55.717056},\n",
       " - Type: sport, ID: W74954610, Rate: 3, Coordinates: {'lat': 25.33078, 'lon': 55.420906},\n",
       " - Type: sport, ID: W93632515, Rate: 3, Coordinates: {'lat': 25.117306, 'lon': 55.198196}}"
      ]
     },
     "execution_count": 15,
     "metadata": {},
     "output_type": "execute_result"
    }
   ],
   "source": [
    "l_trip"
   ]
  },
  {
   "cell_type": "markdown",
   "metadata": {},
   "source": [
    "## 2. Filtering data"
   ]
  },
  {
   "cell_type": "code",
   "execution_count": null,
   "metadata": {},
   "outputs": [],
   "source": []
  },
  {
   "cell_type": "code",
   "execution_count": null,
   "metadata": {},
   "outputs": [],
   "source": []
  },
  {
   "cell_type": "markdown",
   "metadata": {},
   "source": [
    "## 3. Preview trip data"
   ]
  },
  {
   "cell_type": "code",
   "execution_count": 5,
   "metadata": {},
   "outputs": [],
   "source": []
  },
  {
   "cell_type": "code",
   "execution_count": null,
   "metadata": {},
   "outputs": [],
   "source": []
  }
 ],
 "metadata": {
  "kernelspec": {
   "display_name": "Python 3",
   "language": "python",
   "name": "python3"
  },
  "language_info": {
   "codemirror_mode": {
    "name": "ipython",
    "version": 3
   },
   "file_extension": ".py",
   "mimetype": "text/x-python",
   "name": "python",
   "nbconvert_exporter": "python",
   "pygments_lexer": "ipython3",
   "version": "3.8.0"
  }
 },
 "nbformat": 4,
 "nbformat_minor": 4
}
