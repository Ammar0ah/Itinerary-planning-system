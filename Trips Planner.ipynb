{
 "cells": [
  {
   "cell_type": "markdown",
   "metadata": {},
   "source": [
    "# TripPal Trips Planner"
   ]
  },
  {
   "cell_type": "code",
   "execution_count": 10,
   "metadata": {},
   "outputs": [],
   "source": [
    "import numpy as np \n",
    "import pandas as pd\n",
    "import json\n",
    "import seaborn as sns\n",
    "import matplotlib.pyplot as plt\n",
    "from Search_engine import Search_Engine"
   ]
  },
  {
   "cell_type": "markdown",
   "metadata": {},
   "source": [
    "## 1. Fetching data"
   ]
  },
  {
   "cell_type": "code",
   "execution_count": 2,
   "metadata": {},
   "outputs": [],
   "source": [
    "search_engine = Search_Engine()"
   ]
  },
  {
   "cell_type": "code",
   "execution_count": 3,
   "metadata": {},
   "outputs": [],
   "source": [
    "trip = search_engine.collect_trip_components('milan', 3)"
   ]
  },
  {
   "cell_type": "code",
   "execution_count": 4,
   "metadata": {},
   "outputs": [
    {
     "data": {
      "text/plain": [
       "[- Type: hotel, ID: 194687, Rate: 8.6, Coordinates: {'lat': 45.47892, 'lon': 9.14523},\n",
       " - Type: fortification, ID: R1918, Rate: 7, Coordinates: {'lat': 45.470272, 'lon': 9.178132},\n",
       " - Type: fortification, ID: R6778067, Rate: 7, Coordinates: {'lat': 45.484604, 'lon': 9.179964},\n",
       " - Type: fortification, ID: N4545225168, Rate: 7, Coordinates: {'lat': 45.48209, 'lon': 9.181561},\n",
       " - Type: fortification, ID: W36458138, Rate: 7, Coordinates: {'lat': 45.481773, 'lon': 9.181784},\n",
       " - Type: fortification, ID: W36458137, Rate: 7, Coordinates: {'lat': 45.481907, 'lon': 9.182186},\n",
       " - Type: fortification, ID: R6658252, Rate: 7, Coordinates: {'lat': 45.470509, 'lon': 9.180561},\n",
       " - Type: fortification, ID: N4660007505, Rate: 7, Coordinates: {'lat': 45.470642, 'lon': 9.180878}]"
      ]
     },
     "execution_count": 4,
     "metadata": {},
     "output_type": "execute_result"
    }
   ],
   "source": [
    "trip"
   ]
  },
  {
   "cell_type": "markdown",
   "metadata": {},
   "source": [
    "## 2. Filtering data"
   ]
  },
  {
   "cell_type": "code",
   "execution_count": null,
   "metadata": {},
   "outputs": [],
   "source": []
  },
  {
   "cell_type": "code",
   "execution_count": null,
   "metadata": {},
   "outputs": [],
   "source": []
  },
  {
   "cell_type": "markdown",
   "metadata": {},
   "source": [
    "## 3. Preview trip data"
   ]
  },
  {
   "cell_type": "code",
   "execution_count": null,
   "metadata": {},
   "outputs": [],
   "source": []
  }
 ],
 "metadata": {
  "kernelspec": {
   "display_name": "Python 3",
   "language": "python",
   "name": "python3"
  },
  "language_info": {
   "codemirror_mode": {
    "name": "ipython",
    "version": 3
   },
   "file_extension": ".py",
   "mimetype": "text/x-python",
   "name": "python",
   "nbconvert_exporter": "python",
   "pygments_lexer": "ipython3",
   "version": "3.8.0"
  }
 },
 "nbformat": 4,
 "nbformat_minor": 4
}
