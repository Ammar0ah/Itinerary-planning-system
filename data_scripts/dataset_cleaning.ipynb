{
 "cells": [
  {
   "cell_type": "code",
   "execution_count": 1,
   "metadata": {},
   "outputs": [],
   "source": [
    "import pandas as pd\n",
    "import json"
   ]
  },
  {
   "cell_type": "markdown",
   "metadata": {},
   "source": [
    "### Shrink the dataset into subsets"
   ]
  },
  {
   "cell_type": "code",
   "execution_count": 2,
   "metadata": {},
   "outputs": [
    {
     "name": "stdout",
     "output_type": "stream",
     "text": [
      "parsing progress: 1/10\n",
      "parsing progress: 2/10\n",
      "parsing progress: 3/10\n",
      "parsing progress: 4/10\n",
      "parsing progress: 5/10\n",
      "parsing progress: 6/10\n",
      "parsing progress: 7/10\n",
      "parsing progress: 8/10\n",
      "parsing progress: 9/10\n",
      "parsing progress: 10/10\n"
     ]
    }
   ],
   "source": [
    "data = []\n",
    "prs = 0\n",
    "\n",
    "with open('/Users/osamaalhalabi/Desktop/trips-planning-system/dataset/HotelRec.json') as f:\n",
    "    for line in f:\n",
    "        data.append(json.loads(line))\n",
    "        \n",
    "        if len(data) == 5000000:\n",
    "            df = pd.DataFrame(data)\n",
    "            df.drop([\"author\", \"date\", \"title\"], axis = 1, inplace = True) \n",
    "            df = df[df['property_dict'].map(len) > 2]\n",
    "            df=df.reset_index(drop= True)\n",
    "            data.clear()\n",
    "            prs = prs + 1\n",
    "            df.to_csv(\"/Users/osamaalhalabi/Desktop/trips-planning-system/temp/part_{0}.csv\".format(prs),\n",
    "                      header=True, index=False) \n",
    "            print('parsing progress: {0}/10'.format(prs))\n",
    "            \n",
    "        if prs == 10:\n",
    "            break"
   ]
  },
  {
   "cell_type": "markdown",
   "metadata": {},
   "source": [
    "#### Preprocessing the Data"
   ]
  },
  {
   "cell_type": "code",
   "execution_count": 10,
   "metadata": {},
   "outputs": [],
   "source": [
    "def save_link(df, idx):\n",
    "    df = df.drop_duplicates(subset=['hotel_url'])\n",
    "    res = df.hotel_url\n",
    "    res.to_csv('/Users/osamaalhalabi/Desktop/trips-planning-system/res/part_{}.csv'.format(idx),\n",
    "               header=True,\n",
    "               index=False)"
   ]
  },
  {
   "cell_type": "code",
   "execution_count": 38,
   "metadata": {},
   "outputs": [],
   "source": [
    "df = pd.read_csv(\"/Users/osamaalhalabi/Desktop/trips-planning-system/temp/part_10.csv\")"
   ]
  },
  {
   "cell_type": "code",
   "execution_count": 39,
   "metadata": {},
   "outputs": [
    {
     "data": {
      "text/html": [
       "<div>\n",
       "<style scoped>\n",
       "    .dataframe tbody tr th:only-of-type {\n",
       "        vertical-align: middle;\n",
       "    }\n",
       "\n",
       "    .dataframe tbody tr th {\n",
       "        vertical-align: top;\n",
       "    }\n",
       "\n",
       "    .dataframe thead th {\n",
       "        text-align: right;\n",
       "    }\n",
       "</style>\n",
       "<table border=\"1\" class=\"dataframe\">\n",
       "  <thead>\n",
       "    <tr style=\"text-align: right;\">\n",
       "      <th></th>\n",
       "      <th>hotel_url</th>\n",
       "      <th>rating</th>\n",
       "      <th>text</th>\n",
       "      <th>property_dict</th>\n",
       "    </tr>\n",
       "  </thead>\n",
       "  <tbody>\n",
       "    <tr>\n",
       "      <th>0</th>\n",
       "      <td>Hotel_Review-g34515-d85438-Reviews-Renaissance...</td>\n",
       "      <td>5.0</td>\n",
       "      <td>I have read so much blah, blah, blah about thi...</td>\n",
       "      <td>{'service': 5.0, 'sleep quality': 5.0, 'rooms'...</td>\n",
       "    </tr>\n",
       "    <tr>\n",
       "      <th>1</th>\n",
       "      <td>Hotel_Review-g612473-d4718839-Reviews-Royalton...</td>\n",
       "      <td>5.0</td>\n",
       "      <td>The staff at this resort were amazing. This wa...</td>\n",
       "      <td>{'service': 5.0, 'cleanliness': 5.0, 'value': ...</td>\n",
       "    </tr>\n",
       "    <tr>\n",
       "      <th>2</th>\n",
       "      <td>Hotel_Review-g34515-d85438-Reviews-Renaissance...</td>\n",
       "      <td>5.0</td>\n",
       "      <td>Attended a wedding at the hotel and stayed an ...</td>\n",
       "      <td>{'service': 5.0, 'sleep quality': 5.0, 'rooms'...</td>\n",
       "    </tr>\n",
       "  </tbody>\n",
       "</table>\n",
       "</div>"
      ],
      "text/plain": [
       "                                           hotel_url  rating  \\\n",
       "0  Hotel_Review-g34515-d85438-Reviews-Renaissance...     5.0   \n",
       "1  Hotel_Review-g612473-d4718839-Reviews-Royalton...     5.0   \n",
       "2  Hotel_Review-g34515-d85438-Reviews-Renaissance...     5.0   \n",
       "\n",
       "                                                text  \\\n",
       "0  I have read so much blah, blah, blah about thi...   \n",
       "1  The staff at this resort were amazing. This wa...   \n",
       "2  Attended a wedding at the hotel and stayed an ...   \n",
       "\n",
       "                                       property_dict  \n",
       "0  {'service': 5.0, 'sleep quality': 5.0, 'rooms'...  \n",
       "1  {'service': 5.0, 'cleanliness': 5.0, 'value': ...  \n",
       "2  {'service': 5.0, 'sleep quality': 5.0, 'rooms'...  "
      ]
     },
     "execution_count": 39,
     "metadata": {},
     "output_type": "execute_result"
    }
   ],
   "source": [
    "df.head(3)"
   ]
  },
  {
   "cell_type": "code",
   "execution_count": 40,
   "metadata": {},
   "outputs": [],
   "source": [
    "save_link(df, 10)"
   ]
  },
  {
   "cell_type": "code",
   "execution_count": 8,
   "metadata": {},
   "outputs": [],
   "source": [
    "def get_hotel_name(url : str):\n",
    "    start = url.find('-Reviews-')+9\n",
    "    mid = url.find('-',start)\n",
    "    end = url.find('.',mid)\n",
    "    return url[start:mid], url[mid+1:end]\n",
    "\n",
    "def change_names(names):\n",
    "    names_ = [] \n",
    "    locs = []\n",
    "    for hotel in names:\n",
    "        (name,loc) = get_hotel_name(hotel)\n",
    "        names_.append(name)\n",
    "        locs.append(loc)\n",
    "    return names_,locs"
   ]
  },
  {
   "cell_type": "code",
   "execution_count": 9,
   "metadata": {},
   "outputs": [],
   "source": [
    "def parse(index):\n",
    "    df = pd.read_csv(\"/Users/osamaalhalabi/Documents/GradProject/RecSys/Parsed Dataset/part_{0}.csv\".format(index))\n",
    "    names, locs = change_names(df.hotel_url)\n",
    "    df.hotel_url = names\n",
    "    df['address'] = locs\n",
    "    \n",
    "    df['hotel_url'] = df['hotel_url'].str.replace('_',' ')\n",
    "    df['address'] = df['address'].str.replace('_',' ')\n",
    "    df.rename(columns = {'hotel_url' : 'name' }, inplace = True)\n",
    "    \n",
    "    df_rev = df.groupby(\"name\").sample(20, random_state=2 , replace = True)\n",
    "    df_rev.drop([\"address\", \"property_dict\"], axis = 1, inplace = True) \n",
    "    df_rev = df_rev.drop_duplicates()\n",
    "    df_rev.to_csv(\"/Users/osamaalhalabi/Documents/GradProject/RecSys/Probabilistic Dataset/reviews_{0}.csv\".format(index),\n",
    "                      header=True, index=False) \n",
    "    print(\"Reviews extracting done..\")\n",
    "\n",
    "    dicts = []\n",
    "    for row in df.property_dict:\n",
    "        dicts.append(eval(row))\n",
    "        \n",
    "    df_rate = pd.json_normalize(dicts)\n",
    "    df_rate = df_rate.join(df.name, lsuffix=\"_left\", rsuffix=\"_right\")\n",
    "    df_rate = df_rate.join(df.rating, lsuffix=\"_left\", rsuffix=\"_right\")\n",
    "    df_rate = df_rate.join(df.address, lsuffix=\"_left\", rsuffix=\"_right\")\n",
    "    \n",
    "    df_rate = df_rate.groupby(['name','address'])['rating','service',\n",
    "                                                   'location','value','cleanliness','sleep quality',\n",
    "                                                   'check in / front desk', 'rooms',\n",
    "                                                   'business service (e.g., internet access)'].mean()\n",
    "    df_rate = df_rate.round(1)\n",
    "    df_rate.to_csv(\"/Users/osamaalhalabi/Documents/GradProject/RecSys/Probabilistic Dataset/prob_{0}.csv\".format(index),\n",
    "                      header=True, index=True) \n",
    "    print(\"Ratings extracting done!\")\n",
    "    return  'Done!'"
   ]
  },
  {
   "cell_type": "code",
   "execution_count": 276,
   "metadata": {},
   "outputs": [
    {
     "name": "stdout",
     "output_type": "stream",
     "text": [
      "Reviews extracting done..\n"
     ]
    },
    {
     "name": "stderr",
     "output_type": "stream",
     "text": [
      "<ipython-input-274-a55b97663588>:27: FutureWarning: Indexing with multiple keys (implicitly converted to a tuple of keys) will be deprecated, use a list instead.\n",
      "  df_rate = df_rate.groupby(['name','address'])['rating','service',\n"
     ]
    },
    {
     "name": "stdout",
     "output_type": "stream",
     "text": [
      "Ratings extracting done!\n",
      "Reviews extracting done..\n",
      "Ratings extracting done!\n",
      "Reviews extracting done..\n",
      "Ratings extracting done!\n",
      "Reviews extracting done..\n",
      "Ratings extracting done!\n",
      "Reviews extracting done..\n",
      "Ratings extracting done!\n",
      "Reviews extracting done..\n",
      "Ratings extracting done!\n",
      "Reviews extracting done..\n",
      "Ratings extracting done!\n",
      "Reviews extracting done..\n",
      "Ratings extracting done!\n"
     ]
    }
   ],
   "source": [
    "for idx in range(1, 11):\n",
    "    parse(idx)"
   ]
  },
  {
   "cell_type": "markdown",
   "metadata": {},
   "source": [
    "### Merge Subsets into One Dataset"
   ]
  },
  {
   "cell_type": "code",
   "execution_count": 1,
   "metadata": {},
   "outputs": [],
   "source": [
    "fout=open(\"/Users/osamaalhalabi/Documents/GradProject/RecSys/prob_fin.csv\",\"a\")\n",
    "for line in open(\"/Users/osamaalhalabi/Documents/GradProject/RecSys/Probabilistic Dataset/prob_1.csv\"):\n",
    "    fout.write(line)   \n",
    "for num in range(2,11):\n",
    "    f = open(\"/Users/osamaalhalabi/Documents/GradProject/RecSys/Probabilistic Dataset/prob_\"+str(num)+\".csv\")\n",
    "    f.__next__() \n",
    "    for line in f:\n",
    "         fout.write(line)\n",
    "    f.close() \n",
    "fout.close()"
   ]
  },
  {
   "cell_type": "code",
   "execution_count": 283,
   "metadata": {},
   "outputs": [],
   "source": [
    "fout=open(\"/Users/osamaalhalabi/Documents/GradProject/RecSys/reviews_fin.csv\",\"a\")\n",
    "for line in open(\"/Users/osamaalhalabi/Documents/GradProject/RecSys/Probabilistic Dataset/reviews_1.csv\"):\n",
    "    fout.write(line)  \n",
    "for num in range(2,11):\n",
    "    f = open(\"/Users/osamaalhalabi/Documents/GradProject/RecSys/Probabilistic Dataset/reviews_\"+str(num)+\".csv\")\n",
    "    f.__next__() \n",
    "    for line in f:\n",
    "         fout.write(line)\n",
    "    f.close() \n",
    "fout.close()"
   ]
  },
  {
   "cell_type": "code",
   "execution_count": null,
   "metadata": {},
   "outputs": [],
   "source": [
    "fout=open(\"/Users/osamaalhalabi/Desktop/trips-planning-system/dataset/tripAdvisor_hotel_urls/url_fin.csv\",\"a\")\n",
    "for line in open(\"/Users/osamaalhalabi/Desktop/trips-planning-system/dataset/tripAdvisor_hotel_urls/part_1.csv\"):\n",
    "    fout.write(line)   \n",
    "for num in range(2,11):\n",
    "    f = open(\"/Users/osamaalhalabi/Desktop/trips-planning-system/dataset/tripAdvisor_hotel_urls/part_\"+str(num)+\".csv\")\n",
    "    f.__next__() \n",
    "    for line in f:\n",
    "         fout.write(line)\n",
    "    f.close() \n",
    "fout.close()"
   ]
  },
  {
   "cell_type": "code",
   "execution_count": 285,
   "metadata": {},
   "outputs": [
    {
     "data": {
      "text/html": [
       "<div>\n",
       "<style scoped>\n",
       "    .dataframe tbody tr th:only-of-type {\n",
       "        vertical-align: middle;\n",
       "    }\n",
       "\n",
       "    .dataframe tbody tr th {\n",
       "        vertical-align: top;\n",
       "    }\n",
       "\n",
       "    .dataframe thead th {\n",
       "        text-align: right;\n",
       "    }\n",
       "</style>\n",
       "<table border=\"1\" class=\"dataframe\">\n",
       "  <thead>\n",
       "    <tr style=\"text-align: right;\">\n",
       "      <th></th>\n",
       "      <th>name</th>\n",
       "      <th>rating</th>\n",
       "      <th>text</th>\n",
       "    </tr>\n",
       "  </thead>\n",
       "  <tbody>\n",
       "    <tr>\n",
       "      <th>0</th>\n",
       "      <td>0031 Boutique Hotel Restaurant</td>\n",
       "      <td>5.0</td>\n",
       "      <td>At 0031 you come to the right place. Everythin...</td>\n",
       "    </tr>\n",
       "    <tr>\n",
       "      <th>1</th>\n",
       "      <td>0031 Boutique Hotel Restaurant</td>\n",
       "      <td>5.0</td>\n",
       "      <td>Just came back from my trip to Cumbuco. It was...</td>\n",
       "    </tr>\n",
       "    <tr>\n",
       "      <th>2</th>\n",
       "      <td>0031 Boutique Hotel Restaurant</td>\n",
       "      <td>5.0</td>\n",
       "      <td>I was 6 weeks in Cumbuco. 0031 is the best pla...</td>\n",
       "    </tr>\n",
       "    <tr>\n",
       "      <th>3</th>\n",
       "      <td>0031 Boutique Hotel Restaurant</td>\n",
       "      <td>5.0</td>\n",
       "      <td>everything was very nice. we had a lovely stay...</td>\n",
       "    </tr>\n",
       "    <tr>\n",
       "      <th>4</th>\n",
       "      <td>0031 Boutique Hotel Restaurant</td>\n",
       "      <td>5.0</td>\n",
       "      <td>For the third time in a row we've been to this...</td>\n",
       "    </tr>\n",
       "  </tbody>\n",
       "</table>\n",
       "</div>"
      ],
      "text/plain": [
       "                             name  rating  \\\n",
       "0  0031 Boutique Hotel Restaurant     5.0   \n",
       "1  0031 Boutique Hotel Restaurant     5.0   \n",
       "2  0031 Boutique Hotel Restaurant     5.0   \n",
       "3  0031 Boutique Hotel Restaurant     5.0   \n",
       "4  0031 Boutique Hotel Restaurant     5.0   \n",
       "\n",
       "                                                text  \n",
       "0  At 0031 you come to the right place. Everythin...  \n",
       "1  Just came back from my trip to Cumbuco. It was...  \n",
       "2  I was 6 weeks in Cumbuco. 0031 is the best pla...  \n",
       "3  everything was very nice. we had a lovely stay...  \n",
       "4  For the third time in a row we've been to this...  "
      ]
     },
     "execution_count": 285,
     "metadata": {},
     "output_type": "execute_result"
    }
   ],
   "source": [
    "rdf = pd.read_csv(\"/Users/osamaalhalabi/Documents/GradProject/RecSys/reviews_fin.csv\")\n",
    "rdf.head()"
   ]
  },
  {
   "cell_type": "code",
   "execution_count": 286,
   "metadata": {},
   "outputs": [
    {
     "name": "stderr",
     "output_type": "stream",
     "text": [
      "/Users/osamaalhalabi/opt/anaconda3/envs/venv/lib/python3.8/site-packages/IPython/core/interactiveshell.py:3146: DtypeWarning: Columns (2,3,4,5,6,7,8,9,10) have mixed types.Specify dtype option on import or set low_memory=False.\n",
      "  has_raised = await self.run_ast_nodes(code_ast.body, cell_name,\n"
     ]
    },
    {
     "data": {
      "text/html": [
       "<div>\n",
       "<style scoped>\n",
       "    .dataframe tbody tr th:only-of-type {\n",
       "        vertical-align: middle;\n",
       "    }\n",
       "\n",
       "    .dataframe tbody tr th {\n",
       "        vertical-align: top;\n",
       "    }\n",
       "\n",
       "    .dataframe thead th {\n",
       "        text-align: right;\n",
       "    }\n",
       "</style>\n",
       "<table border=\"1\" class=\"dataframe\">\n",
       "  <thead>\n",
       "    <tr style=\"text-align: right;\">\n",
       "      <th></th>\n",
       "      <th>name</th>\n",
       "      <th>address</th>\n",
       "      <th>rating</th>\n",
       "      <th>service</th>\n",
       "      <th>location</th>\n",
       "      <th>value</th>\n",
       "      <th>cleanliness</th>\n",
       "      <th>sleep quality</th>\n",
       "      <th>check in / front desk</th>\n",
       "      <th>rooms</th>\n",
       "      <th>business service (e.g., internet access)</th>\n",
       "    </tr>\n",
       "  </thead>\n",
       "  <tbody>\n",
       "    <tr>\n",
       "      <th>0</th>\n",
       "      <td>0031 Boutique Hotel Restaurant</td>\n",
       "      <td>Cumbuco Caucaia State of Ceara</td>\n",
       "      <td>4.9</td>\n",
       "      <td>4.9</td>\n",
       "      <td>4.6</td>\n",
       "      <td>4.8</td>\n",
       "      <td>4.8</td>\n",
       "      <td>4.9</td>\n",
       "      <td>5.0</td>\n",
       "      <td>4.8</td>\n",
       "      <td>4.5</td>\n",
       "    </tr>\n",
       "    <tr>\n",
       "      <th>1</th>\n",
       "      <td>10 Cottages</td>\n",
       "      <td>Franz Josef Westland National Park Te Wahipoun...</td>\n",
       "      <td>4.4</td>\n",
       "      <td>4.5</td>\n",
       "      <td>4.7</td>\n",
       "      <td>4.3</td>\n",
       "      <td>4.7</td>\n",
       "      <td>4.5</td>\n",
       "      <td>NaN</td>\n",
       "      <td>4.3</td>\n",
       "      <td>NaN</td>\n",
       "    </tr>\n",
       "    <tr>\n",
       "      <th>2</th>\n",
       "      <td>10 Karakoy Istanbul</td>\n",
       "      <td>Istanbul</td>\n",
       "      <td>4.7</td>\n",
       "      <td>4.7</td>\n",
       "      <td>4.8</td>\n",
       "      <td>4.7</td>\n",
       "      <td>4.9</td>\n",
       "      <td>4.6</td>\n",
       "      <td>NaN</td>\n",
       "      <td>4.7</td>\n",
       "      <td>NaN</td>\n",
       "    </tr>\n",
       "    <tr>\n",
       "      <th>3</th>\n",
       "      <td>100 Sunset Boutique Hotel</td>\n",
       "      <td>Kuta Kuta District Bali</td>\n",
       "      <td>4.1</td>\n",
       "      <td>4.3</td>\n",
       "      <td>3.4</td>\n",
       "      <td>4.3</td>\n",
       "      <td>4.1</td>\n",
       "      <td>4.2</td>\n",
       "      <td>NaN</td>\n",
       "      <td>4.2</td>\n",
       "      <td>NaN</td>\n",
       "    </tr>\n",
       "    <tr>\n",
       "      <th>4</th>\n",
       "      <td>100 Sunset Hotel Managed by Eagle Eyes</td>\n",
       "      <td>Kuta Kuta District Bali</td>\n",
       "      <td>4.2</td>\n",
       "      <td>4.4</td>\n",
       "      <td>3.6</td>\n",
       "      <td>4.4</td>\n",
       "      <td>4.5</td>\n",
       "      <td>4.4</td>\n",
       "      <td>NaN</td>\n",
       "      <td>4.3</td>\n",
       "      <td>NaN</td>\n",
       "    </tr>\n",
       "  </tbody>\n",
       "</table>\n",
       "</div>"
      ],
      "text/plain": [
       "                                     name  \\\n",
       "0          0031 Boutique Hotel Restaurant   \n",
       "1                             10 Cottages   \n",
       "2                     10 Karakoy Istanbul   \n",
       "3               100 Sunset Boutique Hotel   \n",
       "4  100 Sunset Hotel Managed by Eagle Eyes   \n",
       "\n",
       "                                             address rating service location  \\\n",
       "0                     Cumbuco Caucaia State of Ceara    4.9     4.9      4.6   \n",
       "1  Franz Josef Westland National Park Te Wahipoun...    4.4     4.5      4.7   \n",
       "2                                           Istanbul    4.7     4.7      4.8   \n",
       "3                            Kuta Kuta District Bali    4.1     4.3      3.4   \n",
       "4                            Kuta Kuta District Bali    4.2     4.4      3.6   \n",
       "\n",
       "  value cleanliness sleep quality check in / front desk rooms  \\\n",
       "0   4.8         4.8           4.9                   5.0   4.8   \n",
       "1   4.3         4.7           4.5                   NaN   4.3   \n",
       "2   4.7         4.9           4.6                   NaN   4.7   \n",
       "3   4.3         4.1           4.2                   NaN   4.2   \n",
       "4   4.4         4.5           4.4                   NaN   4.3   \n",
       "\n",
       "  business service (e.g., internet access)  \n",
       "0                                      4.5  \n",
       "1                                      NaN  \n",
       "2                                      NaN  \n",
       "3                                      NaN  \n",
       "4                                      NaN  "
      ]
     },
     "execution_count": 286,
     "metadata": {},
     "output_type": "execute_result"
    }
   ],
   "source": [
    "pdf = pd.read_csv(\"/Users/osamaalhalabi/Documents/GradProject/RecSys/prob_fin.csv\")\n",
    "pdf.head()"
   ]
  },
  {
   "cell_type": "code",
   "execution_count": 296,
   "metadata": {},
   "outputs": [
    {
     "data": {
      "text/plain": [
       "(382086, 4605834)"
      ]
     },
     "execution_count": 296,
     "metadata": {},
     "output_type": "execute_result"
    }
   ],
   "source": [
    "pdf['name'].count(), rdf['text'].count()"
   ]
  },
  {
   "cell_type": "markdown",
   "metadata": {},
   "source": [
    "### Search Loaction urls"
   ]
  },
  {
   "cell_type": "code",
   "execution_count": 6,
   "metadata": {},
   "outputs": [],
   "source": [
    "df = pd.read_csv(\"/Users/osamaalhalabi/Desktop/trips-planning-system/dataset/tripAdvisor_hotel_urls/url_fin.csv\")"
   ]
  },
  {
   "cell_type": "code",
   "execution_count": 23,
   "metadata": {},
   "outputs": [],
   "source": [
    "df = df.apply(lambda x: x.astype(str).str.lower())"
   ]
  },
  {
   "cell_type": "code",
   "execution_count": 24,
   "metadata": {},
   "outputs": [
    {
     "data": {
      "text/html": [
       "<div>\n",
       "<style scoped>\n",
       "    .dataframe tbody tr th:only-of-type {\n",
       "        vertical-align: middle;\n",
       "    }\n",
       "\n",
       "    .dataframe tbody tr th {\n",
       "        vertical-align: top;\n",
       "    }\n",
       "\n",
       "    .dataframe thead th {\n",
       "        text-align: right;\n",
       "    }\n",
       "</style>\n",
       "<table border=\"1\" class=\"dataframe\">\n",
       "  <thead>\n",
       "    <tr style=\"text-align: right;\">\n",
       "      <th></th>\n",
       "      <th>hotel_url</th>\n",
       "    </tr>\n",
       "  </thead>\n",
       "  <tbody>\n",
       "    <tr>\n",
       "      <th>309143</th>\n",
       "      <td>hotel_review-g317798-d2622720-reviews-hotel_sa...</td>\n",
       "    </tr>\n",
       "    <tr>\n",
       "      <th>77051</th>\n",
       "      <td>hotel_review-g12116658-d2298867-reviews-pensio...</td>\n",
       "    </tr>\n",
       "    <tr>\n",
       "      <th>356184</th>\n",
       "      <td>hotel_review-g194832-d1639021-reviews-continen...</td>\n",
       "    </tr>\n",
       "    <tr>\n",
       "      <th>5771</th>\n",
       "      <td>hotel_review-g529018-d1789303-reviews-sleepy_h...</td>\n",
       "    </tr>\n",
       "    <tr>\n",
       "      <th>180472</th>\n",
       "      <td>hotel_review-g1188000-d2644300-reviews-samui_h...</td>\n",
       "    </tr>\n",
       "    <tr>\n",
       "      <th>116758</th>\n",
       "      <td>hotel_review-g504217-d1947362-reviews-the_eigh...</td>\n",
       "    </tr>\n",
       "    <tr>\n",
       "      <th>289032</th>\n",
       "      <td>hotel_review-g317096-d7905603-reviews-sharda_s...</td>\n",
       "    </tr>\n",
       "  </tbody>\n",
       "</table>\n",
       "</div>"
      ],
      "text/plain": [
       "                                                hotel_url\n",
       "309143  hotel_review-g317798-d2622720-reviews-hotel_sa...\n",
       "77051   hotel_review-g12116658-d2298867-reviews-pensio...\n",
       "356184  hotel_review-g194832-d1639021-reviews-continen...\n",
       "5771    hotel_review-g529018-d1789303-reviews-sleepy_h...\n",
       "180472  hotel_review-g1188000-d2644300-reviews-samui_h...\n",
       "116758  hotel_review-g504217-d1947362-reviews-the_eigh...\n",
       "289032  hotel_review-g317096-d7905603-reviews-sharda_s..."
      ]
     },
     "execution_count": 24,
     "metadata": {},
     "output_type": "execute_result"
    }
   ],
   "source": [
    "df.sample(7)"
   ]
  },
  {
   "cell_type": "code",
   "execution_count": 190,
   "metadata": {},
   "outputs": [],
   "source": [
    "rr = df[df['hotel_url'].str.contains(\"antelias\")]"
   ]
  },
  {
   "cell_type": "code",
   "execution_count": 176,
   "metadata": {},
   "outputs": [],
   "source": [
    "# res = rr\n",
    "res = res.append(rr)"
   ]
  },
  {
   "cell_type": "code",
   "execution_count": 107,
   "metadata": {},
   "outputs": [
    {
     "data": {
      "text/html": [
       "<div>\n",
       "<style scoped>\n",
       "    .dataframe tbody tr th:only-of-type {\n",
       "        vertical-align: middle;\n",
       "    }\n",
       "\n",
       "    .dataframe tbody tr th {\n",
       "        vertical-align: top;\n",
       "    }\n",
       "\n",
       "    .dataframe thead th {\n",
       "        text-align: right;\n",
       "    }\n",
       "</style>\n",
       "<table border=\"1\" class=\"dataframe\">\n",
       "  <thead>\n",
       "    <tr style=\"text-align: right;\">\n",
       "      <th></th>\n",
       "      <th>hotel_url</th>\n",
       "    </tr>\n",
       "  </thead>\n",
       "  <tbody>\n",
       "    <tr>\n",
       "      <th>26</th>\n",
       "      <td>hotel_review-g293974-d2180685-reviews-burckin_...</td>\n",
       "    </tr>\n",
       "    <tr>\n",
       "      <th>49</th>\n",
       "      <td>hotel_review-g293974-d294909-reviews-kalyon_ho...</td>\n",
       "    </tr>\n",
       "    <tr>\n",
       "      <th>562</th>\n",
       "      <td>hotel_review-g293974-d2101386-reviews-fraser_p...</td>\n",
       "    </tr>\n",
       "    <tr>\n",
       "      <th>1206</th>\n",
       "      <td>hotel_review-g293974-d7930206-reviews-aybar_ho...</td>\n",
       "    </tr>\n",
       "    <tr>\n",
       "      <th>1407</th>\n",
       "      <td>hotel_review-g293974-d814852-reviews-w_istanbu...</td>\n",
       "    </tr>\n",
       "  </tbody>\n",
       "</table>\n",
       "</div>"
      ],
      "text/plain": [
       "                                              hotel_url\n",
       "26    hotel_review-g293974-d2180685-reviews-burckin_...\n",
       "49    hotel_review-g293974-d294909-reviews-kalyon_ho...\n",
       "562   hotel_review-g293974-d2101386-reviews-fraser_p...\n",
       "1206  hotel_review-g293974-d7930206-reviews-aybar_ho...\n",
       "1407  hotel_review-g293974-d814852-reviews-w_istanbu..."
      ]
     },
     "execution_count": 107,
     "metadata": {},
     "output_type": "execute_result"
    }
   ],
   "source": [
    "res.head()"
   ]
  },
  {
   "cell_type": "code",
   "execution_count": 192,
   "metadata": {},
   "outputs": [],
   "source": [
    "res.to_csv(\"/Users/osamaalhalabi/Desktop/trips-planning-system/dataset/res/lebanon.csv\",\n",
    "                      header=True, index=True) "
   ]
  },
  {
   "cell_type": "code",
   "execution_count": null,
   "metadata": {},
   "outputs": [],
   "source": []
  }
 ],
 "metadata": {
  "kernelspec": {
   "display_name": "Python 3",
   "language": "python",
   "name": "python3"
  },
  "language_info": {
   "codemirror_mode": {
    "name": "ipython",
    "version": 3
   },
   "file_extension": ".py",
   "mimetype": "text/x-python",
   "name": "python",
   "nbconvert_exporter": "python",
   "pygments_lexer": "ipython3",
   "version": "3.8.0"
  }
 },
 "nbformat": 4,
 "nbformat_minor": 4
}
