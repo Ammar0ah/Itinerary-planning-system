{
 "cells": [
  {
   "cell_type": "code",
   "execution_count": 1,
   "metadata": {},
   "outputs": [],
   "source": [
    "import pandas as pd\n",
    "import json"
   ]
  },
  {
   "cell_type": "markdown",
   "metadata": {},
   "source": [
    "### Shrink the dataset into subsets"
   ]
  },
  {
   "cell_type": "code",
   "execution_count": 14,
   "metadata": {},
   "outputs": [
    {
     "name": "stdout",
     "output_type": "stream",
     "text": [
      "parsing progress: 1/10\n",
      "parsing progress: 2/10\n",
      "parsing progress: 3/10\n",
      "parsing progress: 4/10\n",
      "parsing progress: 5/10\n",
      "parsing progress: 6/10\n",
      "parsing progress: 7/10\n",
      "parsing progress: 8/10\n",
      "parsing progress: 9/10\n",
      "parsing progress: 10/10\n"
     ]
    }
   ],
   "source": [
    "data = []\n",
    "prs = 0\n",
    "with open('/Users/osamaalhalabi/Documents/GradProject/RecSys/HotelRec Dataset/HotelRec.json') as f:\n",
    "    for line in f:\n",
    "        data.append(json.loads(line))\n",
    "        \n",
    "        if len(data) == 5000000:\n",
    "            df = pd.DataFrame(data)\n",
    "            df.drop([\"author\", \"date\", \"title\"], axis = 1, inplace = True) \n",
    "            df = df[df['property_dict'].map(len) > 2]\n",
    "            df=df.reset_index(drop= True)\n",
    "            data.clear()\n",
    "            prs = prs + 1\n",
    "            df.to_csv(\"/Users/osamaalhalabi/Documents/GradProject/RecSys/Parsed Dataset/part_{0}.csv\".format(prs),\n",
    "                      header=True, index=False) \n",
    "            print('parsing progress: {0}/10'.format(prs))\n",
    "            \n",
    "        if prs == 10:\n",
    "            break"
   ]
  },
  {
   "cell_type": "markdown",
   "metadata": {},
   "source": [
    "#### Preprocessing the Data"
   ]
  },
  {
   "cell_type": "code",
   "execution_count": 194,
   "metadata": {},
   "outputs": [],
   "source": [
    "def get_hotel_name(url : str):\n",
    "    start = url.find('-Reviews-')+9\n",
    "    mid = url.find('-',start)\n",
    "    end = url.find('.',mid)\n",
    "    return url[start:mid], url[mid+1:end]\n",
    "\n",
    "def change_names(names):\n",
    "    names_ = [] \n",
    "    locs = []\n",
    "    for hotel in names:\n",
    "        (name,loc) = get_hotel_name(hotel)\n",
    "        names_.append(name)\n",
    "        locs.append(loc)\n",
    "    return names_,locs"
   ]
  },
  {
   "cell_type": "code",
   "execution_count": 274,
   "metadata": {},
   "outputs": [],
   "source": [
    "def parse(index):\n",
    "    df = pd.read_csv(\"/Users/osamaalhalabi/Documents/GradProject/RecSys/Parsed Dataset/part_{0}.csv\".format(index))\n",
    "    names, locs = change_names(df.hotel_url)\n",
    "    df.hotel_url = names\n",
    "    df['address'] = locs\n",
    "    \n",
    "    df['hotel_url'] = df['hotel_url'].str.replace('_',' ')\n",
    "    df['address'] = df['address'].str.replace('_',' ')\n",
    "    df.rename(columns = {'hotel_url' : 'name' }, inplace = True)\n",
    "    \n",
    "    df_rev = df.groupby(\"name\").sample(20, random_state=2 , replace = True)\n",
    "    df_rev.drop([\"address\", \"property_dict\"], axis = 1, inplace = True) \n",
    "    df_rev = df_rev.drop_duplicates()\n",
    "    df_rev.to_csv(\"/Users/osamaalhalabi/Documents/GradProject/RecSys/Probabilistic Dataset/reviews_{0}.csv\".format(index),\n",
    "                      header=True, index=False) \n",
    "    print(\"Reviews extracting done..\")\n",
    "\n",
    "    dicts = []\n",
    "    for row in df.property_dict:\n",
    "        dicts.append(eval(row))\n",
    "        \n",
    "    df_rate = pd.json_normalize(dicts)\n",
    "    df_rate = df_rate.join(df.name, lsuffix=\"_left\", rsuffix=\"_right\")\n",
    "    df_rate = df_rate.join(df.rating, lsuffix=\"_left\", rsuffix=\"_right\")\n",
    "    df_rate = df_rate.join(df.address, lsuffix=\"_left\", rsuffix=\"_right\")\n",
    "    \n",
    "    df_rate = df_rate.groupby(['name','address'])['rating','service',\n",
    "                                                   'location','value','cleanliness','sleep quality',\n",
    "                                                   'check in / front desk', 'rooms',\n",
    "                                                   'business service (e.g., internet access)'].mean()\n",
    "    df_rate = df_rate.round(1)\n",
    "    df_rate.to_csv(\"/Users/osamaalhalabi/Documents/GradProject/RecSys/Probabilistic Dataset/prob_{0}.csv\".format(index),\n",
    "                      header=True, index=True) \n",
    "    print(\"Ratings extracting done!\")\n",
    "    return  'Done!'"
   ]
  },
  {
   "cell_type": "code",
   "execution_count": 276,
   "metadata": {},
   "outputs": [
    {
     "name": "stdout",
     "output_type": "stream",
     "text": [
      "Reviews extracting done..\n"
     ]
    },
    {
     "name": "stderr",
     "output_type": "stream",
     "text": [
      "<ipython-input-274-a55b97663588>:27: FutureWarning: Indexing with multiple keys (implicitly converted to a tuple of keys) will be deprecated, use a list instead.\n",
      "  df_rate = df_rate.groupby(['name','address'])['rating','service',\n"
     ]
    },
    {
     "name": "stdout",
     "output_type": "stream",
     "text": [
      "Ratings extracting done!\n",
      "Reviews extracting done..\n",
      "Ratings extracting done!\n",
      "Reviews extracting done..\n",
      "Ratings extracting done!\n",
      "Reviews extracting done..\n",
      "Ratings extracting done!\n",
      "Reviews extracting done..\n",
      "Ratings extracting done!\n",
      "Reviews extracting done..\n",
      "Ratings extracting done!\n",
      "Reviews extracting done..\n",
      "Ratings extracting done!\n",
      "Reviews extracting done..\n",
      "Ratings extracting done!\n"
     ]
    }
   ],
   "source": [
    "for idx in range(1, 11):\n",
    "    parse(idx)"
   ]
  },
  {
   "cell_type": "markdown",
   "metadata": {},
   "source": [
    "### Merge Subsets into One Dataset"
   ]
  },
  {
   "cell_type": "code",
   "execution_count": 282,
   "metadata": {},
   "outputs": [],
   "source": [
    "fout=open(\"/Users/osamaalhalabi/Documents/GradProject/RecSys/prob_fin.csv\",\"a\")\n",
    "for line in open(\"/Users/osamaalhalabi/Documents/GradProject/RecSys/Probabilistic Dataset/prob_1.csv\"):\n",
    "    fout.write(line)   \n",
    "for num in range(2,11):\n",
    "    f = open(\"/Users/osamaalhalabi/Documents/GradProject/RecSys/Probabilistic Dataset/prob_\"+str(num)+\".csv\")\n",
    "    f.__next__() \n",
    "    for line in f:\n",
    "         fout.write(line)\n",
    "    f.close() \n",
    "fout.close()"
   ]
  },
  {
   "cell_type": "code",
   "execution_count": 283,
   "metadata": {},
   "outputs": [],
   "source": [
    "fout=open(\"/Users/osamaalhalabi/Documents/GradProject/RecSys/reviews_fin.csv\",\"a\")\n",
    "for line in open(\"/Users/osamaalhalabi/Documents/GradProject/RecSys/Probabilistic Dataset/reviews_1.csv\"):\n",
    "    fout.write(line)  \n",
    "for num in range(2,11):\n",
    "    f = open(\"/Users/osamaalhalabi/Documents/GradProject/RecSys/Probabilistic Dataset/reviews_\"+str(num)+\".csv\")\n",
    "    f.__next__() \n",
    "    for line in f:\n",
    "         fout.write(line)\n",
    "    f.close() \n",
    "fout.close()"
   ]
  },
  {
   "cell_type": "code",
   "execution_count": 285,
   "metadata": {},
   "outputs": [
    {
     "data": {
      "text/html": [
       "<div>\n",
       "<style scoped>\n",
       "    .dataframe tbody tr th:only-of-type {\n",
       "        vertical-align: middle;\n",
       "    }\n",
       "\n",
       "    .dataframe tbody tr th {\n",
       "        vertical-align: top;\n",
       "    }\n",
       "\n",
       "    .dataframe thead th {\n",
       "        text-align: right;\n",
       "    }\n",
       "</style>\n",
       "<table border=\"1\" class=\"dataframe\">\n",
       "  <thead>\n",
       "    <tr style=\"text-align: right;\">\n",
       "      <th></th>\n",
       "      <th>name</th>\n",
       "      <th>rating</th>\n",
       "      <th>text</th>\n",
       "    </tr>\n",
       "  </thead>\n",
       "  <tbody>\n",
       "    <tr>\n",
       "      <th>0</th>\n",
       "      <td>0031 Boutique Hotel Restaurant</td>\n",
       "      <td>5.0</td>\n",
       "      <td>At 0031 you come to the right place. Everythin...</td>\n",
       "    </tr>\n",
       "    <tr>\n",
       "      <th>1</th>\n",
       "      <td>0031 Boutique Hotel Restaurant</td>\n",
       "      <td>5.0</td>\n",
       "      <td>Just came back from my trip to Cumbuco. It was...</td>\n",
       "    </tr>\n",
       "    <tr>\n",
       "      <th>2</th>\n",
       "      <td>0031 Boutique Hotel Restaurant</td>\n",
       "      <td>5.0</td>\n",
       "      <td>I was 6 weeks in Cumbuco. 0031 is the best pla...</td>\n",
       "    </tr>\n",
       "    <tr>\n",
       "      <th>3</th>\n",
       "      <td>0031 Boutique Hotel Restaurant</td>\n",
       "      <td>5.0</td>\n",
       "      <td>everything was very nice. we had a lovely stay...</td>\n",
       "    </tr>\n",
       "    <tr>\n",
       "      <th>4</th>\n",
       "      <td>0031 Boutique Hotel Restaurant</td>\n",
       "      <td>5.0</td>\n",
       "      <td>For the third time in a row we've been to this...</td>\n",
       "    </tr>\n",
       "  </tbody>\n",
       "</table>\n",
       "</div>"
      ],
      "text/plain": [
       "                             name  rating  \\\n",
       "0  0031 Boutique Hotel Restaurant     5.0   \n",
       "1  0031 Boutique Hotel Restaurant     5.0   \n",
       "2  0031 Boutique Hotel Restaurant     5.0   \n",
       "3  0031 Boutique Hotel Restaurant     5.0   \n",
       "4  0031 Boutique Hotel Restaurant     5.0   \n",
       "\n",
       "                                                text  \n",
       "0  At 0031 you come to the right place. Everythin...  \n",
       "1  Just came back from my trip to Cumbuco. It was...  \n",
       "2  I was 6 weeks in Cumbuco. 0031 is the best pla...  \n",
       "3  everything was very nice. we had a lovely stay...  \n",
       "4  For the third time in a row we've been to this...  "
      ]
     },
     "execution_count": 285,
     "metadata": {},
     "output_type": "execute_result"
    }
   ],
   "source": [
    "rdf = pd.read_csv(\"/Users/osamaalhalabi/Documents/GradProject/RecSys/reviews_fin.csv\")\n",
    "rdf.head()"
   ]
  },
  {
   "cell_type": "code",
   "execution_count": 286,
   "metadata": {},
   "outputs": [
    {
     "name": "stderr",
     "output_type": "stream",
     "text": [
      "/Users/osamaalhalabi/opt/anaconda3/envs/venv/lib/python3.8/site-packages/IPython/core/interactiveshell.py:3146: DtypeWarning: Columns (2,3,4,5,6,7,8,9,10) have mixed types.Specify dtype option on import or set low_memory=False.\n",
      "  has_raised = await self.run_ast_nodes(code_ast.body, cell_name,\n"
     ]
    },
    {
     "data": {
      "text/html": [
       "<div>\n",
       "<style scoped>\n",
       "    .dataframe tbody tr th:only-of-type {\n",
       "        vertical-align: middle;\n",
       "    }\n",
       "\n",
       "    .dataframe tbody tr th {\n",
       "        vertical-align: top;\n",
       "    }\n",
       "\n",
       "    .dataframe thead th {\n",
       "        text-align: right;\n",
       "    }\n",
       "</style>\n",
       "<table border=\"1\" class=\"dataframe\">\n",
       "  <thead>\n",
       "    <tr style=\"text-align: right;\">\n",
       "      <th></th>\n",
       "      <th>name</th>\n",
       "      <th>address</th>\n",
       "      <th>rating</th>\n",
       "      <th>service</th>\n",
       "      <th>location</th>\n",
       "      <th>value</th>\n",
       "      <th>cleanliness</th>\n",
       "      <th>sleep quality</th>\n",
       "      <th>check in / front desk</th>\n",
       "      <th>rooms</th>\n",
       "      <th>business service (e.g., internet access)</th>\n",
       "    </tr>\n",
       "  </thead>\n",
       "  <tbody>\n",
       "    <tr>\n",
       "      <th>0</th>\n",
       "      <td>0031 Boutique Hotel Restaurant</td>\n",
       "      <td>Cumbuco Caucaia State of Ceara</td>\n",
       "      <td>4.9</td>\n",
       "      <td>4.9</td>\n",
       "      <td>4.6</td>\n",
       "      <td>4.8</td>\n",
       "      <td>4.8</td>\n",
       "      <td>4.9</td>\n",
       "      <td>5.0</td>\n",
       "      <td>4.8</td>\n",
       "      <td>4.5</td>\n",
       "    </tr>\n",
       "    <tr>\n",
       "      <th>1</th>\n",
       "      <td>10 Cottages</td>\n",
       "      <td>Franz Josef Westland National Park Te Wahipoun...</td>\n",
       "      <td>4.4</td>\n",
       "      <td>4.5</td>\n",
       "      <td>4.7</td>\n",
       "      <td>4.3</td>\n",
       "      <td>4.7</td>\n",
       "      <td>4.5</td>\n",
       "      <td>NaN</td>\n",
       "      <td>4.3</td>\n",
       "      <td>NaN</td>\n",
       "    </tr>\n",
       "    <tr>\n",
       "      <th>2</th>\n",
       "      <td>10 Karakoy Istanbul</td>\n",
       "      <td>Istanbul</td>\n",
       "      <td>4.7</td>\n",
       "      <td>4.7</td>\n",
       "      <td>4.8</td>\n",
       "      <td>4.7</td>\n",
       "      <td>4.9</td>\n",
       "      <td>4.6</td>\n",
       "      <td>NaN</td>\n",
       "      <td>4.7</td>\n",
       "      <td>NaN</td>\n",
       "    </tr>\n",
       "    <tr>\n",
       "      <th>3</th>\n",
       "      <td>100 Sunset Boutique Hotel</td>\n",
       "      <td>Kuta Kuta District Bali</td>\n",
       "      <td>4.1</td>\n",
       "      <td>4.3</td>\n",
       "      <td>3.4</td>\n",
       "      <td>4.3</td>\n",
       "      <td>4.1</td>\n",
       "      <td>4.2</td>\n",
       "      <td>NaN</td>\n",
       "      <td>4.2</td>\n",
       "      <td>NaN</td>\n",
       "    </tr>\n",
       "    <tr>\n",
       "      <th>4</th>\n",
       "      <td>100 Sunset Hotel Managed by Eagle Eyes</td>\n",
       "      <td>Kuta Kuta District Bali</td>\n",
       "      <td>4.2</td>\n",
       "      <td>4.4</td>\n",
       "      <td>3.6</td>\n",
       "      <td>4.4</td>\n",
       "      <td>4.5</td>\n",
       "      <td>4.4</td>\n",
       "      <td>NaN</td>\n",
       "      <td>4.3</td>\n",
       "      <td>NaN</td>\n",
       "    </tr>\n",
       "  </tbody>\n",
       "</table>\n",
       "</div>"
      ],
      "text/plain": [
       "                                     name  \\\n",
       "0          0031 Boutique Hotel Restaurant   \n",
       "1                             10 Cottages   \n",
       "2                     10 Karakoy Istanbul   \n",
       "3               100 Sunset Boutique Hotel   \n",
       "4  100 Sunset Hotel Managed by Eagle Eyes   \n",
       "\n",
       "                                             address rating service location  \\\n",
       "0                     Cumbuco Caucaia State of Ceara    4.9     4.9      4.6   \n",
       "1  Franz Josef Westland National Park Te Wahipoun...    4.4     4.5      4.7   \n",
       "2                                           Istanbul    4.7     4.7      4.8   \n",
       "3                            Kuta Kuta District Bali    4.1     4.3      3.4   \n",
       "4                            Kuta Kuta District Bali    4.2     4.4      3.6   \n",
       "\n",
       "  value cleanliness sleep quality check in / front desk rooms  \\\n",
       "0   4.8         4.8           4.9                   5.0   4.8   \n",
       "1   4.3         4.7           4.5                   NaN   4.3   \n",
       "2   4.7         4.9           4.6                   NaN   4.7   \n",
       "3   4.3         4.1           4.2                   NaN   4.2   \n",
       "4   4.4         4.5           4.4                   NaN   4.3   \n",
       "\n",
       "  business service (e.g., internet access)  \n",
       "0                                      4.5  \n",
       "1                                      NaN  \n",
       "2                                      NaN  \n",
       "3                                      NaN  \n",
       "4                                      NaN  "
      ]
     },
     "execution_count": 286,
     "metadata": {},
     "output_type": "execute_result"
    }
   ],
   "source": [
    "pdf = pd.read_csv(\"/Users/osamaalhalabi/Documents/GradProject/RecSys/prob_fin.csv\")\n",
    "pdf.head()"
   ]
  },
  {
   "cell_type": "code",
   "execution_count": 296,
   "metadata": {},
   "outputs": [
    {
     "data": {
      "text/plain": [
       "(382086, 4605834)"
      ]
     },
     "execution_count": 296,
     "metadata": {},
     "output_type": "execute_result"
    }
   ],
   "source": [
    "pdf['name'].count(), rdf['text'].count()"
   ]
  },
  {
   "cell_type": "code",
   "execution_count": null,
   "metadata": {},
   "outputs": [],
   "source": []
  }
 ],
 "metadata": {
  "kernelspec": {
   "display_name": "Python 3",
   "language": "python",
   "name": "python3"
  },
  "language_info": {
   "codemirror_mode": {
    "name": "ipython",
    "version": 3
   },
   "file_extension": ".py",
   "mimetype": "text/x-python",
   "name": "python",
   "nbconvert_exporter": "python",
   "pygments_lexer": "ipython3",
   "version": "3.8.0"
  }
 },
 "nbformat": 4,
 "nbformat_minor": 4
}
