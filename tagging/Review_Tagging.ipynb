{
 "cells": [
  {
   "cell_type": "code",
   "execution_count": 11,
   "metadata": {},
   "outputs": [],
   "source": [
    "import numpy as np\n",
    "import pandas as pd\n",
    "import string\n",
    "from nltk import word_tokenize\n",
    "from nltk.corpus import stopwords\n",
    "from nltk.stem.wordnet import WordNetLemmatizer\n",
    "import re\n",
    "from sklearn.feature_extraction.text import TfidfVectorizer,CountVectorizer\n",
    "from sklearn.decomposition import LatentDirichletAllocation, TruncatedSVD\n",
    "import matplotlib.pyplot as plt\n",
    "import pickle"
   ]
  },
  {
   "cell_type": "code",
   "execution_count": null,
   "metadata": {},
   "outputs": [],
   "source": []
  },
  {
   "cell_type": "code",
   "execution_count": 3,
   "metadata": {},
   "outputs": [],
   "source": [
    "data = pd.read_csv('./part_reviews_fin.csv')"
   ]
  },
  {
   "cell_type": "code",
   "execution_count": 3,
   "metadata": {},
   "outputs": [
    {
     "data": {
      "text/html": [
       "<div>\n",
       "<style scoped>\n",
       "    .dataframe tbody tr th:only-of-type {\n",
       "        vertical-align: middle;\n",
       "    }\n",
       "\n",
       "    .dataframe tbody tr th {\n",
       "        vertical-align: top;\n",
       "    }\n",
       "\n",
       "    .dataframe thead th {\n",
       "        text-align: right;\n",
       "    }\n",
       "</style>\n",
       "<table border=\"1\" class=\"dataframe\">\n",
       "  <thead>\n",
       "    <tr style=\"text-align: right;\">\n",
       "      <th></th>\n",
       "      <th>Unnamed: 0</th>\n",
       "      <th>name</th>\n",
       "      <th>rating</th>\n",
       "      <th>text</th>\n",
       "      <th>text_cleaned</th>\n",
       "    </tr>\n",
       "  </thead>\n",
       "  <tbody>\n",
       "    <tr>\n",
       "      <th>0</th>\n",
       "      <td>0</td>\n",
       "      <td>0031 Boutique Hotel Restaurant</td>\n",
       "      <td>5.0</td>\n",
       "      <td>At 0031 you come to the right place. Everythin...</td>\n",
       "      <td>come right place everyth wish otherwis owner m...</td>\n",
       "    </tr>\n",
       "    <tr>\n",
       "      <th>1</th>\n",
       "      <td>1</td>\n",
       "      <td>0031 Boutique Hotel Restaurant</td>\n",
       "      <td>5.0</td>\n",
       "      <td>Just came back from my trip to Cumbuco. It was...</td>\n",
       "      <td>came back trip cumbuco one best holiday ever p...</td>\n",
       "    </tr>\n",
       "    <tr>\n",
       "      <th>2</th>\n",
       "      <td>2</td>\n",
       "      <td>0031 Boutique Hotel Restaurant</td>\n",
       "      <td>5.0</td>\n",
       "      <td>I was 6 weeks in Cumbuco. 0031 is the best pla...</td>\n",
       "      <td>week cumbuco best place stay great room nice b...</td>\n",
       "    </tr>\n",
       "    <tr>\n",
       "      <th>3</th>\n",
       "      <td>3</td>\n",
       "      <td>0031 Boutique Hotel Restaurant</td>\n",
       "      <td>5.0</td>\n",
       "      <td>everything was very nice. we had a lovely stay...</td>\n",
       "      <td>everyth nice love stay manag janet superkind w...</td>\n",
       "    </tr>\n",
       "    <tr>\n",
       "      <th>4</th>\n",
       "      <td>4</td>\n",
       "      <td>0031 Boutique Hotel Restaurant</td>\n",
       "      <td>5.0</td>\n",
       "      <td>For the third time in a row we've been to this...</td>\n",
       "      <td>third time row weve great pousada cumbuco say ...</td>\n",
       "    </tr>\n",
       "  </tbody>\n",
       "</table>\n",
       "</div>"
      ],
      "text/plain": [
       "   Unnamed: 0                            name  rating  \\\n",
       "0           0  0031 Boutique Hotel Restaurant     5.0   \n",
       "1           1  0031 Boutique Hotel Restaurant     5.0   \n",
       "2           2  0031 Boutique Hotel Restaurant     5.0   \n",
       "3           3  0031 Boutique Hotel Restaurant     5.0   \n",
       "4           4  0031 Boutique Hotel Restaurant     5.0   \n",
       "\n",
       "                                                text  \\\n",
       "0  At 0031 you come to the right place. Everythin...   \n",
       "1  Just came back from my trip to Cumbuco. It was...   \n",
       "2  I was 6 weeks in Cumbuco. 0031 is the best pla...   \n",
       "3  everything was very nice. we had a lovely stay...   \n",
       "4  For the third time in a row we've been to this...   \n",
       "\n",
       "                                        text_cleaned  \n",
       "0  come right place everyth wish otherwis owner m...  \n",
       "1  came back trip cumbuco one best holiday ever p...  \n",
       "2  week cumbuco best place stay great room nice b...  \n",
       "3  everyth nice love stay manag janet superkind w...  \n",
       "4  third time row weve great pousada cumbuco say ...  "
      ]
     },
     "execution_count": 3,
     "metadata": {},
     "output_type": "execute_result"
    }
   ],
   "source": [
    "data.head()"
   ]
  },
  {
   "cell_type": "code",
   "execution_count": null,
   "metadata": {},
   "outputs": [],
   "source": []
  },
  {
   "cell_type": "code",
   "execution_count": 18,
   "metadata": {},
   "outputs": [],
   "source": [
    "lem = WordNetLemmatizer()\n",
    "def preprocess(txt):\n",
    "    text = txt.lower()\n",
    "    \n",
    "    text_p = \"\".join([char for char in text if char not in string.punctuation])\n",
    "    text_p = re.sub(r'[0-9]','',text_p)\n",
    "    words = word_tokenize(text_p)\n",
    "    \n",
    "    stop_words = stopwords.words('english')\n",
    "    filtered_words = [word for word in words if word not in stop_words]\n",
    "    \n",
    "    \n",
    "    stemmed = [lem.lemmatize(word) for word in filtered_words]\n",
    "    return stemmed"
   ]
  },
  {
   "cell_type": "code",
   "execution_count": 19,
   "metadata": {},
   "outputs": [
    {
     "data": {
      "text/plain": [
       "0    [come, right, place, everything, wish, otherwi...\n",
       "1    [came, back, trip, cumbuco, one, best, holiday...\n",
       "2    [week, cumbuco, best, place, stay, great, room...\n",
       "3    [everything, nice, lovely, stay, manager, jane...\n",
       "4    [third, time, row, weve, great, pousada, cumbu...\n",
       "5    [small, charming, design, hotel, beautiful, ne...\n",
       "6    [oasis, beautiful, dune, behind, beach, minute...\n",
       "7    [ive, visiting, cumbuco, since, keep, coming, ...\n",
       "8    [stayed, feb, cumbuco, brazil, place, surfkite...\n",
       "9    [hesitate, visit, jannecke, roel, going, find,...\n",
       "Name: text, dtype: object"
      ]
     },
     "execution_count": 19,
     "metadata": {},
     "output_type": "execute_result"
    }
   ],
   "source": [
    "data['text'][:10].apply(preprocess)"
   ]
  },
  {
   "cell_type": "code",
   "execution_count": 20,
   "metadata": {},
   "outputs": [],
   "source": [
    "data['text_cleaned_lem']= data['text'][:100000].apply(preprocess)"
   ]
  },
  {
   "cell_type": "code",
   "execution_count": 21,
   "metadata": {},
   "outputs": [],
   "source": [
    "test = pd.DataFrame({'text':data['text_cleaned_lem']})\n",
    "test.to_csv('')"
   ]
  },
  {
   "cell_type": "code",
   "execution_count": 18,
   "metadata": {},
   "outputs": [],
   "source": [
    "data['text_cleaned'] = data['text_cleaned'].apply(lambda x : \" \".join(x))"
   ]
  },
  {
   "cell_type": "code",
   "execution_count": 6,
   "metadata": {},
   "outputs": [
    {
     "data": {
      "text/html": [
       "<div>\n",
       "<style scoped>\n",
       "    .dataframe tbody tr th:only-of-type {\n",
       "        vertical-align: middle;\n",
       "    }\n",
       "\n",
       "    .dataframe tbody tr th {\n",
       "        vertical-align: top;\n",
       "    }\n",
       "\n",
       "    .dataframe thead th {\n",
       "        text-align: right;\n",
       "    }\n",
       "</style>\n",
       "<table border=\"1\" class=\"dataframe\">\n",
       "  <thead>\n",
       "    <tr style=\"text-align: right;\">\n",
       "      <th></th>\n",
       "      <th>Unnamed: 0</th>\n",
       "      <th>name</th>\n",
       "      <th>rating</th>\n",
       "      <th>text</th>\n",
       "      <th>text_cleaned</th>\n",
       "    </tr>\n",
       "  </thead>\n",
       "  <tbody>\n",
       "    <tr>\n",
       "      <th>0</th>\n",
       "      <td>0</td>\n",
       "      <td>0031 Boutique Hotel Restaurant</td>\n",
       "      <td>5.0</td>\n",
       "      <td>At 0031 you come to the right place. Everythin...</td>\n",
       "      <td>come right place everyth wish otherwis owner m...</td>\n",
       "    </tr>\n",
       "    <tr>\n",
       "      <th>1</th>\n",
       "      <td>1</td>\n",
       "      <td>0031 Boutique Hotel Restaurant</td>\n",
       "      <td>5.0</td>\n",
       "      <td>Just came back from my trip to Cumbuco. It was...</td>\n",
       "      <td>came back trip cumbuco one best holiday ever p...</td>\n",
       "    </tr>\n",
       "    <tr>\n",
       "      <th>2</th>\n",
       "      <td>2</td>\n",
       "      <td>0031 Boutique Hotel Restaurant</td>\n",
       "      <td>5.0</td>\n",
       "      <td>I was 6 weeks in Cumbuco. 0031 is the best pla...</td>\n",
       "      <td>week cumbuco best place stay great room nice b...</td>\n",
       "    </tr>\n",
       "    <tr>\n",
       "      <th>3</th>\n",
       "      <td>3</td>\n",
       "      <td>0031 Boutique Hotel Restaurant</td>\n",
       "      <td>5.0</td>\n",
       "      <td>everything was very nice. we had a lovely stay...</td>\n",
       "      <td>everyth nice love stay manag janet superkind w...</td>\n",
       "    </tr>\n",
       "    <tr>\n",
       "      <th>4</th>\n",
       "      <td>4</td>\n",
       "      <td>0031 Boutique Hotel Restaurant</td>\n",
       "      <td>5.0</td>\n",
       "      <td>For the third time in a row we've been to this...</td>\n",
       "      <td>third time row weve great pousada cumbuco say ...</td>\n",
       "    </tr>\n",
       "  </tbody>\n",
       "</table>\n",
       "</div>"
      ],
      "text/plain": [
       "   Unnamed: 0                            name  rating  \\\n",
       "0           0  0031 Boutique Hotel Restaurant     5.0   \n",
       "1           1  0031 Boutique Hotel Restaurant     5.0   \n",
       "2           2  0031 Boutique Hotel Restaurant     5.0   \n",
       "3           3  0031 Boutique Hotel Restaurant     5.0   \n",
       "4           4  0031 Boutique Hotel Restaurant     5.0   \n",
       "\n",
       "                                                text  \\\n",
       "0  At 0031 you come to the right place. Everythin...   \n",
       "1  Just came back from my trip to Cumbuco. It was...   \n",
       "2  I was 6 weeks in Cumbuco. 0031 is the best pla...   \n",
       "3  everything was very nice. we had a lovely stay...   \n",
       "4  For the third time in a row we've been to this...   \n",
       "\n",
       "                                        text_cleaned  \n",
       "0  come right place everyth wish otherwis owner m...  \n",
       "1  came back trip cumbuco one best holiday ever p...  \n",
       "2  week cumbuco best place stay great room nice b...  \n",
       "3  everyth nice love stay manag janet superkind w...  \n",
       "4  third time row weve great pousada cumbuco say ...  "
      ]
     },
     "execution_count": 6,
     "metadata": {},
     "output_type": "execute_result"
    }
   ],
   "source": [
    "data.head()"
   ]
  },
  {
   "cell_type": "code",
   "execution_count": 11,
   "metadata": {},
   "outputs": [],
   "source": [
    "vec = CountVectorizer()\n",
    "cv = vec.fit_transform(data['text_cleaned'][:100000])"
   ]
  },
  {
   "cell_type": "code",
   "execution_count": 12,
   "metadata": {},
   "outputs": [],
   "source": [
    "with open('cv.pkl','wb') as f:\n",
    "    pickle.dump(vec,f)"
   ]
  },
  {
   "cell_type": "code",
   "execution_count": 35,
   "metadata": {},
   "outputs": [],
   "source": [
    "lda_model = LatentDirichletAllocation(n_components=10,               # Number of topics\n",
    "                                      max_iter=10,               # Max learning iterations\n",
    "                                      learning_method='online',   \n",
    "                                      random_state=100,          # Random state\n",
    "                                      batch_size=128,            # n docs in each learning iter\n",
    "                                      evaluate_every = -1,       # compute perplexity every n iters, default: Don't\n",
    "                                      n_jobs = -1,               # Use all available CPUs\n",
    "                                     )\n",
    "lda_output = lda_model.fit_transform(cv)"
   ]
  },
  {
   "cell_type": "code",
   "execution_count": 22,
   "metadata": {},
   "outputs": [
    {
     "name": "stdout",
     "output_type": "stream",
     "text": [
      "THE TOP 15 WORDS FOR TOPIC #0\n",
      "['deer', 'feb', 'wing', 'mexican', 'coloni']\n",
      "\n",
      "\n",
      "THE TOP 15 WORDS FOR TOPIC #1\n",
      "['definitli', 'didn', 'kl', 'carolin', 'bush']\n",
      "\n",
      "\n",
      "THE TOP 15 WORDS FOR TOPIC #2\n",
      "['sara', 'camelot', 'cleveland', 'savannah', 'exmoor']\n",
      "\n",
      "\n",
      "THE TOP 15 WORDS FOR TOPIC #3\n",
      "['ali', 'redwood', 'war', 'truth', 'sam']\n",
      "\n",
      "\n",
      "THE TOP 15 WORDS FOR TOPIC #4\n",
      "['goodth', 'asap', 'ragusa', 'expressway', 'rm']\n",
      "\n",
      "\n",
      "THE TOP 15 WORDS FOR TOPIC #5\n",
      "['awhil', 'pa', 'gulf', 'du', 'restaurantbar']\n",
      "\n",
      "\n",
      "THE TOP 15 WORDS FOR TOPIC #6\n",
      "['merida', 'overcharg', 'understaf', 'sooth', 'dar']\n",
      "\n",
      "\n",
      "THE TOP 15 WORDS FOR TOPIC #7\n",
      "['dr', 'lanka', 'hammock', 'sri', 'india']\n",
      "\n",
      "\n",
      "THE TOP 15 WORDS FOR TOPIC #8\n",
      "['taksim', 'swimmingpool', 'mosqu', 'istanbul', 'golden']\n",
      "\n",
      "\n",
      "THE TOP 15 WORDS FOR TOPIC #9\n",
      "['staff', 'good', 'stay', 'room', 'hotel']\n",
      "\n",
      "\n"
     ]
    }
   ],
   "source": [
    "\n",
    "for index,topic in enumerate(lda_model.components_):\n",
    "    print(f'THE TOP 15 WORDS FOR TOPIC #{index}')\n",
    "    print([vec.get_feature_names()[i] for i in topic.argsort()[-5:]])\n",
    "    print('\\n')\n"
   ]
  },
  {
   "cell_type": "code",
   "execution_count": 4,
   "metadata": {},
   "outputs": [],
   "source": [
    "def get_n_topic_words(lda_model , n_top_words , topic_idx):\n",
    "  n_topic_words = []\n",
    "  vocab = vec.get_feature_names()\n",
    "  topic_words_idx = np.argsort(lda_model.components_[topic_idx])[::-1][:n_top_words]\n",
    "  n_topic_words = [vocab[i] for i in topic_words_idx]\n",
    "  return n_topic_words"
   ]
  },
  {
   "cell_type": "code",
   "execution_count": 5,
   "metadata": {},
   "outputs": [],
   "source": [
    "def get_max_topics(probabilities,number_of_topics):\n",
    "  probabilities = [[index,prob] for index,prob in enumerate(probabilities)]\n",
    "  probabilities.sort(key = lambda k :k[1],reverse = True)\n",
    "  probabilities = [i[0] for i in probabilities]\n",
    "  return probabilities[:number_of_topics]\n",
    "\n",
    "def get_review_asbects(review , lda_model):\n",
    "  transformed_review = vec.transform(review)\n",
    "  prob = lda_model.transform(transformed_review)\n",
    "  prob = prob.tolist()[0]\n",
    "  best_topics = get_max_topics(prob,3)\n",
    "  aspects = []\n",
    "  top_topic_words = []\n",
    "  for topic in best_topics:\n",
    "    x = get_n_topic_words(lda_model,10,topic)\n",
    "    top_topic_words.extend(x)\n",
    "  for word in top_topic_words:\n",
    "    if word in review:\n",
    "      aspects.append(word)\n",
    "  return list(set(aspects))"
   ]
  },
  {
   "cell_type": "code",
   "execution_count": 8,
   "metadata": {},
   "outputs": [
    {
     "data": {
      "text/plain": [
       "['room',\n",
       " 'clean',\n",
       " 'found',\n",
       " 'huge',\n",
       " 'spider',\n",
       " 'bathroom',\n",
       " 'rail',\n",
       " 'tub',\n",
       " 'scari',\n",
       " 'handicap',\n",
       " 'sister',\n",
       " 'inform',\n",
       " 'handicap',\n",
       " 'room',\n",
       " 'good',\n",
       " 'stop',\n",
       " 'night',\n",
       " 'would',\n",
       " 'stay',\n",
       " 'one',\n",
       " 'night']"
      ]
     },
     "execution_count": 8,
     "metadata": {},
     "output_type": "execute_result"
    }
   ],
   "source": [
    "text = data['text_cleaned'][1000010] \n",
    "text = preprocess(text)\n",
    "\n",
    "text"
   ]
  },
  {
   "cell_type": "code",
   "execution_count": 72,
   "metadata": {
    "scrolled": false
   },
   "outputs": [
    {
     "data": {
      "text/plain": [
       "['would', 'room', 'clean', 'good', 'stay', 'night', 'one']"
      ]
     },
     "execution_count": 72,
     "metadata": {},
     "output_type": "execute_result"
    }
   ],
   "source": [
    "get_review_asbects(text,lda_model)"
   ]
  },
  {
   "cell_type": "code",
   "execution_count": 43,
   "metadata": {},
   "outputs": [],
   "source": [
    "with open('lda_cv.pkl','wb') as f:\n",
    "    pickle.dump((lda_model,lda_output),f)"
   ]
  },
  {
   "cell_type": "code",
   "execution_count": 10,
   "metadata": {},
   "outputs": [
    {
     "data": {
      "text/plain": [
       "<1x580958 sparse matrix of type '<class 'numpy.int64'>'\n",
       "\twith 1 stored elements in Compressed Sparse Row format>"
      ]
     },
     "execution_count": 10,
     "metadata": {},
     "output_type": "execute_result"
    }
   ],
   "source": [
    "vec.transform(['test'])"
   ]
  },
  {
   "cell_type": "code",
   "execution_count": null,
   "metadata": {},
   "outputs": [],
   "source": []
  }
 ],
 "metadata": {
  "kernelspec": {
   "display_name": "Python 3",
   "language": "python",
   "name": "python3"
  },
  "language_info": {
   "codemirror_mode": {
    "name": "ipython",
    "version": 3
   },
   "file_extension": ".py",
   "mimetype": "text/x-python",
   "name": "python",
   "nbconvert_exporter": "python",
   "pygments_lexer": "ipython3",
   "version": "3.8.3"
  }
 },
 "nbformat": 4,
 "nbformat_minor": 4
}