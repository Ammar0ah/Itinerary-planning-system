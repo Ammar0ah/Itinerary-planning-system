{
 "cells": [
  {
   "cell_type": "markdown",
   "metadata": {},
   "source": [
    "# TripPal Trips Planner"
   ]
  },
  {
   "cell_type": "code",
   "execution_count": 2,
   "metadata": {},
   "outputs": [
    {
     "ename": "ModuleNotFoundError",
     "evalue": "No module named 'SearchEngine'",
     "output_type": "error",
     "traceback": [
      "\u001b[0;31m---------------------------------------------------------------------------\u001b[0m",
      "\u001b[0;31mModuleNotFoundError\u001b[0m                       Traceback (most recent call last)",
      "\u001b[0;32m<ipython-input-2-0c11bc56d99f>\u001b[0m in \u001b[0;36m<module>\u001b[0;34m\u001b[0m\n\u001b[1;32m     13\u001b[0m     \u001b[0msys\u001b[0m\u001b[0;34m.\u001b[0m\u001b[0mpath\u001b[0m\u001b[0;34m.\u001b[0m\u001b[0mappend\u001b[0m\u001b[0;34m(\u001b[0m\u001b[0mmodule_path\u001b[0m\u001b[0;34m)\u001b[0m\u001b[0;34m\u001b[0m\u001b[0;34m\u001b[0m\u001b[0m\n\u001b[1;32m     14\u001b[0m \u001b[0;34m\u001b[0m\u001b[0m\n\u001b[0;32m---> 15\u001b[0;31m \u001b[0;32mfrom\u001b[0m \u001b[0mSearch_engine\u001b[0m \u001b[0;32mimport\u001b[0m \u001b[0mSearch_Engine\u001b[0m\u001b[0;34m\u001b[0m\u001b[0;34m\u001b[0m\u001b[0m\n\u001b[0m",
      "\u001b[0;32m~/Desktop/Workstation/Trips-planning-system/SearchEngine/Search_engine.py\u001b[0m in \u001b[0;36m<module>\u001b[0;34m\u001b[0m\n\u001b[0;32m----> 1\u001b[0;31m \u001b[0;32mfrom\u001b[0m \u001b[0mSearchEngine\u001b[0m\u001b[0;34m.\u001b[0m\u001b[0mutils\u001b[0m\u001b[0;34m.\u001b[0m\u001b[0mhotels_engine\u001b[0m \u001b[0;32mimport\u001b[0m \u001b[0mHotelSearchEngine\u001b[0m \u001b[0;32mas\u001b[0m \u001b[0mHotels\u001b[0m\u001b[0;34m\u001b[0m\u001b[0;34m\u001b[0m\u001b[0m\n\u001b[0m\u001b[1;32m      2\u001b[0m \u001b[0;32mfrom\u001b[0m \u001b[0mSearchEngine\u001b[0m\u001b[0;34m.\u001b[0m\u001b[0mutils\u001b[0m\u001b[0;34m.\u001b[0m\u001b[0mplaces_engine\u001b[0m \u001b[0;32mimport\u001b[0m \u001b[0mPlacesSearchEngine\u001b[0m \u001b[0;32mas\u001b[0m \u001b[0mPlaces\u001b[0m\u001b[0;34m\u001b[0m\u001b[0;34m\u001b[0m\u001b[0m\n\u001b[1;32m      3\u001b[0m \u001b[0;32mfrom\u001b[0m \u001b[0mSearchEngine\u001b[0m\u001b[0;34m.\u001b[0m\u001b[0mtrip_classes\u001b[0m\u001b[0;34m.\u001b[0m\u001b[0mItem\u001b[0m \u001b[0;32mimport\u001b[0m \u001b[0mItem\u001b[0m\u001b[0;34m\u001b[0m\u001b[0;34m\u001b[0m\u001b[0m\n\u001b[1;32m      4\u001b[0m \u001b[0;32mfrom\u001b[0m \u001b[0menum\u001b[0m \u001b[0;32mimport\u001b[0m \u001b[0mEnum\u001b[0m\u001b[0;34m\u001b[0m\u001b[0;34m\u001b[0m\u001b[0m\n\u001b[1;32m      5\u001b[0m \u001b[0;34m\u001b[0m\u001b[0m\n",
      "\u001b[0;31mModuleNotFoundError\u001b[0m: No module named 'SearchEngine'"
     ]
    }
   ],
   "source": [
    "import numpy as np \n",
    "import pandas as pd\n",
    "import json\n",
    "import pickle\n",
    "import seaborn as sns\n",
    "import matplotlib.pyplot as plt\n",
    "import sys\n",
    "from pathlib import Path\n",
    "\n",
    "module_path = str(Path.cwd().parents[0] / \"SearchEngine\")\n",
    "\n",
    "if module_path not in sys.path:\n",
    "    sys.path.append(module_path)\n",
    "    \n",
    "from Search_engine import Search_Engine "
   ]
  },
  {
   "cell_type": "markdown",
   "metadata": {},
   "source": [
    "## 1. Fetching data"
   ]
  },
  {
   "cell_type": "code",
   "execution_count": null,
   "metadata": {},
   "outputs": [],
   "source": [
    "search_engine = Search_Engine()"
   ]
  },
  {
   "cell_type": "code",
   "execution_count": null,
   "metadata": {},
   "outputs": [],
   "source": [
    "trip = search_engine.collect_trip_components('milan', 3, ['CUL'], 'extended_trip', True, True)"
   ]
  },
  {
   "cell_type": "code",
   "execution_count": null,
   "metadata": {},
   "outputs": [],
   "source": [
    "trip = search_engine.collect_trip_components('milan', 3, ['CUL'], 'extended_trip', False, True)"
   ]
  },
  {
   "cell_type": "code",
   "execution_count": 3,
   "metadata": {},
   "outputs": [],
   "source": [
    "with open('samples/test_trip_data.pkl', 'rb') as inp:\n",
    "    m_trip = pickle.load(inp)"
   ]
  },
  {
   "cell_type": "code",
   "execution_count": null,
   "metadata": {},
   "outputs": [],
   "source": []
  },
  {
   "cell_type": "code",
   "execution_count": 33,
   "metadata": {},
   "outputs": [],
   "source": [
    "with open('test_trip_data.pkl', 'wb') as output:\n",
    "    pickle.dump(list(trip), output, pickle.HIGHEST_PROTOCOL)"
   ]
  },
  {
   "cell_type": "code",
   "execution_count": 28,
   "metadata": {},
   "outputs": [],
   "source": [
    "with open('test_trip_data.pkl', 'rb') as input:\n",
    "    l_trip = pickle.load(input)"
   ]
  },
  {
   "cell_type": "code",
   "execution_count": 30,
   "metadata": {},
   "outputs": [
    {
     "data": {
      "text/plain": [
       "[- Type: cultural, ID: R7828254, Rate: 7, Coordinates: {'lat': 45.47237, 'lon': 9.173939},\n",
       " - Type: cultural, ID: N4754691506, Rate: 7, Coordinates: {'lat': 45.478031, 'lon': 9.122564},\n",
       " - Type: food, ID: N5759888769, Rate: 1, Coordinates: {'lat': 45.480495, 'lon': 9.146198},\n",
       " - Type: hotel, ID: 194687, Rate: 8.6, Coordinates: {'lat': 45.47892, 'lon': 9.14523},\n",
       " - Type: shop, ID: W166623693, Rate: 7, Coordinates: {'lat': 45.465611, 'lon': 9.190014},\n",
       " - Type: food, ID: N1789640322, Rate: 1, Coordinates: {'lat': 45.478992, 'lon': 9.142301},\n",
       " - Type: food, ID: N5759888798, Rate: 1, Coordinates: {'lat': 45.479523, 'lon': 9.14592},\n",
       " - Type: food, ID: N5759888485, Rate: 1, Coordinates: {'lat': 45.480743, 'lon': 9.143989},\n",
       " - Type: shop, ID: N4714788078, Rate: 7, Coordinates: {'lat': 45.465008, 'lon': 9.18996},\n",
       " - Type: shop, ID: W331883966, Rate: 7, Coordinates: {'lat': 45.465611, 'lon': 9.190014},\n",
       " - Type: food, ID: N2870835155, Rate: 1, Coordinates: {'lat': 45.479721, 'lon': 9.146256},\n",
       " - Type: cultural, ID: N613579665, Rate: 7, Coordinates: {'lat': 45.474541, 'lon': 9.17602},\n",
       " - Type: shop, ID: N4381967529, Rate: 7, Coordinates: {'lat': 45.466583, 'lon': 9.189981},\n",
       " - Type: food, ID: N2270327291, Rate: 1, Coordinates: {'lat': 45.478485, 'lon': 9.145986},\n",
       " - Type: shop, ID: W176511666, Rate: 7, Coordinates: {'lat': 45.465576, 'lon': 9.19003},\n",
       " - Type: food, ID: N306597618, Rate: 3, Coordinates: {'lat': 45.461533, 'lon': 9.135897},\n",
       " - Type: food, ID: N5759888797, Rate: 1, Coordinates: {'lat': 45.479588, 'lon': 9.146027},\n",
       " - Type: food, ID: N5759888480, Rate: 1, Coordinates: {'lat': 45.480648, 'lon': 9.143663},\n",
       " - Type: cultural, ID: Q2705493, Rate: 7, Coordinates: {'lat': 45.471813, 'lon': 9.173708},\n",
       " - Type: shop, ID: W166623705, Rate: 7, Coordinates: {'lat': 45.465652, 'lon': 9.19001}]"
      ]
     },
     "execution_count": 30,
     "metadata": {},
     "output_type": "execute_result"
    }
   ],
   "source": [
    "l_trip"
   ]
  },
  {
   "cell_type": "code",
   "execution_count": 4,
   "metadata": {
    "pycharm": {
     "name": "#%%\n"
    }
   },
   "outputs": [
    {
     "data": {
      "text/plain": [
       "{- Type: cafes, ID: N26065697, Rate: 3, Coordinates: {'lat': 40.428734, 'lon': -3.702002},\n",
       " - Type: cafes, ID: N3426617375, Rate: 3, Coordinates: {'lat': 40.422195, 'lon': -3.692342},\n",
       " - Type: cafes, ID: Q641473, Rate: 3, Coordinates: {'lat': 40.41798, 'lon': -3.699533},\n",
       " - Type: cultural, ID: N255288522, Rate: 7, Coordinates: {'lat': 40.423428, 'lon': -3.68889},\n",
       " - Type: cultural, ID: N936505939, Rate: 7, Coordinates: {'lat': 40.432259, 'lon': -3.69773},\n",
       " - Type: cultural, ID: W335583298, Rate: 7, Coordinates: {'lat': 40.422863, 'lon': -3.692843},\n",
       " - Type: fast_food, ID: N1128664813, Rate: 1, Coordinates: {'lat': 40.427082, 'lon': -3.694992},\n",
       " - Type: fast_food, ID: N1316546599, Rate: 1, Coordinates: {'lat': 40.426128, 'lon': -3.692271},\n",
       " - Type: fast_food, ID: N1316546986, Rate: 1, Coordinates: {'lat': 40.426636, 'lon': -3.693338},\n",
       " - Type: historic, ID: N5033133939, Rate: 7, Coordinates: {'lat': 40.424965, 'lon': -3.69284},\n",
       " - Type: historic, ID: Q28503050, Rate: 7, Coordinates: {'lat': 40.425869, 'lon': -3.698839},\n",
       " - Type: historic, ID: Q7126259, Rate: 7, Coordinates: {'lat': 40.426304, 'lon': -3.690776},\n",
       " - Type: historic, ID: W663950471, Rate: 7, Coordinates: {'lat': 40.425343, 'lon': -3.696653},\n",
       " - Type: hotel, ID: 188427, Rate: 9.6, Coordinates: {'lat': 40.427355, 'lon': -3.693215},\n",
       " - Type: malls, ID: Q20021520, Rate: 3, Coordinates: {'lat': 40.407749, 'lon': -3.706778},\n",
       " - Type: malls, ID: Q6065285, Rate: 7, Coordinates: {'lat': 41.651348, 'lon': -4.724822},\n",
       " - Type: malls, ID: W11497560, Rate: 3, Coordinates: {'lat': 40.462902, 'lon': -3.675199},\n",
       " - Type: malls, ID: W118513025, Rate: 3, Coordinates: {'lat': 40.432022, 'lon': -3.687457},\n",
       " - Type: marketplaces, ID: Q6010512, Rate: 7, Coordinates: {'lat': 39.857498, 'lon': -4.022594},\n",
       " - Type: marketplaces, ID: W4518846, Rate: 7, Coordinates: {'lat': 40.415375, 'lon': -3.709016},\n",
       " - Type: marketplaces, ID: W692496123, Rate: 7, Coordinates: {'lat': 40.415924, 'lon': -3.709605},\n",
       " - Type: restaurants, ID: N3634298199, Rate: 7, Coordinates: {'lat': 40.43227, 'lon': -3.697175},\n",
       " - Type: restaurants, ID: N3691975457, Rate: 7, Coordinates: {'lat': 40.420719, 'lon': -3.688825},\n",
       " - Type: restaurants, ID: N3817451058, Rate: 7, Coordinates: {'lat': 40.431656, 'lon': -3.698546},\n",
       " - Type: restaurants, ID: N3863824883, Rate: 3, Coordinates: {'lat': 40.425724, 'lon': -3.688841}}"
      ]
     },
     "execution_count": 4,
     "metadata": {},
     "output_type": "execute_result"
    }
   ],
   "source": [
    "with open('samples/milan_trip_data.pkl','rb') as inp:\n",
    "    m_trip = pickle.load(inp)\n",
    "m_trip"
   ]
  },
  {
   "cell_type": "markdown",
   "metadata": {},
   "source": [
    "## 2. Filtering data"
   ]
  },
  {
   "cell_type": "code",
   "execution_count": null,
   "metadata": {},
   "outputs": [],
   "source": []
  },
  {
   "cell_type": "code",
   "execution_count": null,
   "metadata": {},
   "outputs": [],
   "source": []
  },
  {
   "cell_type": "markdown",
   "metadata": {},
   "source": [
    "## 3. Preview trip data"
   ]
  },
  {
   "cell_type": "code",
   "execution_count": 5,
   "metadata": {},
   "outputs": [],
   "source": []
  },
  {
   "cell_type": "code",
   "execution_count": null,
   "metadata": {},
   "outputs": [],
   "source": []
  },
  {
   "cell_type": "code",
   "execution_count": 3,
   "metadata": {},
   "outputs": [
    {
     "ename": "ModuleNotFoundError",
     "evalue": "No module named 'Item'",
     "output_type": "error",
     "traceback": [
      "\u001b[0;31m---------------------------------------------------------------------------\u001b[0m",
      "\u001b[0;31mModuleNotFoundError\u001b[0m                       Traceback (most recent call last)",
      "\u001b[0;32m<ipython-input-3-daf4f936dd91>\u001b[0m in \u001b[0;36m<module>\u001b[0;34m\u001b[0m\n\u001b[1;32m      5\u001b[0m \u001b[0;34m\u001b[0m\u001b[0m\n\u001b[1;32m      6\u001b[0m \u001b[0;32mfrom\u001b[0m \u001b[0mtrip_classes\u001b[0m\u001b[0;34m.\u001b[0m\u001b[0mItem\u001b[0m \u001b[0;32mimport\u001b[0m \u001b[0mItem\u001b[0m\u001b[0;34m\u001b[0m\u001b[0;34m\u001b[0m\u001b[0m\n\u001b[0;32m----> 7\u001b[0;31m \u001b[0;32mfrom\u001b[0m \u001b[0mtrip_classes\u001b[0m\u001b[0;34m.\u001b[0m\u001b[0mDay\u001b[0m \u001b[0;32mimport\u001b[0m \u001b[0mDay\u001b[0m\u001b[0;34m\u001b[0m\u001b[0;34m\u001b[0m\u001b[0m\n\u001b[0m",
      "\u001b[0;32m~/Desktop/Workstation/Trips-planning-system/SearchEngine/trip_classes/Day.py\u001b[0m in \u001b[0;36m<module>\u001b[0;34m\u001b[0m\n\u001b[0;32m----> 1\u001b[0;31m \u001b[0;32mfrom\u001b[0m \u001b[0mItem\u001b[0m \u001b[0;32mimport\u001b[0m \u001b[0mItem\u001b[0m\u001b[0;34m\u001b[0m\u001b[0;34m\u001b[0m\u001b[0m\n\u001b[0m\u001b[1;32m      2\u001b[0m \u001b[0;34m\u001b[0m\u001b[0m\n\u001b[1;32m      3\u001b[0m \u001b[0;34m\u001b[0m\u001b[0m\n\u001b[1;32m      4\u001b[0m \u001b[0;32mclass\u001b[0m \u001b[0mDay\u001b[0m\u001b[0;34m:\u001b[0m\u001b[0;34m\u001b[0m\u001b[0;34m\u001b[0m\u001b[0m\n\u001b[1;32m      5\u001b[0m     \u001b[0;32mdef\u001b[0m \u001b[0m__init__\u001b[0m\u001b[0;34m(\u001b[0m\u001b[0mself\u001b[0m\u001b[0;34m,\u001b[0m \u001b[0midx\u001b[0m\u001b[0;34m:\u001b[0m \u001b[0mint\u001b[0m\u001b[0;34m,\u001b[0m \u001b[0mitems\u001b[0m\u001b[0;34m:\u001b[0m \u001b[0mlist\u001b[0m\u001b[0;34m)\u001b[0m\u001b[0;34m:\u001b[0m\u001b[0;34m\u001b[0m\u001b[0;34m\u001b[0m\u001b[0m\n",
      "\u001b[0;31mModuleNotFoundError\u001b[0m: No module named 'Item'"
     ]
    }
   ],
   "source": [
    "\n",
    "module_path = str(Path.cwd().parents[0] / \"SearchEngine\")\n",
    "\n",
    "if module_path not in sys.path:\n",
    "    sys.path.append(module_path)\n",
    "    \n",
    "from trip_classes.Item import Item \n",
    "from trip_classes.Day import Day "
   ]
  },
  {
   "cell_type": "code",
   "execution_count": 2,
   "metadata": {},
   "outputs": [],
   "source": [
    "\n",
    "# from Item import Item\n",
    "import pickle\n",
    "from icecream import ic\n",
    "import random\n",
    "\n",
    "from math import floor\n",
    "from haversine import haversine"
   ]
  },
  {
   "cell_type": "code",
   "execution_count": 42,
   "metadata": {},
   "outputs": [
    {
     "name": "stderr",
     "output_type": "stream",
     "text": [
      "ic| optimal_cost: 0.29087107321172834\n"
     ]
    },
    {
     "ename": "NameError",
     "evalue": "name 'Day' is not defined",
     "output_type": "error",
     "traceback": [
      "\u001b[0;31m---------------------------------------------------------------------------\u001b[0m",
      "\u001b[0;31mNameError\u001b[0m                                 Traceback (most recent call last)",
      "\u001b[0;32m<ipython-input-42-2708241cb9b8>\u001b[0m in \u001b[0;36m<module>\u001b[0;34m\u001b[0m\n\u001b[1;32m    123\u001b[0m                 \u001b[0ma\u001b[0m\u001b[0;34m.\u001b[0m\u001b[0mappend\u001b[0m\u001b[0;34m(\u001b[0m\u001b[0ms\u001b[0m\u001b[0;34m)\u001b[0m\u001b[0;34m\u001b[0m\u001b[0;34m\u001b[0m\u001b[0m\n\u001b[1;32m    124\u001b[0m                 \u001b[0;32mif\u001b[0m \u001b[0mlen\u001b[0m\u001b[0;34m(\u001b[0m\u001b[0ma\u001b[0m\u001b[0;34m)\u001b[0m \u001b[0;34m>=\u001b[0m \u001b[0;36m5\u001b[0m\u001b[0;34m:\u001b[0m\u001b[0;34m\u001b[0m\u001b[0;34m\u001b[0m\u001b[0m\n\u001b[0;32m--> 125\u001b[0;31m                     \u001b[0mdays\u001b[0m\u001b[0;34m.\u001b[0m\u001b[0mappend\u001b[0m\u001b[0;34m(\u001b[0m\u001b[0mDay\u001b[0m\u001b[0;34m(\u001b[0m\u001b[0mlen\u001b[0m\u001b[0;34m(\u001b[0m\u001b[0mdays\u001b[0m\u001b[0;34m)\u001b[0m\u001b[0;34m,\u001b[0m \u001b[0ma\u001b[0m\u001b[0;34m)\u001b[0m\u001b[0;34m)\u001b[0m\u001b[0;34m\u001b[0m\u001b[0;34m\u001b[0m\u001b[0m\n\u001b[0m\u001b[1;32m    126\u001b[0m                     \u001b[0ma\u001b[0m \u001b[0;34m=\u001b[0m \u001b[0;34m[\u001b[0m\u001b[0;34m]\u001b[0m\u001b[0;34m\u001b[0m\u001b[0;34m\u001b[0m\u001b[0m\n\u001b[1;32m    127\u001b[0m         \u001b[0;32melse\u001b[0m\u001b[0;34m:\u001b[0m\u001b[0;34m\u001b[0m\u001b[0;34m\u001b[0m\u001b[0m\n",
      "\u001b[0;31mNameError\u001b[0m: name 'Day' is not defined"
     ]
    }
   ],
   "source": [
    "\n",
    "items = list(m_trip)\n",
    "cities_names = []\n",
    "\n",
    "\n",
    "def get_distance(item1: Item, item2: Item):\n",
    "    cord1 = item1.coordinate\n",
    "    cord2 = item2.coordinate\n",
    "    tuple1 = (cord1['lat'], cord1['lon'])\n",
    "    tuple2 = (cord2['lat'], cord2['lon'])\n",
    "    return haversine(tuple1, tuple2)\n",
    "\n",
    "\n",
    "class Planner:\n",
    "    optimal_route = []\n",
    "    optimal_cost = 0\n",
    "    constraints = {\n",
    "        'malls': 1,\n",
    "        'restaurants': 2,\n",
    "        'cafes': 3,\n",
    "        'fast_food': 4,\n",
    "        'architecture': 5,\n",
    "        'cultural': 6,\n",
    "        'sport': 7,\n",
    "        'natural': 8,\n",
    "        'marketplaces': 9,\n",
    "        'hotel': 1000\n",
    "    }\n",
    "\n",
    "    def __init__(self, items):\n",
    "        self.graph = []\n",
    "        # self.G = nx.Graph()\n",
    "        # self.P = nx.Graph()\n",
    "        for i in range(len(items)):\n",
    "            cities_names.append(f\"{items[i].item_id}, Type:{items[i].item_type}\")\n",
    "            self.graph.append([])\n",
    "            for j in range(len(items)):\n",
    "                self.graph[i].append(floor(get_distance(items[i], items[j]) * 1000) / 1000)\n",
    "\n",
    "    def delta(self, n1, n2, n3, n4):\n",
    "        return self.graph[n1][n3] + self.graph[n2][n4] - self.graph[n1][n2] - self.graph[n3][n4]\n",
    "\n",
    "    def plan_two_opt(self, iterations=5):\n",
    "        i = 0\n",
    "        total_costs = []\n",
    "        while i < iterations:\n",
    "            i += 1\n",
    "            initial_route = [0] + random.sample(range(1, len(cities_names)), len(cities_names) - 1)\n",
    "\n",
    "            best_route = initial_route\n",
    "            improved = True\n",
    "            while improved:\n",
    "                improved = False\n",
    "\n",
    "                for i in range(1, len(self.graph) - 2):\n",
    "                    for j in range(i + 1, len(self.graph)):\n",
    "                        if j - i == 1:\n",
    "                            continue\n",
    "                        if self.delta(best_route[i - 1], best_route[i], best_route[j - 1], best_route[j]) < 0:\n",
    "                            best_route[i:j] = best_route[j - 1:i - 1:-1]\n",
    "                            improved = True\n",
    "            path = [items[i] for i in best_route]\n",
    "#             [self.G.add_edge(items[i - 1], items[i]) for i in best_route]\n",
    "            cost = 0\n",
    "            for i in range(1, len(path) - 1):\n",
    "                cost += get_distance(path[i], path[i - 1])\n",
    "\n",
    "                total_costs.append((cost, best_route))\n",
    "        total_costs = sorted(total_costs, key=lambda x: x[0])\n",
    "        self.optimal_cost, self.optimal_route = total_costs[0]\n",
    "        return self.optimal_route, self.optimal_cost, path\n",
    "\n",
    "    def get_region_boundary(self, item):\n",
    "        R = 6378.1  # Radius of the Earth\n",
    "        brng = 1.57  # Bearing is 90 degrees converted to radians.\n",
    "        d = 50  # Distance in km\n",
    "        lat1, lon1 = math.radians(item.coordinate['lat']), math.radians(item.coordinate['lon'])\n",
    "        # lat1 = math.radians(52.20472)  # Current lat point converted to radians\n",
    "        # lon1 = math.radians(0.14056)  # Current long point converted to radians\n",
    "\n",
    "        lat2 = math.asin(math.sin(lat1) * math.cos(d / R) +\n",
    "                         math.cos(lat1) * math.sin(d / R) * math.cos(brng))\n",
    "\n",
    "        lon2 = lon1 + math.atan2(math.sin(brng) * math.sin(d / R) * math.cos(lat1),\n",
    "                                 math.cos(d / R) - math.sin(lat1) * math.sin(lat2))\n",
    "\n",
    "        lat2 = floor(math.degrees(lat2) * 1000) / 1000\n",
    "        lon2 = floor(math.degrees(lon2) * 1000) / 1000\n",
    "        return lat2, lon2\n",
    "\n",
    "\n",
    "def get_sublists(original_list, number_of_sub_list_wanted):\n",
    "    sublists = list()\n",
    "    for sub_list_count in range(number_of_sub_list_wanted):\n",
    "        sublists.append(original_list[sub_list_count::number_of_sub_list_wanted])\n",
    "    return sublists\n",
    "\n",
    "\n",
    "if __name__ == '__main__':\n",
    "    planner = Planner(items)\n",
    "    optimal_route, optimal_cost, path = planner.plan_two_opt(iterations=1)\n",
    "    ic(optimal_cost)\n",
    "\n",
    "    # nx.draw(planner.G, node_color=['red'] * (len(path)), with_labels=True)\n",
    "    # plt.show()\n",
    "    range = []\n",
    "    sub_region = []\n",
    "    cpath = path.copy()\n",
    "    while cpath:\n",
    "        src = cpath[0]\n",
    "        for p in path:\n",
    "            if p in cpath:\n",
    "                dist = get_distance(src, p)\n",
    "                if dist < 50:\n",
    "                    range.append((p, dist))\n",
    "                    cpath.remove(p)\n",
    "        sub_region.append(range)\n",
    "        range = []\n",
    "    days = []\n",
    "    for sub in sub_region:\n",
    "        a = []\n",
    "        if len(sub) > 4:\n",
    "            for s in sub:\n",
    "                a.append(s)\n",
    "                if len(a) >= 5:\n",
    "                    days.append(Day(len(days), a))\n",
    "                    a = []\n",
    "        else:\n",
    "            days.append(Day(len(days), sub))\n",
    "    ic(days)\n"
   ]
  },
  {
   "cell_type": "code",
   "execution_count": 2,
   "metadata": {},
   "outputs": [
    {
     "ename": "ModuleNotFoundError",
     "evalue": "No module named 'search_engine'",
     "output_type": "error",
     "traceback": [
      "\u001b[0;31m---------------------------------------------------------------------------\u001b[0m",
      "\u001b[0;31mModuleNotFoundError\u001b[0m                       Traceback (most recent call last)",
      "\u001b[0;32m<ipython-input-2-83f386fc8144>\u001b[0m in \u001b[0;36m<module>\u001b[0;34m\u001b[0m\n\u001b[1;32m      1\u001b[0m \u001b[0;32mimport\u001b[0m \u001b[0mpickle\u001b[0m\u001b[0;34m\u001b[0m\u001b[0;34m\u001b[0m\u001b[0m\n\u001b[1;32m      2\u001b[0m \u001b[0;32mwith\u001b[0m \u001b[0mopen\u001b[0m\u001b[0;34m(\u001b[0m\u001b[0;34m'samples/milan_trip_data.pkl'\u001b[0m\u001b[0;34m,\u001b[0m \u001b[0;34m'rb'\u001b[0m\u001b[0;34m)\u001b[0m \u001b[0;32mas\u001b[0m \u001b[0minput\u001b[0m\u001b[0;34m:\u001b[0m\u001b[0;34m\u001b[0m\u001b[0;34m\u001b[0m\u001b[0m\n\u001b[0;32m----> 3\u001b[0;31m     \u001b[0ml_trip\u001b[0m \u001b[0;34m=\u001b[0m \u001b[0mpickle\u001b[0m\u001b[0;34m.\u001b[0m\u001b[0mload\u001b[0m\u001b[0;34m(\u001b[0m\u001b[0minput\u001b[0m\u001b[0;34m)\u001b[0m\u001b[0;34m\u001b[0m\u001b[0;34m\u001b[0m\u001b[0m\n\u001b[0m",
      "\u001b[0;31mModuleNotFoundError\u001b[0m: No module named 'search_engine'"
     ]
    }
   ],
   "source": [
    "\n",
    "import pickle\n",
    "with open('samples/milan_trip_data.pkl', 'rb') as input:\n",
    "    l_trip = pickle.load(input)\n"
   ]
  },
  {
   "cell_type": "code",
   "execution_count": null,
   "metadata": {},
   "outputs": [],
   "source": []
  }
 ],
 "metadata": {
  "kernelspec": {
   "display_name": "Python 3",
   "language": "python",
   "name": "python3"
  },
  "language_info": {
   "codemirror_mode": {
    "name": "ipython",
    "version": 3
   },
   "file_extension": ".py",
   "mimetype": "text/x-python",
   "name": "python",
   "nbconvert_exporter": "python",
   "pygments_lexer": "ipython3",
   "version": "3.8.0"
  }
 },
 "nbformat": 4,
 "nbformat_minor": 4
}
