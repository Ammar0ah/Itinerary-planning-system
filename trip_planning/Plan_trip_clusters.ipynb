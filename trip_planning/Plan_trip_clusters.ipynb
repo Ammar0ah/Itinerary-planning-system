{
 "cells": [
  {
   "cell_type": "code",
   "execution_count": null,
   "metadata": {},
   "outputs": [],
   "source": [
    "import hdbscan\n",
    "# from ortools.linear_solver import pywraplp\n",
    "# from ortools.sat.python import cp_model\n",
    "from search_engine.trip_planner.trip_classes.Day import Day\n",
    "from search_engine.trip_planner.trip_classes.Item import Item\n",
    "import numpy as np\n",
    "from sklearn.preprocessing import LabelEncoder\n",
    "import pandas as pd\n",
    "from sklearn.cluster import KMeans,DBSCAN, AgglomerativeClustering\n",
    "# from k_means_constrained import KMeansConstrained\n",
    "# import seaborn as sns; sns.set()\n",
    "import matplotlib.pyplot as plt\n",
    "from sklearn_extra.cluster import KMedoids\n",
    "import pickle\n",
    "from search_engine.trip_planner.trip_classes.Trip import Trip\n",
    "from icecream import ic"
   ]
  },
  {
   "cell_type": "code",
   "execution_count": null,
   "metadata": {},
   "outputs": [],
   "source": [
    "items = [Item(\"hotel\",{\"name\":\"\",\"id\":\"247869\",\"coordinate\":{'lat': 52.515915, 'lon': 13.394078},\"guestrating\":\"9.2\"}),\n",
    "           Item(\"cultural\",{\"name\":\"\",\"id\":\"W205728152\",\"coordinate\":{'lat': 52.516487, 'lon': 13.393826},\"guestrating\":\"7\"}),\n",
    "           Item(\"architecture\",{\"name\":\"\",\"id\":\"Q435399\",\"coordinate\":{'lat': 52.516399, 'lon': 13.3933},\"guestrating\":\"7\"}),\n",
    "           Item(\"architecture\",{\"name\":\"\",\"id\":\"Q2110747\",\"coordinate\":{'lat': 52.516899, 'lon': 13.3961},\"guestrating\":\"7\"}),\n",
    "           Item(\"historic\",{\"name\":\"\",\"id\":\"N3058015348\",\"coordinate\":{'lat': 52.517815, 'lon': 13.393262},\"guestrating\":\"7\"}),\n",
    "           Item(\"sport\",{\"name\":\"\",\"id\":\"R5758790\",\"coordinate\":{'lat': 52.529545, 'lon': 13.39354},\"guestrating\":\"7\"}),\n",
    "           Item(\"shop\",{\"name\":\"\",\"id\":\"N1714250170\",\"coordinate\":{'lat': 52.522987, 'lon': 13.382868},\"guestrating\":\"7\"}),\n",
    "           Item(\"shop\",{\"name\":\"\",\"id\":\"Q1901032\",\"coordinate\":{'lat': 52.519199, 'lon': 13.3836},\"guestrating\":\"7\"}),\n",
    "           Item(\"shop\",{\"name\":\"\",\"id\":\"Q1901029\",\"coordinate\":{'lat': 52.508099, 'lon': 13.3881},\"guestrating\":\"7\"}),\n",
    "           Item(\"historic\",{\"name\":\"\",\"id\":\"N262455591\",\"coordinate\":{'lat': 52.517254, 'lon': 13.392743},\"guestrating\":\"7\"}),\n",
    "           Item(\"cultural\",{\"name\":\"\",\"id\":\"N262455591\",\"coordinate\":{'lat': 52.517254, 'lon': 13.392743},\"guestrating\":\"7\"}),\n",
    "           Item(\"cultural\",{\"name\":\"\",\"id\":\"W15976892\",\"coordinate\":{'lat': 52.516705, 'lon': 13.394738},\"guestrating\":\"7\"}),\n",
    "           Item(\"architecture\",{\"name\":\"\",\"id\":\"Q806775\",\"coordinate\":{'lat': 52.5144, 'lon': 13.3955},\"guestrating\":\"7\"}),\n",
    "           Item(\"cultural\",{\"name\":\"\",\"id\":\"N3058015349\",\"coordinate\":{'lat': 52.517849, 'lon': 13.39373},\"guestrating\":\"7\"}),\n",
    "           Item(\"cultural\",{\"name\":\"\",\"id\":\"N437319063\",\"coordinate\":{'lat': 52.517593, 'lon': 13.393472},\"guestrating\":\"7\"}),\n",
    "           Item(\"architecture\",{\"name\":\"\",\"id\":\"Q1540327\",\"coordinate\":{'lat': 52.516899, 'lon': 13.3921},\"guestrating\":\"7\"}),\n",
    "           Item(\"architecture\",{\"name\":\"\",\"id\":\"Q439297\",\"coordinate\":{'lat': 52.516899, 'lon': 13.3928},\"guestrating\":\"7\"}),\n",
    "           Item(\"historic\",{\"name\":\"\",\"id\":\"N262457570\",\"coordinate\":{'lat': 52.513638, 'lon': 13.392648},\"guestrating\":\"7\"})]"
   ]
  },
  {
   "cell_type": "code",
   "execution_count": null,
   "outputs": [],
   "source": [
    "data = pd.DataFrame({\n",
    "    'id':[item.item_type for item in items],\n",
    "                     'lat':[item.coordinate['lat'] for item in items],\n",
    "                    'lon':[item.coordinate['lon'] for item in items]})\n"
   ],
   "metadata": {
    "collapsed": false,
    "pycharm": {
     "name": "#%%\n"
    }
   }
  },
  {
   "cell_type": "code",
   "execution_count": null,
   "metadata": {},
   "outputs": [],
   "source": []
  },
  {
   "cell_type": "code",
   "execution_count": null,
   "metadata": {},
   "outputs": [],
   "source": [
    "kmeans = KMedoids (n_clusters=5,metric='haversine')\n",
    "data['label'] = kmeans.fit_predict(data[['lat','lon']].values)\n",
    "sorted_data = data.sort_values(by='label')\n"
   ]
  },
  {
   "cell_type": "code",
   "execution_count": null,
   "metadata": {},
   "outputs": [],
   "source": [
    "# kmeans.labels_"
   ]
  },
  {
   "cell_type": "code",
   "execution_count": null,
   "metadata": {},
   "outputs": [],
   "source": []
  },
  {
   "cell_type": "code",
   "execution_count": null,
   "metadata": {},
   "outputs": [],
   "source": [
    "data"
   ]
  },
  {
   "cell_type": "code",
   "execution_count": null,
   "metadata": {},
   "outputs": [],
   "source": [
    "# centers = kmeans.cluster_centers_"
   ]
  },
  {
   "cell_type": "code",
   "execution_count": null,
   "metadata": {},
   "outputs": [],
   "source": [
    "data.plot.scatter(x = 'lat', y = 'lon', c=data['label'], s=50, cmap='viridis')\n",
    "# plt.scatter(centers[:, 0], centers[:, 1], c='black', s=200, alpha=0.5)"
   ]
  },
  {
   "cell_type": "code",
   "execution_count": null,
   "metadata": {},
   "outputs": [],
   "source": [
    "colors = [\n",
    "    'red',\n",
    "    'blue',\n",
    "    'gray',\n",
    "    'darkred',\n",
    "    'lightred',\n",
    "    'orange',\n",
    "    'beige',\n",
    "    'green',\n",
    "    'darkgreen',\n",
    "    'lightgreen',\n",
    "    'darkblue',\n",
    "    'lightblue',\n",
    "    'purple',\n",
    "    'darkpurple',\n",
    "    'pink',\n",
    "    'cadetblue',\n",
    "    'lightgray',\n",
    "    'black'\n",
    "]\n"
   ]
  },
  {
   "cell_type": "code",
   "execution_count": null,
   "outputs": [],
   "source": [
    "\n",
    "# [print(f\"{d['lat']},{d['label']},\") for i,d in sorted_data.iterrows()]\n",
    "kmeans.cluster_centers_"
   ],
   "metadata": {
    "collapsed": false,
    "pycharm": {
     "name": "#%%\n"
    }
   }
  },
  {
   "cell_type": "code",
   "execution_count": null,
   "metadata": {},
   "outputs": [],
   "source": [
    "import folium"
   ]
  },
  {
   "cell_type": "code",
   "execution_count": null,
   "metadata": {},
   "outputs": [],
   "source": [
    "m = folium.Map(location=[52.529412,13.125847])"
   ]
  },
  {
   "cell_type": "code",
   "execution_count": null,
   "metadata": {},
   "outputs": [],
   "source": [
    "[folium.Marker(\n",
    "    location=[item['lat'],item['lon']],\n",
    "    icon=folium.Icon(color=colors[int(item['label'])]),\n",
    "    tooltip=item['label']\n",
    ").add_to(m)  for i,item in data.iterrows()]\n",
    "m"
   ]
  },
  {
   "cell_type": "code",
   "execution_count": null,
   "metadata": {},
   "outputs": [],
   "source": [
    "\n",
    "folium.PolyLine(locations=data[['lat','lon']],weight=5).add_to(m)\n",
    "m"
   ]
  },
  {
   "cell_type": "code",
   "execution_count": null,
   "metadata": {},
   "outputs": [],
   "source": [
    "[print(f\"{d['lat']},{d['lon']},\") for s,d in data.iterrows()]\n",
    "# folium.PolyLine(locations=[[item['lat'],item['lon']] for i,item in sorted_data.iterrows() ],weight=5).add_to(m)\n",
    "# m"
   ]
  },
  {
   "cell_type": "code",
   "execution_count": null,
   "metadata": {},
   "outputs": [],
   "source": [
    "items =  [Item(\"hotel\",{\"name\":\"\",\"id\":\"247869\",\"coordinate\":{'lat': 52.515915, 'lon': 13.394078},\"guestrating\":\"9.2\"}),\n",
    "                       Item(\"food\",{\"name\":\"\",\"id\":\"N6121773112\",\"coordinate\":{'lat': 52.516552, 'lon': 13.403493},\"guestrating\":\"7\"}),\n",
    "                       Item(\"food\",{\"name\":\"\",\"id\":\"N1433120469\",\"coordinate\":{'lat': 52.519344, 'lon': 13.4025},\"guestrating\":\"7\"}),\n",
    "                       Item(\"food\",{\"name\":\"\",\"id\":\"Q869943\",\"coordinate\":{'lat': 52.513332, 'lon': 13.405833},\"guestrating\":\"7\"}),\n",
    "                       Item(\"food\",{\"name\":\"\",\"id\":\"N1244644982\",\"coordinate\":{'lat': 52.51564, 'lon': 13.406953},\"guestrating\":\"7\"}),\n",
    "                       Item(\"food\",{\"name\":\"\",\"id\":\"N622642560\",\"coordinate\":{'lat': 52.523018, 'lon': 13.388484},\"guestrating\":\"7\"}),\n",
    "                       Item(\"food\",{\"name\":\"\",\"id\":\"N89275075\",\"coordinate\":{'lat': 52.518013, 'lon': 13.407163},\"guestrating\":\"7\"}),\n",
    "                       Item(\"food\",{\"name\":\"\",\"id\":\"W48118905\",\"coordinate\":{'lat': 52.508587, 'lon': 13.38711},\"guestrating\":\"7\"}),\n",
    "                       Item(\"food\",{\"name\":\"\",\"id\":\"N2607087946\",\"coordinate\":{'lat': 52.518829, 'lon': 13.408701},\"guestrating\":\"7\"}),\n",
    "                       Item(\"food\",{\"name\":\"\",\"id\":\"N615149024\",\"coordinate\":{'lat': 52.523933, 'lon': 13.402408},\"guestrating\":\"7\"}),\n",
    "                       Item(\"shop\",{\"name\":\"\",\"id\":\"Q1901032\",\"coordinate\":{'lat': 52.519199, 'lon': 13.3836},\"guestrating\":\"7\"}),\n",
    "                       Item(\"shop\",{\"name\":\"\",\"id\":\"Q1901029\",\"coordinate\":{'lat': 52.508099, 'lon': 13.3881},\"guestrating\":\"7\"}),\n",
    "                       Item(\"shop\",{\"name\":\"\",\"id\":\"N1714250170\",\"coordinate\":{'lat': 52.522987, 'lon': 13.382868},\"guestrating\":\"7\"}),\n",
    "                       Item(\"historic\",{\"name\":\"\",\"id\":\"N262455591\",\"coordinate\":{'lat': 52.517254, 'lon': 13.392743},\"guestrating\":\"7\"}),\n",
    "                       Item(\"historic\",{\"name\":\"\",\"id\":\"N3058015348\",\"coordinate\":{'lat': 52.517815, 'lon': 13.393262},\"guestrating\":\"7\"}),\n",
    "                       Item(\"historic\",{\"name\":\"\",\"id\":\"N262457570\",\"coordinate\":{'lat': 52.513638, 'lon': 13.392648},\"guestrating\":\"7\"}),\n",
    "                       Item(\"cultural\",{\"name\":\"\",\"id\":\"W205728152\",\"coordinate\":{'lat': 52.516487, 'lon': 13.393826},\"guestrating\":\"7\"}),\n",
    "                       Item(\"cultural\",{\"name\":\"\",\"id\":\"W15976892\",\"coordinate\":{'lat': 52.516705, 'lon': 13.394738},\"guestrating\":\"7\"}),\n",
    "                       Item(\"cultural\",{\"name\":\"\",\"id\":\"N262455591\",\"coordinate\":{'lat': 52.517254, 'lon': 13.392743},\"guestrating\":\"7\"}),\n",
    "                       Item(\"cultural\",{\"name\":\"\",\"id\":\"N437319063\",\"coordinate\":{'lat': 52.517593, 'lon': 13.393472},\"guestrating\":\"7\"}),\n",
    "                       Item(\"cultural\",{\"name\":\"\",\"id\":\"N3058015349\",\"coordinate\":{'lat': 52.517849, 'lon': 13.39373},\"guestrating\":\"7\"}),\n",
    "                       Item(\"sport\",{\"name\":\"\",\"id\":\"R5758790\",\"coordinate\":{'lat': 52.529545, 'lon': 13.39354},\"guestrating\":\"7\"}),\n",
    "                       Item(\"architecture\",{\"name\":\"\",\"id\":\"Q435399\",\"coordinate\":{'lat': 52.516399, 'lon': 13.3933},\"guestrating\":\"7\"}),\n",
    "                       Item(\"architecture\",{\"name\":\"\",\"id\":\"Q439297\",\"coordinate\":{'lat': 52.516899, 'lon': 13.3928},\"guestrating\":\"7\"}),\n",
    "                       Item(\"architecture\",{\"name\":\"\",\"id\":\"Q1540327\",\"coordinate\":{'lat': 52.516899, 'lon': 13.3921},\"guestrating\":\"7\"}),\n",
    "                       Item(\"architecture\",{\"name\":\"\",\"id\":\"Q2110747\",\"coordinate\":{'lat': 52.516899, 'lon': 13.3961},\"guestrating\":\"7\"}),\n",
    "                       Item(\"architecture\",{\"name\":\"\",\"id\":\"Q806775\",\"coordinate\":{'lat': 52.5144, 'lon': 13.3955},\"guestrating\":\"7\"}),\n",
    "         ]"
   ]
  },
  {
   "cell_type": "code",
   "execution_count": null,
   "metadata": {},
   "outputs": [],
   "source": [
    "\"\"\"Simple travelling salesman problem between cities.\"\"\"\n",
    "\n",
    "from ortools.constraint_solver import routing_enums_pb2\n",
    "from ortools.constraint_solver import pywrapcp\n",
    "import requests\n",
    "import json\n",
    "API_KEY = '5b3ce3597851110001cf624859a9e4cf86a3409abd7387ad2d5cac7a'\n",
    "url = 'https://api.openrouteservice.org/v2/matrix/driving-car'\n",
    "def create_data_model(p_items):\n",
    "    coordinates = []\n",
    "\n",
    "    \"\"\"Stores the data for the problem.\"\"\"\n",
    "    data = {}\n",
    "\n",
    "    for i in range(len(p_items)):\n",
    "        coordinates.append([p_items[i].coordinate['lon'],p_items[i].coordinate['lat']])\n",
    "    body = {'locations': coordinates, 'metrics': ['distance'], 'units': 'km'}\n",
    "    header = {'Authorization': API_KEY}\n",
    "    try:\n",
    "        response = requests.post(url=url, json=body, headers=header)\n",
    "        if response.status_code == requests.codes.ok:\n",
    "            data['distance_matrix'] = json.loads(response.text)['distances']\n",
    "    except ValueError as err:\n",
    "        print('distance matrix err: ', err)        \n",
    "\n",
    "    data['num_vehicles'] = 1\n",
    "    data['depot'] = 0\n",
    "    return data\n",
    "\n",
    "\n",
    "def get_routes(solution, routing, manager):\n",
    "  \"\"\"Get vehicle routes from a solution and store them in an array.\"\"\"\n",
    "  # Get vehicle routes and store them in a two dimensional array whose\n",
    "  # i,j entry is the jth location visited by vehicle i along its route.\n",
    "  routes = []\n",
    "  for route_nbr in range(routing.vehicles()):\n",
    "    index = routing.Start(route_nbr)\n",
    "    route = [manager.IndexToNode(index)]\n",
    "    while not routing.IsEnd(index):\n",
    "      index = solution.Value(routing.NextVar(index))\n",
    "      route.append(manager.IndexToNode(index))\n",
    "    routes.append(route)\n",
    "  return routes\n",
    "def plan_itinerary_LP(p_items):\n",
    "    \"\"\"Entry point of the program.\"\"\"\n",
    "    # Instantiate the data problem.\n",
    "    data = create_data_model(p_items)\n",
    "\n",
    "    # Create the routing index manager.\n",
    "    manager = pywrapcp.RoutingIndexManager(len(data['distance_matrix']),\n",
    "                                           data['num_vehicles'], data['depot'])\n",
    "\n",
    "    # Create Routing Model.\n",
    "    routing = pywrapcp.RoutingModel(manager)\n",
    "\n",
    "\n",
    "    def distance_callback(from_index, to_index):\n",
    "        \"\"\"Returns the distance between the two nodes.\"\"\"\n",
    "        # Convert from routing variable Index to distance matrix NodeIndex.\n",
    "        from_node = manager.IndexToNode(from_index)\n",
    "        to_node = manager.IndexToNode(to_index)\n",
    "        return data['distance_matrix'][from_node][to_node]\n",
    "\n",
    "    transit_callback_index = routing.RegisterTransitCallback(distance_callback)\n",
    "\n",
    "    # Define cost of each arc.\n",
    "    routing.SetArcCostEvaluatorOfAllVehicles(transit_callback_index)\n",
    "\n",
    "    # Setting first solution heuristic.\n",
    "    search_parameters = pywrapcp.DefaultRoutingSearchParameters()\n",
    "    search_parameters.first_solution_strategy = (\n",
    "        routing_enums_pb2.FirstSolutionStrategy.PATH_CHEAPEST_ARC)\n",
    "    # Solve the problem.\n",
    "    solution = routing.SolveWithParameters(search_parameters)\n",
    "\n",
    "    # Print solution on console.\n",
    "    if solution:\n",
    "        # print_solution(manager, routing, solution\n",
    "        path = get_routes(solution,routing,manager)\n",
    "        return [p_items[i] for i in path[0]]\n",
    "\n",
    "# if __name__ == '__main__':\n",
    "#     path = plan_itinerary_LP(items)\n",
    "    # items ="
   ]
  },
  {
   "cell_type": "code",
   "execution_count": null,
   "metadata": {},
   "outputs": [],
   "source": [
    "from haversine import haversine\n",
    "\n",
    "def get_distance(item1: Item, item2: Item):\n",
    "    cord1 = item1.coordinate\n",
    "    cord2 = item2.coordinate\n",
    "    tuple1 = (cord1['lat'], cord1['lon'])\n",
    "    tuple2 = (cord2['lat'], cord2['lon'])\n",
    "    return haversine(tuple1, tuple2)"
   ]
  },
  {
   "cell_type": "code",
   "execution_count": 94,
   "metadata": {},
   "outputs": [],
   "source": [
    "class ClusterPlanner:\n",
    "    def __init__(self,items):\n",
    "        self.n_clusters = 5\n",
    "        self.clusterer = None\n",
    "        self.food_types = ['restaurants', 'fast_food', 'food']\n",
    "        self.items = [item for item in items if item.item_type not in self.food_types] \n",
    "        self.restaurants = [item for item in items if item.item_type in self.food_types]\n",
    "\n",
    "        self.data = pd.DataFrame({\n",
    "                         'index':[i for i in range(len(self.items))],\n",
    "                         'lat':[item.coordinate['lat'] for item in self.items],\n",
    "                         'lon':[item.coordinate['lon'] for item in self.items],\n",
    "                         'type':[item.item_type for item in self.items]})\n",
    "\n",
    "    def cluster_data(self):\n",
    "        self.clusterer = KMeans(n_clusters=self.n_clusters)\n",
    "        self.data['label'] = self.clusterer.fit_predict(self.data[['lat','lon']].values)\n",
    "\n",
    "     # insert restaurant in the day at index\n",
    "    def insert_restaurant(self, poi, idx, day):\n",
    "        distances = []\n",
    "        if self.restaurants:\n",
    "            for rest in self.restaurants:\n",
    "                distances.append(get_distance(poi, rest))\n",
    "            index = distances.index(min(distances))\n",
    "            day.insert_item(self.restaurants[index], idx)\n",
    "            self.restaurants = [self.restaurants[l] for l in range(len(self.restaurants)) if l != index]\n",
    "\n",
    "    def plan_days(self,i=0,days=[]):\n",
    "\n",
    "        if i == self.n_clusters:\n",
    "            return days\n",
    "        places = self.data[self.data['label'] == i]\n",
    "        p_items = [self.items[int(p['index'])] for l,p in places.iterrows()]\n",
    "        day_places = p_items\n",
    "        if len(p_items) > 3:\n",
    "            itinerary = plan_itinerary_LP(p_items)\n",
    "            day_places = itinerary\n",
    "            day = Day(i,itinerary)\n",
    "            days.append(day)\n",
    "\n",
    "        else:\n",
    "            day = Day(i,p_items)\n",
    "            days.append(day)\n",
    "\n",
    "\n",
    "        \n",
    "        for j in range(0,len(day_places),3):\n",
    "            self.insert_restaurant(day_places[j],j,day)\n",
    "\n",
    "        for k in range(0, len(day_places)):\n",
    "            if 'hotel' == day_places[k].item_type and k != 0:\n",
    "               day.swap_items(0, k)\n",
    "\n",
    "\n",
    "        return self.plan_days(i+1,days)\n",
    "\n",
    "                \n",
    "def plan_itinerary_schedule_clusters(items:dict):\n",
    "    trip = Trip(days=[])\n",
    "    for k,city in items.items():\n",
    "        clusterer = ClusterPlanner(city)\n",
    "        clusterer.cluster_data()\n",
    "        plan_days = clusterer.plan_days()\n",
    "       \n",
    "       \n",
    "    trip.add_bulk_days(plan_days)\n",
    "\n",
    "    return trip\n",
    "\n",
    "\n"
   ]
  },
  {
   "cell_type": "code",
   "execution_count": 114,
   "outputs": [
    {
     "name": "stdout",
     "output_type": "stream",
     "text": [
      "Trip Plan:[\n",
      "day0:[hotel, food, architecture, food, architecture, cultural, historic, hotel], \n",
      "day1:[food, shop, shop], \n",
      "day2:[food, sport], \n",
      "day3:[food, historic, architecture, food, architecture, architecture, food, cultural, cultural, food, cultural, cultural, historic, historic], \n",
      "day4:[food, shop], \n",
      "day0:[food, shop], \n",
      "day1:[food, shop, historic], \n",
      "day2:[hotel, food, architecture, food, architecture, architecture, food, architecture, architecture, food, cultural, cultural, food, cultural, cultural, cultural, historic, historic, hotel], \n",
      "day3:[food, shop], \n",
      "day4:[food, sport], \n",
      "day0:[food, historic, architecture], \n",
      "day1:[food, shop], \n",
      "day2:[food, shop], \n",
      "day3:[hotel, food, cultural, architecture], \n",
      "day4:[cultural], \n",
      "day0:[food, historic], \n",
      "day1:[food, shop], \n",
      "day2:[hotel, food, architecture], \n",
      "day3:[food, cultural, cultural, architecture], \n",
      "day4:[shop], \n",
      "day0:[food, architecture], \n",
      "day1:[food, architecture], \n",
      "day2:[food, cultural], \n",
      "day3:[food, shop, shop, historic, cultural, shop], \n",
      "day4:[hotel], \n",
      "day0:[hotel, architecture, shop, architecture, hotel], \n",
      "day1:[historic], \n",
      "day2:[shop], \n",
      "day3:[cultural], \n",
      "day4:[cultural], \n",
      "day0:[food, shop, shop], \n",
      "day1:[food, historic, architecture, food, architecture, architecture, food, cultural, cultural, food, cultural, cultural, historic, historic], \n",
      "day2:[food, sport], \n",
      "day3:[food, shop], \n",
      "day4:[hotel, food, architecture, food, architecture, cultural, historic, hotel], \n",
      "day0:[hotel, food, architecture, food, architecture, architecture, food, architecture, architecture, food, cultural, cultural, food, cultural, cultural, cultural, historic, historic, hotel], \n",
      "day1:[food, sport], \n",
      "day2:[food, shop], \n",
      "day3:[food, shop], \n",
      "day4:[food, shop, historic]]\n"
     ]
    }
   ],
   "source": [
    "with open('../testing/samples/berlin_london_trip_data.pkl', 'rb') as input:\n",
    "    m_trip = pickle.load(input)\n",
    "\n",
    "trip = plan_itinerary_schedule_clusters(m_trip)\n",
    "print(trip)"
   ],
   "metadata": {
    "collapsed": false,
    "pycharm": {
     "name": "#%%\n"
    }
   }
  },
  {
   "cell_type": "code",
   "execution_count": 115,
   "outputs": [],
   "source": [
    "all_path = []\n",
    "for i,day in enumerate(trip.days):\n",
    "    for item in day.items:\n",
    "        all_path.append((item,i))"
   ],
   "metadata": {
    "collapsed": false,
    "pycharm": {
     "name": "#%%\n"
    }
   }
  },
  {
   "cell_type": "code",
   "execution_count": 116,
   "outputs": [],
   "source": [
    "\n",
    "m = folium.Map(location=[52.529412,13.125847])"
   ],
   "metadata": {
    "collapsed": false,
    "pycharm": {
     "name": "#%%\n"
    }
   }
  },
  {
   "cell_type": "code",
   "execution_count": 117,
   "outputs": [
    {
     "ename": "IndexError",
     "evalue": "list index out of range",
     "output_type": "error",
     "traceback": [
      "\u001B[0;31m---------------------------------------------------------------------------\u001B[0m",
      "\u001B[0;31mIndexError\u001B[0m                                Traceback (most recent call last)",
      "\u001B[0;32m/var/folders/_d/tr5dsvjj5zx9d2v_wr7z_4s00000gn/T/ipykernel_24542/2948712418.py\u001B[0m in \u001B[0;36m<module>\u001B[0;34m\u001B[0m\n\u001B[0;32m----> 1\u001B[0;31m [folium.Marker(\n\u001B[0m\u001B[1;32m      2\u001B[0m     \u001B[0mlocation\u001B[0m\u001B[0;34m=\u001B[0m\u001B[0;34m[\u001B[0m\u001B[0mitem\u001B[0m\u001B[0;34m[\u001B[0m\u001B[0;36m0\u001B[0m\u001B[0;34m]\u001B[0m\u001B[0;34m.\u001B[0m\u001B[0mcoordinate\u001B[0m\u001B[0;34m[\u001B[0m\u001B[0;34m'lat'\u001B[0m\u001B[0;34m]\u001B[0m\u001B[0;34m,\u001B[0m\u001B[0mitem\u001B[0m\u001B[0;34m[\u001B[0m\u001B[0;36m0\u001B[0m\u001B[0;34m]\u001B[0m\u001B[0;34m.\u001B[0m\u001B[0mcoordinate\u001B[0m\u001B[0;34m[\u001B[0m\u001B[0;34m'lon'\u001B[0m\u001B[0;34m]\u001B[0m\u001B[0;34m]\u001B[0m\u001B[0;34m,\u001B[0m\u001B[0;34m\u001B[0m\u001B[0;34m\u001B[0m\u001B[0m\n\u001B[1;32m      3\u001B[0m     \u001B[0micon\u001B[0m\u001B[0;34m=\u001B[0m\u001B[0mfolium\u001B[0m\u001B[0;34m.\u001B[0m\u001B[0mIcon\u001B[0m\u001B[0;34m(\u001B[0m\u001B[0mcolor\u001B[0m\u001B[0;34m=\u001B[0m\u001B[0mcolors\u001B[0m\u001B[0;34m[\u001B[0m\u001B[0mitem\u001B[0m\u001B[0;34m[\u001B[0m\u001B[0;36m1\u001B[0m\u001B[0;34m]\u001B[0m\u001B[0;34m]\u001B[0m\u001B[0;34m)\u001B[0m\u001B[0;34m,\u001B[0m\u001B[0;34m\u001B[0m\u001B[0;34m\u001B[0m\u001B[0m\n\u001B[1;32m      4\u001B[0m     \u001B[0;31m# tooltip=item['label']\u001B[0m\u001B[0;34m\u001B[0m\u001B[0;34m\u001B[0m\u001B[0;34m\u001B[0m\u001B[0m\n\u001B[1;32m      5\u001B[0m ).add_to(m)  for item in all_path]\n",
      "\u001B[0;32m/var/folders/_d/tr5dsvjj5zx9d2v_wr7z_4s00000gn/T/ipykernel_24542/2948712418.py\u001B[0m in \u001B[0;36m<listcomp>\u001B[0;34m(.0)\u001B[0m\n\u001B[1;32m      1\u001B[0m [folium.Marker(\n\u001B[1;32m      2\u001B[0m     \u001B[0mlocation\u001B[0m\u001B[0;34m=\u001B[0m\u001B[0;34m[\u001B[0m\u001B[0mitem\u001B[0m\u001B[0;34m[\u001B[0m\u001B[0;36m0\u001B[0m\u001B[0;34m]\u001B[0m\u001B[0;34m.\u001B[0m\u001B[0mcoordinate\u001B[0m\u001B[0;34m[\u001B[0m\u001B[0;34m'lat'\u001B[0m\u001B[0;34m]\u001B[0m\u001B[0;34m,\u001B[0m\u001B[0mitem\u001B[0m\u001B[0;34m[\u001B[0m\u001B[0;36m0\u001B[0m\u001B[0;34m]\u001B[0m\u001B[0;34m.\u001B[0m\u001B[0mcoordinate\u001B[0m\u001B[0;34m[\u001B[0m\u001B[0;34m'lon'\u001B[0m\u001B[0;34m]\u001B[0m\u001B[0;34m]\u001B[0m\u001B[0;34m,\u001B[0m\u001B[0;34m\u001B[0m\u001B[0;34m\u001B[0m\u001B[0m\n\u001B[0;32m----> 3\u001B[0;31m     \u001B[0micon\u001B[0m\u001B[0;34m=\u001B[0m\u001B[0mfolium\u001B[0m\u001B[0;34m.\u001B[0m\u001B[0mIcon\u001B[0m\u001B[0;34m(\u001B[0m\u001B[0mcolor\u001B[0m\u001B[0;34m=\u001B[0m\u001B[0mcolors\u001B[0m\u001B[0;34m[\u001B[0m\u001B[0mitem\u001B[0m\u001B[0;34m[\u001B[0m\u001B[0;36m1\u001B[0m\u001B[0;34m]\u001B[0m\u001B[0;34m]\u001B[0m\u001B[0;34m)\u001B[0m\u001B[0;34m,\u001B[0m\u001B[0;34m\u001B[0m\u001B[0;34m\u001B[0m\u001B[0m\n\u001B[0m\u001B[1;32m      4\u001B[0m     \u001B[0;31m# tooltip=item['label']\u001B[0m\u001B[0;34m\u001B[0m\u001B[0;34m\u001B[0m\u001B[0;34m\u001B[0m\u001B[0m\n\u001B[1;32m      5\u001B[0m ).add_to(m)  for item in all_path]\n",
      "\u001B[0;31mIndexError\u001B[0m: list index out of range"
     ]
    }
   ],
   "source": [
    "[folium.Marker(\n",
    "    location=[item[0].coordinate['lat'],item[0].coordinate['lon']],\n",
    "    icon=folium.Icon(color=colors[item[1]]),\n",
    "    # tooltip=item['label']\n",
    ").add_to(m)  for item in all_path]\n",
    "m"
   ],
   "metadata": {
    "collapsed": false,
    "pycharm": {
     "name": "#%%\n"
    }
   }
  },
  {
   "cell_type": "code",
   "execution_count": null,
   "outputs": [],
   "source": [
    "coords = [[item[0].coordinate['lat'],item[0].coordinate['lon']] for item in all_path]\n",
    "folium.PolyLine(locations=coords,weight=5).add_to(m)\n",
    "\n",
    "m"
   ],
   "metadata": {
    "collapsed": false,
    "pycharm": {
     "name": "#%%\n"
    }
   }
  },
  {
   "cell_type": "code",
   "execution_count": null,
   "outputs": [],
   "source": [],
   "metadata": {
    "collapsed": false,
    "pycharm": {
     "name": "#%%\n"
    }
   }
  }
 ],
 "metadata": {
  "kernelspec": {
   "display_name": "Python 3",
   "language": "python",
   "name": "python3"
  },
  "language_info": {
   "codemirror_mode": {
    "name": "ipython",
    "version": 3
   },
   "file_extension": ".py",
   "mimetype": "text/x-python",
   "name": "python",
   "nbconvert_exporter": "python",
   "pygments_lexer": "ipython3",
   "version": "3.8.3"
  }
 },
 "nbformat": 4,
 "nbformat_minor": 4
}