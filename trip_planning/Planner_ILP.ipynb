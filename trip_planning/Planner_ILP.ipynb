{
 "cells": [
  {
   "cell_type": "code",
   "execution_count": 1,
   "metadata": {},
   "outputs": [],
   "source": [
    "import numpy as np\n",
    "from typing import List\n",
    "\n",
    "from Item import Item"
   ]
  },
  {
   "cell_type": "code",
   "execution_count": 14,
   "metadata": {},
   "outputs": [],
   "source": [
    "\n",
    "def get_distance(item1: Item, item2: Item):\n",
    "    cord1 = item1.coordinate\n",
    "    cord2 = item2.coordinate\n",
    "    tuple1 = (cord1['lat'], cord1['lon'])\n",
    "    tuple2 = (cord2['lat'], cord2['lon'])\n",
    "    return haversine(tuple1, tuple2)\n",
    "\n",
    "items = [Item(\"religion\",{\"name\":\"\",\"id\":\"N976474174\",\"coordinate\":{'lat': 41.00449, 'lon': 28.852695},\"guestrating\":\"3\"}),\n",
    "            Item(\"religion\",{\"name\":\"\",\"id\":\"N4504319791\",\"coordinate\":{'lat': 41.006756, 'lon': 28.915522},\"guestrating\":\"3\"}),\n",
    "            Item(\"religion\",{\"name\":\"\",\"id\":\"Q1551419\",\"coordinate\":{'lat': 40.996113, 'lon': 28.928612},\"guestrating\":\"3\"}),\n",
    "            Item(\"food\",{\"name\":\"\",\"id\":\"N5666215271\",\"coordinate\":{'lat': 40.978504, 'lon': 28.850727},\"guestrating\":\"1\"}),\n",
    "            Item(\"religion\",{\"name\":\"\",\"id\":\"W308038550\",\"coordinate\":{'lat': 41.006027, 'lon': 28.922728},\"guestrating\":\"3\"}),\n",
    "            Item(\"cultural\",{\"name\":\"\",\"id\":\"N415157636\",\"coordinate\":{'lat': 41.005661, 'lon': 28.975103},\"guestrating\":\"7\"}),\n",
    "            Item(\"food\",{\"name\":\"\",\"id\":\"N1785651799\",\"coordinate\":{'lat': 40.978992, 'lon': 28.850582},\"guestrating\":\"1\"}),\n",
    "            Item(\"religion\",{\"name\":\"\",\"id\":\"N4942262672\",\"coordinate\":{'lat': 41.004036, 'lon': 28.927195},\"guestrating\":\"3\"}),\n",
    "            Item(\"food\",{\"name\":\"\",\"id\":\"N5666189576\",\"coordinate\":{'lat': 40.978645, 'lon': 28.850765},\"guestrating\":\"1\"}),\n",
    "            Item(\"religion\",{\"name\":\"\",\"id\":\"W329087345\",\"coordinate\":{'lat': 41.003357, 'lon': 28.928682},\"guestrating\":\"3\"}),\n",
    "            Item(\"historic\",{\"name\":\"\",\"id\":\"N415157636\",\"coordinate\":{'lat': 41.005661, 'lon': 28.975103},\"guestrating\":\"7\"}),\n",
    "            Item(\"food\",{\"name\":\"\",\"id\":\"N5666329959\",\"coordinate\":{'lat': 40.978336, 'lon': 28.850857},\"guestrating\":\"1\"}),\n",
    "            Item(\"cultural\",{\"name\":\"\",\"id\":\"N4966376521\",\"coordinate\":{'lat': 41.045597, 'lon': 28.896212},\"guestrating\":\"3\"}),\n",
    "            Item(\"food\",{\"name\":\"\",\"id\":\"N5666244311\",\"coordinate\":{'lat': 40.978725, 'lon': 28.850624},\"guestrating\":\"1\"}),\n",
    "            Item(\"historic\",{\"name\":\"\",\"id\":\"W23272340\",\"coordinate\":{'lat': 40.99279, 'lon': 28.922642},\"guestrating\":\"3\"}),\n",
    "            Item(\"shop\",{\"name\":\"\",\"id\":\"N5175230621\",\"coordinate\":{'lat': 40.979065, 'lon': 28.854675},\"guestrating\":\"1\"}),\n",
    "            Item(\"cultural\",{\"name\":\"\",\"id\":\"Q5461957\",\"coordinate\":{'lat': 40.972599, 'lon': 28.782539},\"guestrating\":\"3\"}),\n",
    "            Item(\"historic\",{\"name\":\"\",\"id\":\"Q6078807\",\"coordinate\":{'lat': 40.993099, 'lon': 28.886101},\"guestrating\":\"3\"}),\n",
    "            Item(\"food\",{\"name\":\"\",\"id\":\"N1934747147\",\"coordinate\":{'lat': 40.978352, 'lon': 28.850954},\"guestrating\":\"1\"}),\n",
    "            Item(\"food\",{\"name\":\"\",\"id\":\"N1380962608\",\"coordinate\":{'lat': 40.958549, 'lon': 28.838911},\"guestrating\":\"3\"}),\n",
    "            Item(\"historic\",{\"name\":\"\",\"id\":\"Q6091148\",\"coordinate\":{'lat': 40.961559, 'lon': 28.81106},\"guestrating\":\"3\"}),\n",
    "            Item(\"food\",{\"name\":\"\",\"id\":\"W201265843\",\"coordinate\":{'lat': 40.958874, 'lon': 28.836594},\"guestrating\":\"3\"}),\n",
    "            Item(\"cultural\",{\"name\":\"\",\"id\":\"W315607041\",\"coordinate\":{'lat': 40.964237, 'lon': 28.799963},\"guestrating\":\"3\"}),\n",
    "            Item(\"shop\",{\"name\":\"\",\"id\":\"W162139987\",\"coordinate\":{'lat': 40.977695, 'lon': 28.873381},\"guestrating\":\"2\"}),\n",
    "            Item(\"food\",{\"name\":\"\",\"id\":\"W276462508\",\"coordinate\":{'lat': 40.97332, 'lon': 28.793959},\"guestrating\":\"2\"}),\n",
    "            Item(\"hotel\",{\"name\":\"\",\"id\":\"487455\",\"coordinate\":{'lat': 40.9756, 'lon': 28.857127},\"guestrating\":\"8.0\"}),\n",
    "            Item(\"shop\",{\"name\":\"\",\"id\":\"N5667655700\",\"coordinate\":{'lat': 40.995377, 'lon': 28.909706},\"guestrating\":\"2\"}),\n",
    "            Item(\"cultural\",{\"name\":\"\",\"id\":\"Q776353\",\"coordinate\":{'lat': 41.007801, 'lon': 28.9431},\"guestrating\":\"3\"}),\n",
    "            Item(\"food\",{\"name\":\"\",\"id\":\"N1934747999\",\"coordinate\":{'lat': 40.978233, 'lon': 28.851028},\"guestrating\":\"1\"}),\n",
    "            Item(\"shop\",{\"name\":\"\",\"id\":\"W388925021\",\"coordinate\":{'lat': 40.995335, 'lon': 28.909763},\"guestrating\":\"2\"}),\n",
    "            Item(\"cultural\",{\"name\":\"\",\"id\":\"N1037084486\",\"coordinate\":{'lat': 40.964157, 'lon': 28.826265},\"guestrating\":\"3\"}),\n",
    "            Item(\"shop\",{\"name\":\"\",\"id\":\"W162064941\",\"coordinate\":{'lat': 40.974113, 'lon': 28.868027},\"guestrating\":\"2\"}),\n",
    "            Item(\"shop\",{\"name\":\"\",\"id\":\"N3536651095\",\"coordinate\":{'lat': 40.974094, 'lon': 28.867846},\"guestrating\":\"2\"}),\n",
    "            Item(\"historic\",{\"name\":\"\",\"id\":\"W619276340\",\"coordinate\":{'lat': 40.993034, 'lon': 28.92271},\"guestrating\":\"3\"}),\n",
    "            Item(\"food\",{\"name\":\"\",\"id\":\"N5666299648\",\"coordinate\":{'lat': 40.978416, 'lon': 28.8508},\"guestrating\":\"1\"}),\n",
    "            Item(\"food\",{\"name\":\"\",\"id\":\"N5666256910\",\"coordinate\":{'lat': 40.978672, 'lon': 28.849871},\"guestrating\":\"1\"}),\n",
    "            Item(\"historic\",{\"name\":\"\",\"id\":\"W23273442\",\"coordinate\":{'lat': 40.996471, 'lon': 28.921476},\"guestrating\":\"3\"})]"
   ]
  },
  {
   "cell_type": "code",
   "execution_count": 8,
   "metadata": {},
   "outputs": [],
   "source": [
    "\n",
    "class Planner:\n",
    "    optimal_route = []\n",
    "    optimal_cost = 0\n",
    "    types = {'malls', 'restaurants', 'cafes', 'fast_food', 'architecture', 'cultural', 'sport', 'natural',\n",
    "             'marketplaces', 'hotel'}\n",
    "\n",
    "    constraints = {\n",
    "        'malls': 2,\n",
    "        'restaurants': 2,\n",
    "        'cafes': 1,\n",
    "        'fast_food': 1,\n",
    "        'architecture': 3,\n",
    "        'cultural': 3,\n",
    "        'sport': 3,\n",
    "        'natural': 2,\n",
    "        'marketplaces': 2,\n",
    "        'hotel': 1,\n",
    "        'historic': 2,\n",
    "        'shop': 2\n",
    "    }\n",
    "\n",
    "    def __init__(self, items: List):\n",
    "        self.graph = []\n",
    "        self.items = items\n",
    "        for i in range(len(items)):\n",
    "            cities_names.append(f\"{items[i].item_id}, Type:{items[i].item_type}\")\n",
    "            self.graph.append([])\n",
    "            for j in range(len(items)):\n",
    "                self.graph[i].append(floor(get_distance(items[i], items[j]) * 1000) / 1000)\n",
    "\n",
    "    def delta(self, n1, n2, n3, n4):\n",
    "        return self.graph[n1][n3] + self.graph[n2][n4] - self.graph[n1][n2] - self.graph[n3][n4]\n",
    "\n",
    "    def plan_two_opt(self, iterations=5):\n",
    "        i = 0\n",
    "        total_costs = []\n",
    "        while i < iterations:\n",
    "            i += 1\n",
    "            initial_route = [0] + random.sample(range(1, len(cities_names)), len(cities_names) - 1)\n",
    "\n",
    "            best_route = initial_route\n",
    "            improved = True\n",
    "            while improved:\n",
    "                improved = False\n",
    "\n",
    "                for i in range(1, len(self.graph) - 2):\n",
    "                    for j in range(i + 1, len(self.graph)):\n",
    "                        if j - i == 1:\n",
    "                            continue\n",
    "                        if self.delta(best_route[i - 1], best_route[i], best_route[j - 1], best_route[j]) < 0:\n",
    "                            best_route[i:j] = best_route[j - 1:i - 1:-1]\n",
    "                            improved = True\n",
    "            path = [self.items[i] for i in best_route]\n",
    "\n",
    "            cost = 0\n",
    "            for i in range(1, len(path) - 1):\n",
    "                cost += get_distance(path[i], path[i - 1])\n",
    "\n",
    "                total_costs.append((cost, best_route))\n",
    "        total_costs = sorted(total_costs, key=lambda x: x[0])\n",
    "        self.optimal_cost, self.optimal_route = total_costs[0]\n",
    "        return self.optimal_route, self.optimal_cost, path\n",
    "\n",
    "    def arrange_trip(self, path):\n",
    "\n",
    "        p_range = []\n",
    "        sub_region = []\n",
    "        cpath = path.copy()\n",
    "        types = ['hotel', 'malls', 'restaurants', 'cafes', 'fast_food', 'architecture', 'cultural', 'sport', 'natural',\n",
    "                 'marketplaces']\n",
    "\n",
    "        food_types = ['restaurants', 'fast_food']\n",
    "        poi_types = ['cultural', 'architecture']\n",
    "        market_types = ['malls', 'cafes', 'marketplaces']\n",
    "        entertainment_types = ['sport', 'natural']\n",
    "        orders = [['hotel'], food_types, random.choice(poi_types), random.choice(food_types),\n",
    "                  random.choice(market_types)]\n",
    "        type_index = 0\n",
    "        while cpath:\n",
    "            src = cpath[0]\n",
    "            order = orders[type_index]\n",
    "            for p in path:\n",
    "                if p in cpath:\n",
    "                    dist = get_distance(src, p)\n",
    "                    if dist < 50:\n",
    "                        # p_range.append((p, dist))\n",
    "                        p_range.append(p)\n",
    "                        cpath.remove(p)\n",
    "                    else:\n",
    "                        if len(orders) > type_index + 1:\n",
    "                            type_index += 1\n",
    "            sub_region.append(p_range)\n",
    "            p_range = []\n",
    "        days = []\n",
    "        for sub in sub_region:\n",
    "            a = []\n",
    "            if len(sub) > 4:\n",
    "                for s in sub:\n",
    "                    a.append(s)\n",
    "                    if len(a) >= 5:\n",
    "                        days.append(Day(len(days), a))\n",
    "                        a = []\n",
    "            else:\n",
    "                days.append(Day(len(days), sub))\n",
    "        return days\n"
   ]
  },
  {
   "cell_type": "code",
   "execution_count": 9,
   "metadata": {},
   "outputs": [
    {
     "ename": "ModuleNotFoundError",
     "evalue": "No module named 'search_engine'",
     "output_type": "error",
     "traceback": [
      "\u001b[0;31m---------------------------------------------------------------------------\u001b[0m",
      "\u001b[0;31mModuleNotFoundError\u001b[0m                       Traceback (most recent call last)",
      "\u001b[0;32m<ipython-input-9-31471a0119f6>\u001b[0m in \u001b[0;36m<module>\u001b[0;34m\u001b[0m\n\u001b[1;32m      2\u001b[0m \u001b[0;34m\u001b[0m\u001b[0m\n\u001b[1;32m      3\u001b[0m \u001b[0;32mwith\u001b[0m \u001b[0mopen\u001b[0m\u001b[0;34m(\u001b[0m\u001b[0;34m'../../../testing/samples/istanbul_ankara_trip_data.pkl'\u001b[0m\u001b[0;34m,\u001b[0m \u001b[0;34m'rb'\u001b[0m\u001b[0;34m)\u001b[0m \u001b[0;32mas\u001b[0m \u001b[0minput\u001b[0m\u001b[0;34m:\u001b[0m\u001b[0;34m\u001b[0m\u001b[0;34m\u001b[0m\u001b[0m\n\u001b[0;32m----> 4\u001b[0;31m     \u001b[0mm_trip\u001b[0m \u001b[0;34m=\u001b[0m \u001b[0mpickle\u001b[0m\u001b[0;34m.\u001b[0m\u001b[0mload\u001b[0m\u001b[0;34m(\u001b[0m\u001b[0minput\u001b[0m\u001b[0;34m)\u001b[0m\u001b[0;34m\u001b[0m\u001b[0;34m\u001b[0m\u001b[0m\n\u001b[0m",
      "\u001b[0;31mModuleNotFoundError\u001b[0m: No module named 'search_engine'"
     ]
    }
   ],
   "source": [
    "import pickle\n",
    "\n",
    "with open('../../../testing/samples/istanbul_ankara_trip_data.pkl', 'rb') as input:\n",
    "    m_trip = pickle.load(input)\n"
   ]
  },
  {
   "cell_type": "code",
   "execution_count": 6,
   "metadata": {},
   "outputs": [],
   "source": [
    "types = ['hotel', 'hotel','malls', 'restaurants', 'food', 'food', 'cafes', 'fast_food', 'architecture', 'cultural', 'sport', 'natural',\n",
    "         'marketplaces', 'food', 'historic']\n"
   ]
  },
  {
   "cell_type": "code",
   "execution_count": 7,
   "metadata": {},
   "outputs": [],
   "source": [
    "constraints = {\n",
    "    \n",
    "}"
   ]
  },
  {
   "cell_type": "code",
   "execution_count": 2,
   "metadata": {},
   "outputs": [],
   "source": [
    "from ortools.linear_solver import pywraplp"
   ]
  },
  {
   "cell_type": "code",
   "execution_count": 20,
   "metadata": {},
   "outputs": [
    {
     "name": "stdout",
     "output_type": "stream",
     "text": [
      "x = 1\n",
      "y = 0\n",
      "z = 0\n"
     ]
    }
   ],
   "source": [
    "from ortools.sat.python import cp_model\n",
    "\n",
    "\n",
    "def SimpleSatProgram():\n",
    "    \"\"\"Minimal CP-SAT example to showcase calling the solver.\"\"\"\n",
    "    # Creates the model.\n",
    "    # [START model]\n",
    "    model = cp_model.CpModel()\n",
    "    # [END model]\n",
    "\n",
    "    # Creates the variables.\n",
    "    # [START variables]\n",
    "    num_vals = 4\n",
    "    x = model.NewIntVar(0, num_vals - 1, 'x')\n",
    "    y = model.NewIntVar(0, num_vals - 1, 'y')\n",
    "    z = model.NewIntVar(0, num_vals - 1, 'z')\n",
    "    # [END variables]\n",
    "\n",
    "    # Creates the constraints.\n",
    "    # [START constraints]\n",
    "    model.Add(x != y)\n",
    "    # [END constraints]\n",
    "\n",
    "    # Creates a solver and solves the model.\n",
    "    # [START solve]\n",
    "    solver = cp_model.CpSolver()\n",
    "    status = solver.Solve(model)\n",
    "    # [END solve]\n",
    "\n",
    "    if status == cp_model.OPTIMAL:\n",
    "        print('x = %i' % solver.Value(x))\n",
    "        print('y = %i' % solver.Value(y))\n",
    "        print('z = %i' % solver.Value(z))\n",
    "\n",
    "\n",
    "SimpleSatProgram()\n",
    "# [END program]"
   ]
  },
  {
   "cell_type": "code",
   "execution_count": 50,
   "metadata": {},
   "outputs": [],
   "source": [
    "model = pywraplp.Solver.CreateSolver('GLOP')\n",
    "x_morning = model.NumVar(0,1,'x_mor')\n",
    "x_after = model.NumVar(0,5,'x_aft')\n",
    "y_morning = model. NumVar(0,1,'y_mor')\n",
    "y_after = model.NumVar(0,1,'y_aft')"
   ]
  },
  {
   "cell_type": "code",
   "execution_count": 51,
   "metadata": {},
   "outputs": [
    {
     "data": {
      "text/plain": [
       "<ortools.linear_solver.pywraplp.Constraint; proxy of <Swig Object of type 'operations_research::MPConstraint *' at 0x7fb9f0ef6240> >"
      ]
     },
     "execution_count": 51,
     "metadata": {},
     "output_type": "execute_result"
    }
   ],
   "source": [
    "model.Add(x_morning <=1)\n",
    "model.Add(x_after <=5)\n",
    "model.Add(y_morning <=5)\n",
    "model.Add(y_after <=1)\n",
    "\n"
   ]
  },
  {
   "cell_type": "code",
   "execution_count": 75,
   "metadata": {},
   "outputs": [],
   "source": [
    "model.Maximize(x_morning + 2*x_after + 4 *y_morning + 5 * y_after)"
   ]
  },
  {
   "cell_type": "code",
   "execution_count": 76,
   "metadata": {},
   "outputs": [
    {
     "data": {
      "text/plain": [
       "0"
      ]
     },
     "execution_count": 76,
     "metadata": {},
     "output_type": "execute_result"
    }
   ],
   "source": [
    "model.Solve()"
   ]
  },
  {
   "cell_type": "code",
   "execution_count": 77,
   "metadata": {},
   "outputs": [
    {
     "data": {
      "text/plain": [
       "20.0"
      ]
     },
     "execution_count": 77,
     "metadata": {},
     "output_type": "execute_result"
    }
   ],
   "source": [
    "model.Objective().Value()"
   ]
  },
  {
   "cell_type": "code",
   "execution_count": 78,
   "metadata": {},
   "outputs": [
    {
     "data": {
      "text/plain": [
       "5.0"
      ]
     },
     "execution_count": 78,
     "metadata": {},
     "output_type": "execute_result"
    }
   ],
   "source": [
    "x_after.solution_value()\n"
   ]
  },
  {
   "cell_type": "code",
   "execution_count": 79,
   "metadata": {},
   "outputs": [
    {
     "data": {
      "text/plain": [
       "1.0"
      ]
     },
     "execution_count": 79,
     "metadata": {},
     "output_type": "execute_result"
    }
   ],
   "source": [
    "x_morning.solution_value()"
   ]
  },
  {
   "cell_type": "code",
   "execution_count": 80,
   "metadata": {},
   "outputs": [
    {
     "data": {
      "text/plain": [
       "1.0"
      ]
     },
     "execution_count": 80,
     "metadata": {},
     "output_type": "execute_result"
    }
   ],
   "source": [
    "y_after.solution_value()"
   ]
  },
  {
   "cell_type": "code",
   "execution_count": 81,
   "metadata": {},
   "outputs": [
    {
     "data": {
      "text/plain": [
       "1.0"
      ]
     },
     "execution_count": 81,
     "metadata": {},
     "output_type": "execute_result"
    }
   ],
   "source": [
    "y_morning.solution_value()"
   ]
  },
  {
   "cell_type": "code",
   "execution_count": null,
   "metadata": {},
   "outputs": [],
   "source": []
  },
  {
   "cell_type": "code",
   "execution_count": null,
   "metadata": {},
   "outputs": [],
   "source": []
  },
  {
   "cell_type": "code",
   "execution_count": null,
   "metadata": {},
   "outputs": [],
   "source": []
  },
  {
   "cell_type": "code",
   "execution_count": 59,
   "metadata": {},
   "outputs": [],
   "source": [
    "solver = pywraplp.Solver.CreateSolver('GLOP')"
   ]
  },
  {
   "cell_type": "code",
   "execution_count": 66,
   "metadata": {},
   "outputs": [],
   "source": [
    "xi = np.array([solver.NumVar(0,1,str(i)) for i in range(10)])\n",
    "ci = np.array([np.random.randint(0,10) for i in range(10)])\n",
    "pop = [np.random.randint(0,10) for i in range(10)]\n",
    "interest = [np.random.randint(0,10) for i in range(10)]\n"
   ]
  },
  {
   "cell_type": "code",
   "execution_count": 63,
   "metadata": {},
   "outputs": [
    {
     "data": {
      "text/plain": [
       "<ortools.linear_solver.pywraplp.Constraint; proxy of <Swig Object of type 'operations_research::MPConstraint *' at 0x7fb9f0172630> >"
      ]
     },
     "execution_count": 63,
     "metadata": {},
     "output_type": "execute_result"
    }
   ],
   "source": [
    "solver.Add(np.sum([xi[i] for i in range(10)]) == 1)"
   ]
  },
  {
   "cell_type": "code",
   "execution_count": 64,
   "metadata": {},
   "outputs": [
    {
     "data": {
      "text/plain": [
       "<ortools.linear_solver.pywraplp.Constraint; proxy of <Swig Object of type 'operations_research::MPConstraint *' at 0x7fb9f10a4420> >"
      ]
     },
     "execution_count": 64,
     "metadata": {},
     "output_type": "execute_result"
    }
   ],
   "source": [
    "solver.Add(np.sum([ci[i] * xi[i] for i in range(10)]) <= 10)"
   ]
  },
  {
   "cell_type": "code",
   "execution_count": 67,
   "metadata": {},
   "outputs": [],
   "source": [
    "m = 6\n",
    "solver.Maximize(np.sum([xi[i] * (m * interest[i] + (1-m) *pop[i]) for i in range(10)]))"
   ]
  },
  {
   "cell_type": "code",
   "execution_count": 69,
   "metadata": {},
   "outputs": [
    {
     "data": {
      "text/plain": [
       "0"
      ]
     },
     "execution_count": 69,
     "metadata": {},
     "output_type": "execute_result"
    }
   ],
   "source": [
    "solver.Solve()"
   ]
  },
  {
   "cell_type": "code",
   "execution_count": 72,
   "metadata": {},
   "outputs": [
    {
     "data": {
      "text/plain": [
       "179.0"
      ]
     },
     "execution_count": 72,
     "metadata": {},
     "output_type": "execute_result"
    }
   ],
   "source": [
    "solver.Objective().Value()"
   ]
  },
  {
   "cell_type": "code",
   "execution_count": 74,
   "metadata": {},
   "outputs": [
    {
     "data": {
      "text/plain": [
       "[0.0, 1.0, 1.0, 1.0, 1.0, 1.0, 1.0, 1.0, 1.0, 0.0]"
      ]
     },
     "execution_count": 74,
     "metadata": {},
     "output_type": "execute_result"
    }
   ],
   "source": [
    "[(xi[i].solution_value()) for i in range(10)]"
   ]
  },
  {
   "cell_type": "code",
   "execution_count": null,
   "metadata": {},
   "outputs": [],
   "source": []
  },
  {
   "cell_type": "code",
   "execution_count": 3,
   "metadata": {},
   "outputs": [],
   "source": [
    "\n",
    "model = cp_model.CpModel()\n"
   ]
  },
  {
   "cell_type": "code",
   "execution_count": 399,
   "metadata": {},
   "outputs": [],
   "source": [
    "riks_meus_morning = model.NewIntVar(0,1,'a')\n",
    "riks_meus_after = model.NewIntVar(0,1,'b')\n",
    "vangoug_meus_morning = model.NewIntVar(0,1,'c')\n",
    "vangoug_meus_after = model.NewIntVar(0,1,'d')"
   ]
  },
  {
   "cell_type": "code",
   "execution_count": 400,
   "metadata": {},
   "outputs": [
    {
     "data": {
      "text/plain": [
       "<ortools.sat.python.cp_model.Constraint at 0x7fd4f77ee9d0>"
      ]
     },
     "execution_count": 400,
     "metadata": {},
     "output_type": "execute_result"
    }
   ],
   "source": [
    "model.Add(riks_meus_morning + riks_meus_after <= 1)\n",
    "model.Add(vangoug_meus_morning + vangoug_meus_after <=1)\n",
    "model.Add(riks_meus_morning +vangoug_meus_morning  <=1)\n",
    "model.Add(riks_meus_after + vangoug_meus_after <=1)\n",
    "# model.Add(3*riks_meus_morning + 7* riks_meus_after + 2* vangoug_meus_morning + 4* vangoug_meus_after <= 50)"
   ]
  },
  {
   "cell_type": "code",
   "execution_count": 401,
   "metadata": {},
   "outputs": [],
   "source": [
    "model.Maximize(9 * riks_meus_morning + 6 * riks_meus_after + 9 * vangoug_meus_morning + 6 * vangoug_meus_after)"
   ]
  },
  {
   "cell_type": "code",
   "execution_count": 402,
   "metadata": {
    "scrolled": true
   },
   "outputs": [
    {
     "name": "stdout",
     "output_type": "stream",
     "text": [
      "Minimum of objective function: 15\n",
      "\n",
      "riks_meus_morning value:  1\n",
      "riks_meus_after value:  0\n",
      "vangoug_meus_morning value:  0\n",
      "vangoug_meus_after value:  1\n"
     ]
    }
   ],
   "source": [
    "solver = cp_model.CpSolver()\n",
    "status = solver.Solve(model)\n",
    "\n",
    "if status == cp_model.OPTIMAL:\n",
    "    print('Minimum of objective function: %i' % solver.ObjectiveValue())\n",
    "    print()\n",
    "    print('riks_meus_morning value: ', solver.Value(riks_meus_morning))\n",
    "    print('riks_meus_after value: ', solver.Value(riks_meus_after))\n",
    "    print('vangoug_meus_morning value: ', solver.Value(vangoug_meus_morning))\n",
    "    print('vangoug_meus_after value: ', solver.Value(vangoug_meus_after))\n",
    "else:\n",
    "    print('no Optimal Solution')"
   ]
  },
  {
   "cell_type": "code",
   "execution_count": null,
   "metadata": {},
   "outputs": [],
   "source": []
  },
  {
   "cell_type": "code",
   "execution_count": null,
   "metadata": {},
   "outputs": [],
   "source": []
  }
 ],
 "metadata": {
  "kernelspec": {
   "display_name": "Python 3",
   "language": "python",
   "name": "python3"
  },
  "language_info": {
   "codemirror_mode": {
    "name": "ipython",
    "version": 3
   },
   "file_extension": ".py",
   "mimetype": "text/x-python",
   "name": "python",
   "nbconvert_exporter": "python",
   "pygments_lexer": "ipython3",
   "version": "3.8.3"
  }
 },
 "nbformat": 4,
 "nbformat_minor": 4
}
